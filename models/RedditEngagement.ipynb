{
  "nbformat": 4,
  "nbformat_minor": 0,
  "metadata": {
    "colab": {
      "name": "RedditEngagement.ipynb",
      "version": "0.3.2",
      "views": {},
      "default_view": {},
      "provenance": [],
      "collapsed_sections": [],
      "last_runtime": {
        "build_target": "",
        "kind": "local"
      }
    }
  },
  "cells": [
    {
      "metadata": {
        "id": "G8vQ713RmNxM",
        "colab_type": "text"
      },
      "cell_type": "markdown",
      "source": [
        "# Reddit Community Engagement\n",
        "\n",
        "\n"
      ]
    },
    {
      "metadata": {
        "id": "PmKLeDScYznR",
        "colab_type": "text"
      },
      "cell_type": "markdown",
      "source": [
        "## Define Constants and Global Variables"
      ]
    },
    {
      "metadata": {
        "id": "1NM9WQJbYt2d",
        "colab_type": "code",
        "colab": {
          "autoexec": {
            "startup": false,
            "wait_interval": 0
          }
        },
        "cellView": "code"
      },
      "cell_type": "code",
      "source": [
        "\n",
        "import math\n",
        "import matplotlib.pyplot as plt\n",
        "import numpy as np\n",
        "import pandas as pd\n",
        "import tensorflow.google as tf\n",
        "import collections\n",
        "import tempfile\n",
        "import shutil\n",
        "import time\n",
        "import itertools\n",
        "\n",
        "from IPython import display\n",
        "from google3.pyglib import gfile\n",
        "from datetime import datetime\n",
        "\n",
        "\n",
        "# Fraction of the read dataframe to use for learning\n",
        "current_sample_frac=0.99 #@param\n",
        "# Fraction of the ML sample to use for test\n",
        "TEST_FRAC=0.20 #@param\n",
        "\n",
        "\n",
        "# Options: SubredditClassification, MlbSubredditClassification, CommentsRegression, CommentsClassification\n",
        "current_learning_goal = 'SubredditClassification'\n",
        "current_label_col=''\n",
        "current_feature_cols=''\n",
        "\n",
        "EXAMPLE_WEIGHT_COL = 'ExampleWeight'\n",
        "\n",
        "# Add Url and PostId columns so that we can evaluate the quality of our predictions\n",
        "URL_COL = 'Url'\n",
        "REDDIT_POSTURL_COL = 'RedditPostUrl'\n",
        "URL_LIST_COL = 'UrlList'\n",
        "REDDIT_POSTURL_LIST_COL = 'RedditPostUrlList'\n",
        "\n",
        "EMB_DIM_K = 2\n",
        "\n",
        "# Should training runs reuse model directory checkpoints, or restart\n",
        "RESTART_TRAINING=True #@param\n",
        "ENABLE_SAVE_TOFILES=True #@param \n",
        "\n",
        "# Set preferences for outputs, or leave '' empty for defaults\n",
        "OUTPUT_DIR_PREFERENCE='./tfprojects' # if set to '' will create subdir under /tmp\n",
        "RESULTS_DIR_PREFERENCE='' # if set to '' will create subdir under output_dir\n",
        "\n",
        "\n",
        "\"\"\"\n",
        "Options for current_label_col: \n",
        "  Subreddit or RedditSubmitter (for SubredditClassification), \n",
        "  SubredditList (for MlbSubredditClassification),\n",
        "  NumCommentersLogScaled (for CommentsRegression), \n",
        "  NumCommentersBin, NumCommentsBin, ScoreBin (for CommentsClassification)\n",
        "\"\"\"\n",
        "\n",
        "def set_columns_for_goal():\n",
        "  \n",
        "  global current_label_col, current_feature_cols\n",
        "  \n",
        "  if current_learning_goal=='SubredditClassification':\n",
        "    current_label_col = 'Subreddit'\n",
        "  elif current_learning_goal=='MlbSubredditClassification':\n",
        "    current_label_col = 'SubredditList'\n",
        "  elif current_learning_goal=='CommentsRegression':\n",
        "    current_label_col = 'NumCommentersLogScaled'\n",
        "  elif current_learning_goal=='CommentsClassification':\n",
        "    current_label_col = 'ScoreBin'\n",
        "  else:\n",
        "    current_label_col = 'Subreddit'\n",
        "\n",
        "\n",
        "\n",
        "  if current_learning_goal==\"SubredditClassification\":\n",
        "    current_feature_cols = [URL_COL, REDDIT_POSTURL_COL,\"Domain\", \"Tags\", \"BOWEntitiesEncoded\", \"RedditSubmitter\", EXAMPLE_WEIGHT_COL]\n",
        "  elif current_learning_goal==\"MlbSubredditClassification\":\n",
        "    current_feature_cols = [URL_LIST_COL, REDDIT_POSTURL_LIST_COL,\"Domain\", \"Tags\", \"BOWEntitiesEncoded\", \"RedditSubmitterList\", EXAMPLE_WEIGHT_COL] \n",
        "  elif current_learning_goal==\"CommentsRegression\":\n",
        "    current_feature_cols = [URL_COL, REDDIT_POSTURL_COL,\"Domain\", \"Tags\", \"BOWEntitiesEncoded\", \"RedditSubmitter\", \"Subreddit\", EXAMPLE_WEIGHT_COL]\n",
        "  elif current_learning_goal==\"CommentsClassification\":\n",
        "    current_feature_cols = [URL_COL, REDDIT_POSTURL_COL,\"Domain\", \"Tags\", \"BOWEntitiesEncoded\", \"RedditSubmitter\", \"Subreddit\", \"NumCommentersBin\", \"ScoreBin\", EXAMPLE_WEIGHT_COL]\n",
        "  else:\n",
        "    current_feature_cols = [URL_COL, REDDIT_POSTURL_COL,\"Domain\", \"Tags\", \"BOWEntitiesEncoded\", \"RedditSubmitter\", \"Subreddit\", EXAMPLE_WEIGHT_COL]\n",
        "\n",
        "  print('Building model with learning goal: %s, using label column: %s, using feature columns: %s' % (current_learning_goal,current_label_col,current_feature_cols))\n",
        "\n",
        "  return\n",
        "\n",
        "\n",
        " \n",
        "\n"
      ],
      "execution_count": 0,
      "outputs": []
    },
    {
      "metadata": {
        "id": "23UZZozMi_iz",
        "colab_type": "text"
      },
      "cell_type": "markdown",
      "source": [
        "## Define util functions"
      ]
    },
    {
      "metadata": {
        "id": "zLrd3M2cjELf",
        "colab_type": "code",
        "colab": {
          "autoexec": {
            "startup": false,
            "wait_interval": 0
          },
          "output_extras": [
            {
              "item_id": 1
            }
          ],
          "height": 70
        },
        "outputId": "5af2acd4-fe7c-4f33-cca0-2b1a9c17c9ac",
        "executionInfo": {
          "status": "ok",
          "timestamp": 1519084774495,
          "user_tz": 480,
          "elapsed": 177,
          "user": {
            "displayName": "Sergei Sokolenko",
            "photoUrl": "//lh6.googleusercontent.com/-iyAOAY88u7I/AAAAAAAAAAI/AAAAAAAAABA/9ECequ778Ss/s50-c-k-no/photo.jpg",
            "userId": "106652311097239389877"
          }
        }
      },
      "cell_type": "code",
      "source": [
        "\n",
        "\"\"\"\n",
        "Create temp directories for outputs\n",
        "\"\"\"\n",
        "\n",
        "def create_output_dirs():\n",
        "  if OUTPUT_DIR_PREFERENCE=='':\n",
        "    output_dir = tempfile.mkdtemp()\n",
        "  else:\n",
        "    output_dir = OUTPUT_DIR_PREFERENCE\n",
        "  #run_id = datetime.fromtimestamp(time.time()).strftime('%Y%m%d-%H%M')  \n",
        "  \n",
        "  if RESULTS_DIR_PREFERENCE=='':\n",
        "    results_dir = os.path.join(output_dir, 'results')\n",
        "  else:\n",
        "    results_dir = RESULTS_DIR_PREFERENCE\n",
        "  \n",
        "  tb_log_dir = clean_tb_log_dir(output_dir)\n",
        "  \n",
        "  return (output_dir,results_dir, tb_log_dir)\n",
        "\n",
        "def clean_model_dir():\n",
        "  model_dir = os.path.join(output_dir, 'model')\n",
        "  if RESTART_TRAINING==True:\n",
        "    shutil.rmtree(model_dir, ignore_errors=True)\n",
        "    os.makedirs(model_dir)\n",
        "  else:\n",
        "    os.makedirs(model_dir)\n",
        "  return model_dir\n",
        "\n",
        "def clean_tb_log_dir(output_dir):\n",
        "  tb_log_dir = os.path.join(output_dir, 'tb_log_dir')\n",
        "  shutil.rmtree(tb_log_dir, ignore_errors=True)\n",
        "  os.makedirs(tb_log_dir)\n",
        "  return tb_log_dir\n",
        "\n",
        "  \n",
        "\"\"\"\n",
        "Define some basic file I/O ops\n",
        "\"\"\"\n",
        "\n",
        "def log_dataframe(df, name):\n",
        "  if ENABLE_SAVE_TOFILES:    \n",
        "    df.to_csv(gfile.GFile(os.path.join(results_dir,name+'.csv'), 'w'), encoding='utf-8', index_label='dataframe_idx')\n",
        "\n",
        "def load_raw_dataframe(path):\n",
        "  # Load it into a pandas dataframe\n",
        "  df = pd.read_csv(gfile.Open(path), names=types.keys(), dtype=types, na_values=\"?\", header=0)\n",
        "  print(\"Size of dataframe: \" + str(len(df.index)) + \" records\") \n",
        "  \n",
        "  return df \n",
        "\n",
        "(output_dir, results_dir, tb_log_dir) = create_output_dirs()\n",
        "\n",
        "print(\"Location of output (model etc) files: %s \" % output_dir)\n",
        "print(\"Location of Tensorboard log files: %s \" % tb_log_dir)\n",
        "print(\"Location of results files: %s\" % results_dir)\n"
      ],
      "execution_count": 2,
      "outputs": [
        {
          "output_type": "stream",
          "text": [
            "Location of output (model etc) files: ./tfprojects \n",
            "Location of Tensorboard log files: ./tfprojects/tb_log_dir \n",
            "Location of results files: ./tfprojects/results\n"
          ],
          "name": "stdout"
        }
      ]
    },
    {
      "metadata": {
        "id": "qC6s1Lq8a21s",
        "colab_type": "text"
      },
      "cell_type": "markdown",
      "source": [
        "## Get training data from BigQuery"
      ]
    },
    {
      "metadata": {
        "id": "19_mfqZB5NRl",
        "colab_type": "code",
        "colab": {
          "autoexec": {
            "startup": false,
            "wait_interval": 0
          }
        },
        "cellView": "code"
      },
      "cell_type": "code",
      "source": [
        "from colabtools import bigquery\n",
        "\n",
        "PROJECT_ID = 'datancoffee' #@param\n",
        "\n",
        "bqclient = bigquery.Create(project_id=PROJECT_ID) \n",
        "current_exclude_autosubreddits = True\n",
        "  \n",
        "def get_bq_data_for_goal():\n",
        "\n",
        "  query = '''\n",
        "  WITH \n",
        "  s1 AS ( -- Create matches btw reddit and gdelt\n",
        "    SELECT \n",
        "      nwr.DocumentHash,\n",
        "      ARRAY_AGG(DISTINCT nwr.Url) AS MatchedUrls,\n",
        "      ARRAY_AGG(DISTINCT nwr.WebResourceHash) AS MatchedNWRs,\n",
        "      ARRAY_AGG(DISTINCT rwr.WebResourceHash) AS MatchedRWRs, \n",
        "      COUNT(*) AS cnt\n",
        "    FROM discussion_opinions.webresource rwr \n",
        "      INNER JOIN news_opinions.webresource nwr ON nwr.Url = rwr.MetaFields[SAFE_OFFSET(0)]\n",
        "    WHERE \n",
        "      rwr.MetaFields[SAFE_OFFSET(0)] <> 'unavailable' -- 0-index metafield contains external URL\n",
        "      AND nwr._PARTITIONTIME BETWEEN TIMESTAMP('2017-06-01') AND TIMESTAMP('2017-09-30') \n",
        "      AND rwr._PARTITIONTIME BETWEEN TIMESTAMP('2017-06-01') AND TIMESTAMP('2017-09-30') \n",
        "    GROUP BY 1\n",
        "    ORDER BY 5 DESC\n",
        "  )\n",
        "  -- SELECT * FROM s1 LIMIT 1000\n",
        "  -- SELECT COUNT(*) FROM s1 -- 200265\n",
        "  , s2a AS (\n",
        "    SELECT nd.DocumentHash, \n",
        "      nd.PublicationTime AS NewsPubTime,   \n",
        "      nd.Author AS NewsAuthor, \n",
        "      ARRAY_AGG(REGEXP_REPLACE(tag.Tag,\"[ | [:punct:]]\",\"_\")) AS TagArray   \n",
        "    FROM s1\n",
        "      INNER JOIN news_opinions.document nd ON nd.DocumentHash = s1.DocumentHash, UNNEST(nd.Tags) AS tag\n",
        "    GROUP BY 1,2,3\n",
        "  )\n",
        "  , s2b AS (\n",
        "    SELECT tag, COUNT(DISTINCT DocumentHash) cnt FROM s2a, UNNEST(s2a.TagArray) AS tag \n",
        "    GROUP BY 1 HAVING COUNT(DISTINCT DocumentHash) >= 3\n",
        "  )\n",
        "  -- SELECT COUNT(*) FROM s2b -- 52264\n",
        "  , s2c AS (\n",
        "    SELECT DocumentHash, tag2 AS Tag\n",
        "    FROM s2a, UNNEST(s2a.TagArray) AS tag2\n",
        "      INNER JOIN s2b ON s2b.tag = tag2\n",
        "  )\n",
        "  , s2 AS (\n",
        "    SELECT s2a.DocumentHash, \n",
        "      s2a.NewsPubTime,   \n",
        "      s2a.NewsAuthor,\n",
        "      ARRAY_TO_STRING(ARRAY_AGG(s2c.Tag),\" \") AS Tags\n",
        "    FROM s2a\n",
        "      LEFT OUTER JOIN s2c ON s2c.DocumentHash = s2a.DocumentHash\n",
        "    GROUP BY 1,2,3\n",
        "  )\n",
        "  -- SELECT COUNT(*) FROM s2 --198657\n",
        "  -- SELECT * FROM s2 LIMIT 1000\n",
        "  , s3 AS (\n",
        "    SELECT s1.DocumentHash, \n",
        "      rwr.Author AS RedditSubmitter,\n",
        "      rwr.PublicationTime AS RedditPubTime,\n",
        "      rwr.MetaFields[SAFE_OFFSET(4)] AS Domain, \n",
        "      rwr.MetaFields[SAFE_OFFSET(0)] AS Url,\n",
        "      rwr.MetaFields[SAFE_OFFSET(1)] AS Subreddit,\n",
        "      rwr.MetaFields[SAFE_OFFSET(2)] AS Score,\n",
        "      rwr.CollectionItemId AS RedditPostId\n",
        "    FROM s1, UNNEST(s1.MatchedRWRs) AS rwrHash\n",
        "      INNER JOIN discussion_opinions.webresource rwr ON rwr.WebResourceHash = rwrHash\n",
        "    GROUP BY 1,2,3,4,5,6,7,8\n",
        "  ),\n",
        "  -- SELECT * FROM s3 LIMIT 1000\n",
        "  -- SELECT COUNT(*) FROM s3 -- 429648\n",
        "  s3aa AS (\n",
        "    SELECT Url FROM s3 GROUP BY 1\n",
        "  ),\n",
        "  s3ab AS (\n",
        "    SELECT gkg.DocumentIdentifier, gkg.V2Themes, gkg.AllNames, gkg.V2Locations\n",
        "    FROM `gdelt-bq.gdeltv2.gkg` gkg \n",
        "      INNER JOIN s3aa ON s3aa.Url = gkg.DocumentIdentifier\n",
        "  )\n",
        "  ,s3ac AS ( -- Mentions of Themes\n",
        "    SELECT s3ab.DocumentIdentifier, SPLIT(theme_mentions,',')[SAFE_OFFSET(0)] AS Entity, SPLIT(theme_mentions,',')[SAFE_OFFSET(1)] AS Offset\n",
        "    FROM s3ab, UNNEST(SPLIT(s3ab.V2Themes,\";\")) AS theme_mentions\n",
        "  )\n",
        "  -- SELECT * FROM s3ac LIMIT 1000\n",
        "  ,s3ad AS (\n",
        "    SELECT s3ab.DocumentIdentifier, \n",
        "      REPLACE(SPLIT(name_mentions,',')[SAFE_OFFSET(0)],' ','_') AS Name, \n",
        "      SPLIT(name_mentions,',')[SAFE_OFFSET(1)] AS Offset\n",
        "    FROM s3ab, UNNEST(SPLIT(s3ab.AllNames,\";\")) AS name_mentions\n",
        "  )\n",
        "  -- SELECT * FROM s3ad LIMIT 1000\n",
        "  ,s3ae AS ( -- Calculate frequency stats for Name mentions\n",
        "    SELECT Name, COUNT(DISTINCT DocumentIdentifier) FROM s3ad \n",
        "    GROUP BY 1 HAVING COUNT(DISTINCT DocumentIdentifier) >= 10\n",
        "  )\n",
        "  -- SELECT * FROM s3ae LIMIT 1000\n",
        "  ,s3af AS (-- Filter mentions of Names\n",
        "    SELECT s3ad.DocumentIdentifier, s3ad.Name AS Entity, s3ad.Offset\n",
        "    FROM s3ad INNER JOIN s3ae ON s3ae.Name = s3ad.Name\n",
        "  )\n",
        "  -- SELECT DISTINCT Entity FROM s3af\n",
        "  ,s3ag AS ( -- Mentions of Locations\n",
        "    SELECT s3ab.DocumentIdentifier, SPLIT(loc_mentions,'#') AS LocFieldArray \n",
        "    FROM s3ab, UNNEST(SPLIT(s3ab.V2Locations,\";\")) AS loc_mentions\n",
        "  )\n",
        "  -- SELECT * FROM s3ag LIMIT 1000\n",
        "  ,s3ah AS (\n",
        "    SELECT \n",
        "      s3ag.DocumentIdentifier, \n",
        "      REPLACE(REPLACE(LocFieldArray[SAFE_OFFSET(1)],' ','_'),',','_') AS Loc, \n",
        "      LocFieldArray[SAFE_OFFSET(8)] AS Offset\n",
        "    FROM s3ag\n",
        "  )\n",
        "  ,s3ai AS ( -- Calculate frequency stats for Location mentions\n",
        "    SELECT Loc, COUNT(DISTINCT DocumentIdentifier) FROM s3ah \n",
        "    GROUP BY 1 HAVING COUNT(DISTINCT DocumentIdentifier) >= 10\n",
        "  )\n",
        "  -- SELECT * FROM s3ae LIMIT 1000\n",
        "  ,s3aj AS ( -- Filter mentions of Locations\n",
        "    SELECT s3ah.DocumentIdentifier, s3ah.Loc AS Entity, s3ah.Offset\n",
        "    FROM s3ah INNER JOIN s3ai ON s3ai.Loc = s3ah.Loc\n",
        "  )\n",
        "  ,s3ak AS ( -- Join all Themes, Locations, Names\n",
        "    SELECT DocumentIdentifier, Entity, Offset FROM s3ac\n",
        "    UNION ALL\n",
        "    SELECT DocumentIdentifier, Entity, Offset FROM s3af\n",
        "    UNION ALL\n",
        "    SELECT DocumentIdentifier, Entity, Offset FROM s3aj\n",
        "  ) \n",
        "  -- SELECT COUNT(DISTINCT Entity) FROM s3ak -- 36412\n",
        "  ,s3an AS ( -- Create Encoding for Entities\n",
        "    SELECT Entity, cnt, CAST(RANK() OVER (ORDER BY cnt DESC, Entity ASC) AS STRING) AS EntityIdx \n",
        "    FROM (SELECT Entity, COUNT(*) AS cnt FROM s3ak GROUP BY 1) \n",
        "  )\n",
        "  -- SELECT * FROM s3an ORDER BY CAST(EntityIdx AS INT64) ASC LIMIT 1000\n",
        "  ,s3a AS (\n",
        "    SELECT DocumentIdentifier, \n",
        "      STRING_AGG(DISTINCT EntityIdx,\" \") AS BOWEntitiesEncoded, -- For Bag-of-Words encoding order is not important\n",
        "      COUNT(DISTINCT s3ak.Entity) AS BOWEncodingLength,\n",
        "      STRING_AGG(DISTINCT s3ak.Entity,\" \") AS EntitiesBOW \n",
        "      -- STRING_AGG(EntityIdx,\" \" ORDER BY Offset ASC) AS EntitiesSeqEncoded, -- For CNN and RNN analysis, use Entity Sequence\n",
        "      -- COUNT(*) AS EntitiesSeqLength,\n",
        "      -- STRING_AGG(s3ak.Entity,\" \" ORDER BY Offset ASC) AS EntitiesSeq\n",
        "    FROM s3ak\n",
        "      INNER JOIN s3an ON s3ak.Entity = s3an.Entity\n",
        "    WHERE s3ak.Entity<>\"\"\n",
        "    GROUP BY 1\n",
        "  )\n",
        "  -- SELECT * FROM s3a LIMIT 1000\n",
        "  -- SELECT COUNT(*) FROM s3a -- 429648\n",
        "  , s3b AS (\n",
        "    SELECT s3.RedditPostId, \n",
        "      COUNT(DISTINCT rwr.Author) AS NumCommenters,\n",
        "      COUNT(*) AS NumComments\n",
        "    FROM s3\n",
        "      INNER JOIN discussion_opinions.webresource rwr ON rwr.MetaFields[SAFE_OFFSET(3)] = s3.RedditPostId\n",
        "    WHERE rwr.Author <> '[deleted]' \n",
        "      AND rwr.ParentWebResourceHash IS NOT NULL -- exclude the actual post item\n",
        "    GROUP BY 1\n",
        "  )\n",
        "  -- SELECT * FROM s3b WHERE NumComments < 10 ORDER BY NumCommenters DESC LIMIT 1000\n",
        "  -- SELECT COUNT(*) FROM s3b -- 419004\n",
        "  , s4 AS (\n",
        "    SELECT s2.*, \n",
        "      s3.Domain, \n",
        "      s3.Url,\n",
        "      CONCAT(\"https://www.reddit.com/r/\",s3.Subreddit,\"/comments/\", SUBSTR(s3.RedditPostId,4), \"/\") AS RedditPostUrl,\n",
        "      s3.RedditSubmitter,\n",
        "      s3.RedditPubTime,\n",
        "      s3.Subreddit,\n",
        "      s3.Score,\n",
        "      IFNULL(s3b.NumCommenters,0) AS NumCommenters,\n",
        "      IFNULL(s3b.NumComments,0) AS NumComments,\n",
        "      TIMESTAMP_DIFF(s3.RedditPubTime, s2.NewsPubTime,  MINUTE) AS PostSubmitDelay,\n",
        "      s3a.BOWEntitiesEncoded,\n",
        "      s3a.BOWEncodingLength,\n",
        "      s3a.EntitiesBOW\n",
        "      -- s3a.EntitiesSeqEncoded,\n",
        "      -- s3a.EntitiesSeqLength,\n",
        "      -- s3a.EntitiesSeq\n",
        "    FROM s2 \n",
        "      INNER JOIN s3 ON s3.DocumentHash = s2.DocumentHash\n",
        "      LEFT OUTER JOIN s3b ON s3b.RedditPostId = s3.RedditPostId\n",
        "      LEFT OUTER JOIN s3a ON s3a.DocumentIdentifier = s3.Url\n",
        "  )\n",
        "  -- SELECT COUNT(*) FROM s4 -- 425548 / 425548\n",
        "  -- SELECT * FROM s4 LIMIT 1000\n",
        "  , s5 AS ( -- Creates a ranking of Subreddits based on frequency of posts\n",
        "    SELECT Subreddit, cnt, RANK() OVER (ORDER BY cnt DESC) AS SubredditRank\n",
        "    FROM (SELECT Subreddit, COUNT(*) AS cnt FROM s4 GROUP BY 1)\n",
        "  )\n",
        "  , s8 AS (\n",
        "    SELECT s4.*\n",
        "      , (CASE WHEN s5.SubredditRank < 200 THEN 1 ELSE 0 END) AS IsTop200Subreddit\n",
        "    FROM s4\n",
        "      INNER JOIN s5 ON s5.Subreddit = s4.Subreddit\n",
        "  )\n",
        "  , s9 AS (\n",
        "    SELECT\n",
        "      s8.DocumentHash,\n",
        "      s8.RedditPostUrl,\n",
        "      s8.Url,\n",
        "      s8.Domain,\n",
        "      s8.RedditSubmitter AS RedditSubmitter,\n",
        "      s8.Subreddit,\n",
        "      s8.Score,\n",
        "      s8.NumCommenters,\n",
        "      s8.NumComments,\n",
        "      s8.Tags,\n",
        "      IFNULL(s8.BOWEntitiesEncoded,\"\") AS BOWEntitiesEncoded,\n",
        "      IFNULL(s8.BOWEncodingLength,0) AS BOWEncodingLength,\n",
        "      IFNULL(s8.EntitiesBOW,\"\") AS EntitiesBOW,\n",
        "      -- IFNULL(s8.EntitiesSeqEncoded,\"\") AS EntitiesSeqEncoded,\n",
        "      -- IFNULL(s8.EntitiesSeqLength,0) AS EntitiesSeqLength,\n",
        "      -- IFNULL(s8.EntitiesSeq,\"\") AS EntitiesSeq,\n",
        "      (CASE WHEN s8.Subreddit LIKE '%auto' OR s8.Subreddit IN ('AutoNewspaper','UMukhasimAutoNews','newsbotbot','TheNewsFeed') THEN 1 ELSE 0 END) AS IsAutoSubreddit,\n",
        "      IsTop200Subreddit\n",
        "    FROM s8\n",
        "    GROUP BY 1,2,3,4,5,6,7,8,9,10,11,12,13,14,15\n",
        "  )\n",
        "  '''\n",
        "\n",
        "\n",
        "  if current_learning_goal == 'SubredditClassification':\n",
        "    query += '''SELECT Url, RedditPostUrl, Domain, RedditSubmitter, Subreddit, Tags, BOWEntitiesEncoded FROM s9 WHERE IsTop200Subreddit = 1 '''\n",
        "    query += ''' AND s9.IsAutoSubreddit = 0 ''' if current_exclude_autosubreddits == True else ''' '''\n",
        "      \n",
        "  elif current_learning_goal == 'MlbSubredditClassification':\n",
        "    query += '''\n",
        "  SELECT DocumentHash, Domain, Tags, BOWEntitiesEncoded, \n",
        "    STRING_AGG(DISTINCT Url,\" \") AS UrlList,\n",
        "    STRING_AGG(DISTINCT RedditPostUrl,\" \") AS RedditPostUrlList,\n",
        "    STRING_AGG(DISTINCT RedditSubmitter,\" \") AS RedditSubmitterList, \n",
        "    STRING_AGG(DISTINCT Subreddit,\" \") AS SubredditList,\n",
        "    MAX(Score) AS Score,\n",
        "    SUM(NumCommenters) AS NumCommenters,\n",
        "    SUM(NumComments) AS NumComments\n",
        "  FROM s9 \n",
        "  WHERE IsTop200Subreddit = 1 '''\n",
        "    query += ''' AND s9.IsAutoSubreddit = 0 ''' if current_exclude_autosubreddits == True else ''' '''\n",
        "    query += '''GROUP BY 1,2,3,4 '''\n",
        "  else:\n",
        "    query += '''\n",
        "    SELECT \n",
        "      Url, RedditPostUrl, Domain, RedditSubmitter, Subreddit, Tags, \n",
        "      BOWEntitiesEncoded, Score, NumCommenters, NumComments \n",
        "    FROM s9 '''\n",
        "    query += ''' WHERE s9.IsAutoSubreddit = 0 ''' if current_exclude_autosubreddits == True else ''' '''\n",
        "\n",
        "\n",
        "  df = bigquery.ExecuteQuery(query=query, start_row=0, max_rows = 500000, use_legacy_sql=False)\n",
        "  print(\"Size of reddit set: %s records\" % len(df.index)) \n",
        "\n",
        "  # Dump reddit dataset to CSV for inspection\n",
        "  log_dataframe(df,'010-bq-results')\n",
        "\n",
        "  return df\n",
        "\n",
        "reddit_df = pd.DataFrame()\n"
      ],
      "execution_count": 0,
      "outputs": []
    },
    {
      "metadata": {
        "id": "jcxm_vDpmGIB",
        "colab_type": "text"
      },
      "cell_type": "markdown",
      "source": [
        "\n",
        "## Define Transforms of Raw Data into Feature Columns & Input Functions\n",
        "\n"
      ]
    },
    {
      "metadata": {
        "id": "Bf3M1cDCmtvD",
        "colab_type": "code",
        "colab": {
          "autoexec": {
            "startup": false,
            "wait_interval": 0
          }
        },
        "cellView": "code"
      },
      "cell_type": "code",
      "source": [
        "current_inverse_frequency_pow = 0.75 # used in weight_inverse_to_freq\n",
        "\n",
        "\n",
        "def get_train_test_sets(fullset_df, train_size, test_size, seed=None):\n",
        "  \"\"\"\n",
        "  Args:\n",
        "    seed: The random seed to use when shuffling the data. `None` generates a\n",
        "      unique shuffle every run.\n",
        "  Returns:\n",
        "    a pair of training data, and test data:\n",
        "    `(train, test)`\n",
        "  \"\"\"\n",
        "\n",
        "  # Shuffle the data\n",
        "  np.random.seed(seed)\n",
        "\n",
        "  # Split the data into train/test subsets.\n",
        "  sample_size = train_size + test_size\n",
        "  sample_df = fullset_df.sample(n=sample_size, random_state=seed)\n",
        "  train = sample_df.head(train_size)\n",
        "  test = sample_df.drop(train.index)\n",
        "\n",
        "  return (train, test)\n",
        "\n",
        "  \n",
        "# Split the Dataframe\n",
        "def split_features_labels(raw_df, feature_cols, label_col):\n",
        "  \n",
        "  features=pd.DataFrame({k: raw_df[k].values for k in feature_cols})\n",
        "  labels=pd.Series(raw_df[label_col].values)\n",
        "\n",
        "  return (features,labels) \n",
        "\n",
        "def embedding_dims(num_tokens, k=2):\n",
        "  return np.ceil(k * (num_tokens**0.25)).astype(int)\n",
        "\n",
        "\n",
        "def space_tokenizer_fn(iterator):\n",
        "  \n",
        "  for x in iterator:\n",
        "    if x is not None:\n",
        "      yield x.split(\" \")\n",
        "    else:\n",
        "      yield []\n",
        "      \n",
        "    \n",
        "def int_converter_fn(a):\n",
        "  return np.asarray([int(i) for i in a],dtype=int)\n",
        "\n",
        "\n",
        "\"\"\"\n",
        "Normalization utilities compliments of\n",
        "  https://github.com/google/eng-edu/blob/master/ml/cc/exercises/improving_neural_net_performance.ipynb\n",
        "\"\"\"\n",
        "def linear_scale(series):\n",
        "  min_val = series.min()\n",
        "  max_val = series.max()\n",
        "  scale = (max_val - min_val) / 2.0\n",
        "  return series.apply(lambda x:((x - min_val) / scale) - 1.0)\n",
        "\n",
        "def log1p_normalize(series):\n",
        "  return series.apply(lambda x:math.log(x+1.0))\n",
        "\n",
        "def log_10_1p_normalize(series):\n",
        "  return series.apply(lambda x:math.log10(x+1.0))\n",
        "\n",
        "def clip(series, clip_to_min, clip_to_max):\n",
        "  return series.apply(lambda x:(\n",
        "    min(max(x, clip_to_min), clip_to_max)))\n",
        "\n",
        "def z_score_normalize(series):\n",
        "  mean = series.mean()\n",
        "  std_dv = series.std()\n",
        "  return series.apply(lambda x:(x - mean) / std_dv)\n",
        "\n",
        "def binary_threshold(series, threshold):\n",
        "  return series.apply(lambda x:(1 if x > threshold else 0))\n",
        "\n",
        "\"\"\"\n",
        "Label Weighting Functions\n",
        "\"\"\"\n",
        "def scorebin_weight(series):\n",
        "  return series.apply(lambda x:(0.5 if x == \"1\" else 1.0)  )\n",
        "\n",
        "def weight_inverse_to_freq(series):\n",
        "  \"\"\"\n",
        "  Will calculate a weight inverse to the frequency of the label class, \n",
        "    making small classes more important than indicated by their frequency.\n",
        "    Uses sqrt so as not to diminish the importance of very large classes.\n",
        "  \"\"\"\n",
        "  val_counts = series.value_counts()\n",
        "  min_val = val_counts.min()\n",
        "\n",
        "  return series.apply(lambda x: ((min_val / float(val_counts[x]))**current_inverse_frequency_pow) )\n",
        "\n",
        "\n",
        "def add_engineered_columns(df, learning_goal):\n",
        "  \n",
        "  # rule of thumb, NN's train best when the input features are roughly on the same scale\n",
        "  \n",
        "  if learning_goal == \"CommentsRegression\" or learning_goal == \"CommentsClassification\":\n",
        "    df[\"Score\"] = df[\"Score\"].astype(int)    \n",
        "    \n",
        "    df[\"NumCommentersClipped\"] = ( clip(df[\"NumCommenters\"],0, (10**4 - 1)) )\n",
        "    df[\"NumCommentsClipped\"] = ( clip(df[\"NumComments\"],0, (10**5 - 1)) )\n",
        "    df[\"ScoreClipped\"] = ( clip(df[\"Score\"],0, (10**4 - 1)) )\n",
        "    \n",
        "    df[\"NumCommentersLogScaled\"] = ( log_10_1p_normalize(df[\"NumCommentersClipped\"]) )\n",
        "    df[\"NumCommentsLogScaled\"] = ( log_10_1p_normalize(df[\"NumCommentsClipped\"]) )\n",
        "    df[\"ScoreLogScaled\"] = ( log_10_1p_normalize(df[\"ScoreClipped\"]) )\n",
        "    \n",
        "    # This will result in following binning of ScoreBin<-Score: 0: 0, 1: 1-9, 2: 10-99, 3: 100-999, 4: 1000-9999 etc\n",
        "    df[\"NumCommentersBin\"] = (np.ceil(df[\"NumCommentersLogScaled\"]).astype(int).astype(str))\n",
        "    df[\"NumCommentsBin\"] = (np.ceil(df[\"NumCommentsLogScaled\"]).astype(int).astype(str))\n",
        "    df[\"ScoreBin\"] = (np.ceil(df[\"ScoreLogScaled\"]).astype(int).astype(str))\n",
        "  \n",
        "    df[EXAMPLE_WEIGHT_COL] = weight_inverse_to_freq(df[current_label_col])\n",
        "      \n",
        "  else:\n",
        "    df[EXAMPLE_WEIGHT_COL] = 1.0\n",
        "    \n",
        "  return\n",
        "\n",
        "def convert_series_to_nparray(s):\n",
        "  \"\"\"\n",
        "  Converts a pandas Series to a numpy array\n",
        "  \"\"\"\n",
        "  nparray = s.values.astype(type(s[0]))\n",
        "  return nparray\n",
        "\n",
        "\n",
        "def create_train_test_features_labels():\n",
        "\n",
        "  # Add Engineered Columns\n",
        "  add_engineered_columns(reddit_df,learning_goal = current_learning_goal)\n",
        "\n",
        "\n",
        "  # Log results to file\n",
        "  log_dataframe(reddit_df,'030-with-engineered-cols')\n",
        "\n",
        "  reddit_size=len(reddit_df.index)\n",
        "  sample_size=int(np.floor(reddit_size * current_sample_frac))\n",
        "  test_size=int(np.floor(sample_size * TEST_FRAC))\n",
        "  train_size=sample_size - test_size\n",
        "\n",
        "  (train, test) = get_train_test_sets(fullset_df=reddit_df, train_size=train_size, test_size=test_size,seed=3)\n",
        "  print(\"Size of train set: %d records\" %len(train.index)) \n",
        "  print(\"Size of test set: %d records\" % len(test.index)) \n",
        "\n",
        "  # Log results to file\n",
        "  log_dataframe(train,'040-train')\n",
        "  log_dataframe(test,'050-test')\n",
        "\n",
        "\n",
        "  # Create training and validation splits\n",
        "  training_features, training_labels = split_features_labels(raw_df = train, feature_cols=current_feature_cols, label_col=current_label_col)\n",
        "  validation_features, validation_labels = split_features_labels(raw_df = test, feature_cols=current_feature_cols, label_col=current_label_col)\n",
        "\n",
        "  return (training_features, training_labels,validation_features, validation_labels)\n",
        "\n",
        "\n",
        "training_features = pd.DataFrame()\n",
        "training_labels = pd.Series()\n",
        "validation_features = pd.DataFrame()\n",
        "validation_labels = pd.Series()\n",
        "\n"
      ],
      "execution_count": 0,
      "outputs": []
    },
    {
      "metadata": {
        "id": "Xd7Lha3VikJp",
        "colab_type": "text"
      },
      "cell_type": "markdown",
      "source": [
        "## Keras Multi-Label Model"
      ]
    },
    {
      "metadata": {
        "id": "dXNlcAFhixiW",
        "colab_type": "code",
        "colab": {
          "autoexec": {
            "startup": false,
            "wait_interval": 0
          },
          "output_extras": [
            {
              "item_id": 1
            }
          ],
          "height": 34
        },
        "outputId": "065b4002-928f-40c8-c6fe-669335299133",
        "executionInfo": {
          "status": "ok",
          "timestamp": 1519084804997,
          "user_tz": 480,
          "elapsed": 2481,
          "user": {
            "displayName": "Sergei Sokolenko",
            "photoUrl": "//lh6.googleusercontent.com/-iyAOAY88u7I/AAAAAAAAAAI/AAAAAAAAABA/9ECequ778Ss/s50-c-k-no/photo.jpg",
            "userId": "106652311097239389877"
          }
        }
      },
      "cell_type": "code",
      "source": [
        "# Keras Multi-Label Model: Tags -> Subreddit\n",
        "\n",
        "from keras.models import Model, Input\n",
        "from keras.layers import Flatten, Dense, Dropout, Embedding, Activation, LSTM\n",
        "from keras.preprocessing.text import Tokenizer\n",
        "from keras.preprocessing.sequence import pad_sequences\n",
        "from keras.optimizers import Adam\n",
        "import keras.utils\n",
        "from sklearn.preprocessing import MultiLabelBinarizer, LabelEncoder\n",
        "import bisect\n",
        "from sklearn import metrics\n",
        "from keras.utils import plot_model\n",
        "from IPython.display import SVG\n",
        "from keras.utils.vis_utils import model_to_dot\n",
        "from keras.metrics import top_k_categorical_accuracy \n",
        "\n",
        "BATCH_SIZE = 50  \n",
        "VALIDATION_SPLIT = 0.1\n",
        "current_epochs = 2\n",
        "\n",
        "# Hidden Layers configuration\n",
        "HIDDEN_UNITS_L1 = 500\n",
        "DROPOUT_L1 = 0.3\n",
        "\n",
        "TAGS_MAX_SEQUENCE_LENGTH = 7\n",
        "TAGS_MAX_NUM_TOKENS=None # don't limit Tags dictionary \n",
        "\n",
        "ENTITIES_MAX_SEQUENCE_LENGTH = 100\n",
        "ENTITIES_MAX_NUM_TOKENS=None # don't limit Entities dictionary \n",
        "\n",
        "\n",
        "def create_bow_input(train, test, max_sequence_length, max_num_tokens=None):\n",
        "\n",
        "  \"\"\"\n",
        "  Args\n",
        "    max_num_tokens: if None, will use the entire dictionary of tokens found\n",
        "  \"\"\"\n",
        "  \n",
        "  tokenizer = Tokenizer(num_words=max_num_tokens,filters='')\n",
        "  tokenizer.fit_on_texts(train)\n",
        "\n",
        "  vocab_size = len(tokenizer.word_index) \n",
        "  # when creating Embedding layer, we will add 1 to input_dims \n",
        "  # to account for the padding 0\n",
        "  actual_num_tokens = vocab_size if max_num_tokens == None else min(max_num_tokens,vocab_size)\n",
        "\n",
        "  train_enc = tokenizer.texts_to_sequences(train)\n",
        "  test_enc = tokenizer.texts_to_sequences(test)\n",
        "\n",
        "  train_enc = pad_sequences(train_enc, maxlen=max_sequence_length, padding='post')\n",
        "  test_enc = pad_sequences(test_enc, maxlen=max_sequence_length, padding='post')\n",
        "\n",
        "  inverted_dict = dict([[v,k] for k,v in tokenizer.word_index.items()])\n",
        "  \n",
        "  return (train_enc, test_enc, inverted_dict, actual_num_tokens)\n",
        "\n",
        "def create_bow_embedded_layer(train, test, feature_key, max_sequence_length, max_num_tokens ):\n",
        "  \n",
        "  \"\"\"\n",
        "    Args:\n",
        "      train, test - string columns that need to be encoded with integers\n",
        "  \"\"\"\n",
        "  \n",
        "  (train_enc, test_enc, inverted_dict, actual_num_tokens) = create_bow_input(\n",
        "      train=train,\n",
        "      test=test,\n",
        "      max_sequence_length=max_sequence_length,\n",
        "      max_num_tokens=max_num_tokens)\n",
        "\n",
        "  print(\"Using %d unique values for %s\" % (actual_num_tokens,feature_key))\n",
        "\n",
        "  # the very first input layer for the feature\n",
        "  input_layer = Input(shape=(train_enc.shape[1],), name=feature_key)\n",
        "\n",
        "  # Embedding layer \n",
        "  # When embedding, use (tags_actual_num_tokens +1) to account for the padding 0\n",
        "  num_embedding_dims= embedding_dims(actual_num_tokens,EMB_DIM_K)\n",
        "  embedding_layer = Embedding(\n",
        "      input_dim = (actual_num_tokens +1), # to account for the padding 0\n",
        "      output_dim = num_embedding_dims, \n",
        "      input_length=max_sequence_length,\n",
        "      #mask_zero=True\n",
        "      )(input_layer)\n",
        "\n",
        "  # Adding LSTM layer will work best on sequential data. An LSTM will transform \n",
        "  # the vector sequence into a single vector, containing information about the \n",
        "  # entire sequence\n",
        "  # lstm_layer = LSTM(32)(embedding_layer)\n",
        "  # lstm_layer = LSTM(64,return_sequences=True)(embedding_layer)\n",
        "\n",
        "  # Flatten on top of a Embedding will create a bag-of-words matrix\n",
        "  bagofwords_layer = Flatten()(embedding_layer)\n",
        "  \n",
        "  return (train_enc, test_enc, inverted_dict, actual_num_tokens, input_layer, bagofwords_layer)\n",
        "\n",
        "\n",
        "def create_categorical_label_or_feature(training_nparray, test_nparray, min_frequency=0, vocab_order=None):\n",
        "\n",
        "  \"\"\"\n",
        "  Use VocabularyProcessor because sklearn LabelEncoder() does not support \n",
        "  unseen values in test dataset\n",
        "  \"\"\"\n",
        "  vocab_processor = tf.contrib.learn.preprocessing.VocabularyProcessor(\n",
        "      max_document_length = 1, \n",
        "      tokenizer_fn = space_tokenizer_fn,\n",
        "      min_frequency=min_frequency\n",
        "      #vocabulary=tf.contrib.learn.preprocessing.CategoricalVocabulary()\n",
        "  )\n",
        "  \n",
        "  if vocab_order is not None:\n",
        "    vocab_processor.fit(vocab_order)\n",
        "  else:\n",
        "    vocab_processor.fit(training_nparray)\n",
        "    \n",
        "  train_enc = vocab_processor.transform(training_nparray)\n",
        "  # transform test set using training encoding. Words not found in train set will be set as unknown\n",
        "  test_enc = vocab_processor.transform(test_nparray)  \n",
        "  \n",
        "  train_enc = np.array(list(train_enc))\n",
        "  test_enc = np.array(list(test_enc))\n",
        "  \n",
        "  # VocabularyProcessor outputs a word-id matrix where word ids start from 1 \n",
        "  # and 0 means 'no word'. We do not have to subtract 1 from the index, because\n",
        "  # keras to_categorical works well with that. We also use 0 to pad sequences.\n",
        "  classes = vocab_processor.vocabulary_._reverse_mapping\n",
        "  num_classes = len(classes)\n",
        "\n",
        "  # convert to one-hot representation\n",
        "  train_enc = keras.utils.to_categorical(train_enc, num_classes=num_classes) \n",
        "  test_enc = keras.utils.to_categorical(test_enc, num_classes=num_classes)\n",
        "  \n",
        "  return (train_enc, test_enc, num_classes, classes)\n",
        "\n",
        "def create_multi_label(training_nparray, test_nparray, max_num_classes=None):\n",
        "\n",
        "  tokenizer = Tokenizer(num_words=max_num_classes,filters='')\n",
        "  tokenizer.fit_on_texts(training_nparray)\n",
        "\n",
        "  num_classes = len(tokenizer.word_index) + 1 # for the 0 index unknown class\n",
        "  actual_num_classes = num_classes if max_num_classes == None else min(max_num_classes,num_classes)\n",
        "\n",
        "  train_enc = tokenizer.texts_to_matrix(training_nparray)\n",
        "  test_enc = tokenizer.texts_to_matrix(test_nparray)\n",
        "\n",
        "  inverted_dict = dict([[v,k] for k,v in tokenizer.word_index.items()])\n",
        "  \n",
        "  return (train_enc, test_enc, actual_num_classes, inverted_dict)\n",
        "  \n",
        "\n",
        "def compile_and_fit_model(inputs = [], outputs=[], use_sample_weights=False, k_of_top_k_accuracy=5):\n",
        "  \n",
        "  # Prepare output or input: Subreddit\n",
        "  if ('Subreddit' in inputs) or ('Subreddit' in outputs):\n",
        "    global subreddit_train, subreddit_test, num_subreddit_classes, subreddit_classes\n",
        "    subreddit_train_nparray = convert_series_to_nparray(training_labels) if ('Subreddit' in outputs) else training_features['Subreddit']\n",
        "    subreddit_test_nparray = convert_series_to_nparray(validation_labels) if ('Subreddit' in outputs) else validation_features['Subreddit']\n",
        "    \n",
        "    if current_learning_goal in ['SubredditClassification','CommentsClassification']:\n",
        "      (subreddit_train, subreddit_test, num_subreddit_classes, subreddit_classes) = create_categorical_label_or_feature(\n",
        "        training_nparray = subreddit_train_nparray,\n",
        "        test_nparray = subreddit_test_nparray)  \n",
        "\n",
        "    elif current_learning_goal==\"MlbSubredditClassification\":\n",
        "      (subreddit_train, subreddit_test, num_subreddit_classes, subreddit_classes) = create_multi_label(\n",
        "        training_nparray = subreddit_train_nparray,\n",
        "        test_nparray = subreddit_test_nparray)  \n",
        "    print('Using %d unique values for subreddit' % num_subreddit_classes)\n",
        "    # Input layer for subreddit\n",
        "    if ('Subreddit' in inputs):\n",
        "      subreddit_input = Input(shape=(subreddit_train.shape[1],), name='Subreddit')\n",
        "\n",
        "    \n",
        "  # Prepare input: Domain\n",
        "  if 'Domain' in inputs:\n",
        "    global domain_train, domain_test, num_domain_classes, domain_classes\n",
        "    (domain_train, domain_test, num_domain_classes, domain_classes) = create_categorical_label_or_feature(\n",
        "        training_nparray = training_features['Domain'],\n",
        "        test_nparray = validation_features['Domain'])  \n",
        "    print(\"Using %d unique values for domain\" % num_domain_classes)\n",
        "    # Input layer for domain\n",
        "    domain_input = Input(shape=(domain_train.shape[1],), name='Domain')\n",
        "\n",
        "  # Prepare input/output: RedditSubmitter\n",
        "\n",
        "  if ('RedditSubmitter' in inputs) or ('RedditSubmitter' in outputs):\n",
        "    global submitter_train, submitter_test, num_submitter_classes, submitter_classes\n",
        "    (submitter_train, submitter_test, num_submitter_classes, submitter_classes) = create_categorical_label_or_feature(\n",
        "        training_nparray = training_features['RedditSubmitter'],\n",
        "        test_nparray = validation_features['RedditSubmitter'],\n",
        "        min_frequency = 4)  \n",
        "    print(\"Using %d unique values for submitter\" % num_submitter_classes)\n",
        "    # Input layer for submitter\n",
        "    if ('RedditSubmitter' in inputs):\n",
        "      submitter_input = Input(shape=(submitter_train.shape[1],), name='RedditSubmitter')\n",
        "\n",
        "  # Prepare input: Tags\n",
        "\n",
        "  #global tags_train, tags_test, tags_inverted_dict, tags_actual_num_tokens, tags_input, tags_bagofwords\n",
        "  if 'Tags' in inputs:\n",
        "    global tags_train, tags_test, tags_inverted_dict, tags_actual_num_tokens, tags_input, tags_bagofwords\n",
        "    (tags_train, tags_test, tags_inverted_dict, tags_actual_num_tokens, tags_input, tags_bagofwords) = create_bow_embedded_layer(\n",
        "        train = training_features['Tags'], \n",
        "        test = validation_features['Tags'], \n",
        "        feature_key = 'Tags', \n",
        "        max_sequence_length = TAGS_MAX_SEQUENCE_LENGTH,\n",
        "        max_num_tokens = TAGS_MAX_NUM_TOKENS)\n",
        "\n",
        "  # Prepare input: GDELT Entities \n",
        "\n",
        "  if 'BOWEntitiesEncoded' in inputs:\n",
        "    global entities_train, entities_test, entities_inverted_dict, entities_actual_num_tokens, entities_input, entities_bagofwords\n",
        "    (entities_train, entities_test, entities_inverted_dict, entities_actual_num_tokens, entities_input, entities_bagofwords) = create_bow_embedded_layer(\n",
        "        train=training_features['BOWEntitiesEncoded'],\n",
        "        test=validation_features['BOWEntitiesEncoded'],\n",
        "        feature_key = 'BOWEntitiesEncoded',\n",
        "        max_sequence_length=ENTITIES_MAX_SEQUENCE_LENGTH,\n",
        "        max_num_tokens=ENTITIES_MAX_NUM_TOKENS)\n",
        "\n",
        "  if ('ScoreBin' in outputs):\n",
        "    global scorebin_train, scorebin_test, num_scorebin_classes, scorebin_classes\n",
        "    vocab_order = np.sort(training_labels.unique())\n",
        "    (scorebin_train, scorebin_test, num_scorebin_classes, scorebin_classes) = create_categorical_label_or_feature(\n",
        "        training_nparray = training_features['ScoreBin'],\n",
        "        test_nparray = validation_features['ScoreBin'],\n",
        "        vocab_order=vocab_order)  \n",
        "    print(\"Using %d unique values for ScoreBin\" % num_scorebin_classes)\n",
        "\n",
        "  if ('NumCommentersBin' in outputs):\n",
        "    global numcommentersbin_train, numcommentersbin_test, num_numcommentersbin_classes, numcommentersbin_classes\n",
        "    vocab_order = np.sort(training_features['NumCommentersBin'].unique())\n",
        "    (numcommentersbin_train, numcommentersbin_test, num_numcommentersbin_classes, numcommentersbin_classes) = create_categorical_label_or_feature(\n",
        "        training_nparray = training_features['NumCommentersBin'],\n",
        "        test_nparray = validation_features['NumCommentersBin'],\n",
        "        vocab_order=vocab_order) \n",
        "    print(\"Using %d unique values for NumCommentersBin\" % num_numcommentersbin_classes)\n",
        "    \n",
        "    \n",
        "  ##########################  \n",
        "  # Merge input branches and build the model\n",
        "  ##########################\n",
        "\n",
        "  def _create_subreddit_model(model_type='multiclass'):\n",
        "    \"\"\"\n",
        "      Creates Multi-Class Single-Label model using softmax\n",
        "    \"\"\"\n",
        "    \n",
        "    # Bring together the Inputs\n",
        "    input_layers = []\n",
        "    preconcat_layers = []\n",
        "    for s in inputs:\n",
        "      if s=='Tags':\n",
        "        input_layers.append(tags_input)\n",
        "        preconcat_layers.append(tags_bagofwords)\n",
        "      elif s=='BOWEntitiesEncoded':\n",
        "        input_layers.append(entities_input)\n",
        "        preconcat_layers.append(entities_bagofwords)\n",
        "      elif s=='Domain':\n",
        "        input_layers.append(domain_input)\n",
        "        preconcat_layers.append(domain_input)\n",
        "      elif s=='RedditSubmitter':\n",
        "        input_layers.append(submitter_input)\n",
        "        preconcat_layers.append(submitter_input)\n",
        "      elif s=='Subreddit':\n",
        "        input_layers.append(subreddit_input)\n",
        "        preconcat_layers.append(subreddit_input)\n",
        "\n",
        "    if len(preconcat_layers) > 1:\n",
        "      joined_1 = keras.layers.concatenate(preconcat_layers, axis=-1)\n",
        "    elif len(preconcat_layers) == 1:\n",
        "      joined_1 = preconcat_layers[0]\n",
        "    else:\n",
        "      raise ValueError('No valid inputs among %s' % (','.join(inputs)))\n",
        "      \n",
        "    # Connect to Hidden Layers\n",
        "    hidden_1 = Dense(HIDDEN_UNITS_L1, activation='relu')(joined_1)\n",
        "    dropout_1 = Dropout(DROPOUT_L1)(hidden_1)\n",
        "    \n",
        "    if model_type=='multiclass':\n",
        "      output_activation='softmax'\n",
        "      loss_function = 'categorical_crossentropy'\n",
        "    elif model_type=='multilabel':\n",
        "      output_activation='sigmoid'\n",
        "      loss_function = 'binary_crossentropy'\n",
        "    \n",
        "    # Add the outputs\n",
        "    output_layers = []\n",
        "    for s in outputs:\n",
        "      if s=='Subreddit':\n",
        "        layer = Dense(num_subreddit_classes, activation=output_activation, name='subreddit_output')(dropout_1)\n",
        "        output_layers.append(layer)\n",
        "      elif s=='RedditSubmitter':\n",
        "        layer = Dense(num_submitter_classes, activation=output_activation, name='submitter_output')(dropout_1)\n",
        "        output_layers.append(layer)\n",
        "      elif s=='ScoreBin':\n",
        "        layer = Dense(num_scorebin_classes, activation=output_activation, name='scorebin_output')(dropout_1)\n",
        "        output_layers.append(layer)\n",
        "      elif s=='NumCommentersBin':\n",
        "        layer = Dense(num_numcommentersbin_classes, activation=output_activation, name='numcommentersbin_output')(dropout_1)\n",
        "        output_layers.append(layer)\n",
        "        \n",
        "    model = Model(inputs=input_layers, outputs=output_layers)\n",
        "\n",
        "    \n",
        "    def top_k_accuracy(y_true, y_pred):\n",
        "      return top_k_categorical_accuracy(y_true, y_pred, k=k_of_top_k_accuracy)\n",
        "    \n",
        "    if k_of_top_k_accuracy==5:\n",
        "      metrics=['accuracy','top_k_categorical_accuracy']\n",
        "    else:\n",
        "      metrics=['accuracy',top_k_accuracy]\n",
        "    \n",
        "    model.compile(optimizer='adam',\n",
        "                  loss=loss_function,\n",
        "                  # loss_weights=[1., 0.2]\n",
        "                  metrics=metrics)\n",
        "                 \n",
        "\n",
        "    return model\n",
        "  \n",
        "  global x_train, x_test, y_train, y_test\n",
        "  \n",
        "  if current_learning_goal in ['SubredditClassification','CommentsClassification']:\n",
        "    model = _create_subreddit_model(model_type='multiclass')  \n",
        "  elif current_learning_goal==\"MlbSubredditClassification\":\n",
        "    model = _create_subreddit_model(model_type='multilabel')\n",
        "\n",
        "  x_train = {}\n",
        "  x_test = {}\n",
        "  \n",
        "  for s in inputs:\n",
        "    \n",
        "    if s=='Tags':\n",
        "      x_train['Tags'] = tags_train\n",
        "      x_test['Tags'] = tags_test\n",
        "    elif s=='BOWEntitiesEncoded':\n",
        "      x_train['BOWEntitiesEncoded'] = entities_train\n",
        "      x_test['BOWEntitiesEncoded'] = entities_test\n",
        "    elif s=='Domain':\n",
        "      x_train['Domain'] = domain_train\n",
        "      x_test['Domain'] = domain_test\n",
        "    elif s=='RedditSubmitter':\n",
        "      x_train['RedditSubmitter'] = submitter_train\n",
        "      x_test['RedditSubmitter'] = submitter_test\n",
        "    elif s=='Subreddit':\n",
        "      x_train['Subreddit'] = subreddit_train\n",
        "      x_test['Subreddit'] = subreddit_test\n",
        "   \n",
        "  y_train = {}\n",
        "  y_test = {}\n",
        "\n",
        "  for s in outputs:\n",
        "    \n",
        "    if s=='Subreddit':\n",
        "      y_train['subreddit_output'] = subreddit_train\n",
        "      y_test['subreddit_output'] = subreddit_test\n",
        "    elif s=='RedditSubmitter':\n",
        "      y_train['submitter_output'] = submitter_train\n",
        "      y_test['submitter_output'] = submitter_test\n",
        "    elif s=='ScoreBin':\n",
        "      y_train['scorebin_output'] = scorebin_train\n",
        "      y_test['scorebin_output'] = scorebin_test\n",
        "    elif s=='NumCommentersBin':\n",
        "      y_train['numcommentersbin_output'] = numcommentersbin_train\n",
        "      y_test['numcommentersbin_output'] = numcommentersbin_test\n",
        "    \n",
        "  \n",
        "  \"\"\"\n",
        "  callbacks = [\n",
        "      keras.callbacks.TensorBoard(\n",
        "          log_dir=tb_log_dir,                  \n",
        "          histogram_freq=1,                      \n",
        "          embeddings_freq=1,                     \n",
        "      )\n",
        "  ]\n",
        "  \"\"\"\n",
        "  \n",
        "  if use_sample_weights==True:\n",
        "    if len(outputs) == 1:\n",
        "      sample_weight = np.array(training_features[EXAMPLE_WEIGHT_COL])\n",
        "    else:\n",
        "      sample_weight = []\n",
        "      for s in outputs:\n",
        "        sample_weight.append(np.array(training_features[EXAMPLE_WEIGHT_COL]))\n",
        "  else:\n",
        "    sample_weight = None\n",
        "\n",
        "  \n",
        "  history = model.fit(x_train, y_train, \n",
        "            epochs=current_epochs, batch_size=BATCH_SIZE,\n",
        "            verbose=2, validation_split=VALIDATION_SPLIT,\n",
        "            sample_weight = sample_weight)\n",
        "\n",
        "  score = model.evaluate(x_test, y_test, batch_size=BATCH_SIZE, verbose=0)\n",
        "\n",
        "  if len(outputs)==1:\n",
        "    print('Test data loss: %.3f; top 1 accuracy: %.3f; top %d accuracy: %.3f;'%(score[0],score[1], k_of_top_k_accuracy, score[2]))\n",
        "  elif len(outputs)==2:\n",
        "    print('Test metrics: total loss: %.3f; output_1 loss: %.3f; output_2 loss: %.3f; output_1 top 1 accuracy: %.3f; output_1 top %d accuracy: %.3f; output_2 top 1 accuracy: %.3f; output_2 top %d accuracy: %.3f;'%(score[0],score[1],score[2],score[3],k_of_top_k_accuracy,score[4],score[5],k_of_top_k_accuracy,score[6]))\n",
        "\n",
        "  return (model, history, x_train, x_test, y_train, y_test)\n",
        "\n",
        "def get_true_and_predicted_labels(model, x_test, y_test_selected, label_classes, multi_output=True, output_idx=0):\n",
        "  \n",
        "  \"\"\"\n",
        "    Run predictions and determine y_true and y_pred filled with labels, not indexes \n",
        "  \"\"\"\n",
        "  y_pred_probs = model.predict(x_test) # shape: num outputs x num samples x num classes\n",
        "  y_pred_probs = np.array(y_pred_probs)\n",
        "\n",
        "  if multi_output==True:\n",
        "    y_pred_idx = np.argmax(y_pred_probs[output_idx],axis=1) \n",
        "  else:\n",
        "    y_pred_idx = np.argmax(y_pred_probs,axis=1) \n",
        "    \n",
        "  y_true_idx = np.argmax(y_test_selected,axis=1)\n",
        "\n",
        "  y_pred = np.array([label_classes[i] for i in y_pred_idx])\n",
        "  y_true = np.array([label_classes[i] for i in y_true_idx])\n",
        "\n",
        "  return (y_true, y_pred)\n",
        "\n",
        "\n",
        "\n"
      ],
      "execution_count": 5,
      "outputs": [
        {
          "output_type": "stream",
          "text": [
            "Using TensorFlow backend.\n"
          ],
          "name": "stderr"
        }
      ]
    },
    {
      "metadata": {
        "id": "OpFnSPRI83D5",
        "colab_type": "text"
      },
      "cell_type": "markdown",
      "source": [
        "## Calculate Multi-Label Metrics"
      ]
    },
    {
      "metadata": {
        "id": "PXtcYY3RrRLI",
        "colab_type": "code",
        "colab": {
          "autoexec": {
            "startup": false,
            "wait_interval": 0
          }
        }
      },
      "cell_type": "code",
      "source": [
        "# Multi-Label Accuracy calculation based on https://github.com/suraj-deshmukh/Multi-Label-Image-Classification/blob/master/miml.ipynb\n",
        "\n",
        "from sklearn.metrics import matthews_corrcoef, hamming_loss, label_ranking_loss, accuracy_score\n",
        "from sklearn.metrics import roc_curve, auc\n",
        "\n",
        "CASE_TYPE_HEADERS = ['100% TP+TN','50%+ TP', '1-49% TP', '0% TP']\n",
        "\n",
        "\n",
        "def eval_multilabel_metrics(model, x_test, y_true):\n",
        "  \"\"\"\n",
        "  Returns:\n",
        "    y_pred = the matrix of predicted labels\n",
        "  \"\"\"\n",
        "  y_pred_probs = model.predict(x_test)\n",
        "  y_pred_probs = np.array(y_pred_probs)\n",
        "\n",
        "  ttl_test_samples = y_true.shape[0] \n",
        "  num_classes = y_true.shape[1]\n",
        "\n",
        "\n",
        "  threshold = np.arange(0.05,0.95,0.05)\n",
        "\n",
        "  acc = []\n",
        "  accuracies = []\n",
        "  best_threshold = np.zeros(y_pred_probs.shape[1])\n",
        "  for i in range(y_pred_probs.shape[1]):\n",
        "      y_prob = np.array(y_pred_probs[:,i])\n",
        "      \n",
        "      old_settings = np.seterr(all='ignore') # prevent warnings. matthews_corrcoef handles the NaN case\n",
        "      for j in threshold:\n",
        "          y_pred = [1 if prob>=j else 0 for prob in y_prob]\n",
        "          mcc = matthews_corrcoef(y_true[:,i],y_pred)\n",
        "          acc.append(mcc)\n",
        "      np.seterr(**old_settings)\n",
        "\n",
        "      acc   = np.array(acc)\n",
        "      index = np.where(acc==acc.max()) \n",
        "      accuracies.append(acc.max()) \n",
        "      best_threshold[i] = threshold[index[0][0]]\n",
        "      acc = []\n",
        "\n",
        "\n",
        "  y_pred = np.array([[1 if y_pred_probs[i,j]>=best_threshold[j] else 0 for j in range(num_classes)] for i in range(ttl_test_samples)])\n",
        "\n",
        "\n",
        "  total_correctly_predicted = len([i for i in range(ttl_test_samples) if (y_true[i]==y_pred[i]).sum() == num_classes])\n",
        "  print('Total correctly predicted: %d out of %d (absolute accuracy: %.3f)' % (total_correctly_predicted,ttl_test_samples, total_correctly_predicted/float(ttl_test_samples)))\n",
        "\n",
        "  acc_score = accuracy_score(y_true,y_pred) #same as above\n",
        "  h_loss = hamming_loss(y_true,y_pred)\n",
        "  r_loss = label_ranking_loss(y_true,y_pred_probs)\n",
        "\n",
        "  print('Multi-label accuracy score: %.3f' % acc_score)\n",
        "  print('Hamming loss: %.3f' % h_loss)\n",
        "  print('Label ranking loss: %.3f' % r_loss)\n",
        "\n",
        "  return (y_pred, acc_score,h_loss,r_loss)\n",
        "\n",
        "\n",
        "\n",
        "def prettyprint_nparray(nparray, col_headers=None, row_headers=None):\n",
        "  df = pd.DataFrame(nparray)\n",
        "  if col_headers is not None:\n",
        "    df.columns = col_headers\n",
        "  if row_headers is not None:\n",
        "    df.index = row_headers\n",
        "  print(df)\n",
        "\n",
        "def get_label_bin_header(bin):\n",
        "  \n",
        "  l_start = (2 ** max((bin-1),0)) + 1\n",
        "  l_end = 2 ** bin\n",
        "  if (l_start >= l_end):\n",
        "    res = '%d'%l_end\n",
        "  else:\n",
        "    res = '%d..%d'%(l_start,l_end)  \n",
        "  return res\n",
        "\n",
        "def gen_label_bin_headers(max_bin):\n",
        "  \n",
        "  res=[]\n",
        "  for i in range(max_bin+1):\n",
        "    res.append(get_label_bin_header(i))\n",
        "  return res\n",
        "    \n",
        "    \n",
        "\n",
        "def calc_multilabel_accuracy_stats(y_true, y_pred):\n",
        "\n",
        "  ttl_test_samples = y_true.shape[0]\n",
        "  num_classes = y_true.shape[1]\n",
        "  \n",
        "  max_num_true_labels = max([y_true[i].sum() for i in range(ttl_test_samples)])\n",
        "  max_bin = np.ceil(np.log2(max_num_true_labels)).astype(int)\n",
        "\n",
        "  stats_num_cases = np.zeros((max_bin+1,4),dtype=int)\n",
        "  stats_num_samples = np.zeros((max_bin+1),dtype=int)\n",
        "  # matrix for indexes in x_test for examples; initialize with np.inf\n",
        "  example_by_casetype_bin = np.full((max_bin+1,4),-1,dtype=int) \n",
        "\n",
        "  for i in range(ttl_test_samples):\n",
        "\n",
        "    num_true_labels = y_true[i].sum()\n",
        "    label_bin = np.ceil(np.log2(num_true_labels)).astype(int)\n",
        "\n",
        "    num_all_matches = (y_true[i]==y_pred[i]).sum() # 1's and 0's need to match - the most stringent condition\n",
        "    num_1_matches = np.array([ 1 if y_true[i][j]==y_pred[i][j] and y_true[i][j] ==1 else 0 for j in range(num_classes) ]).sum() # the 1's match \n",
        "\n",
        "    if (num_all_matches == num_classes):\n",
        "      case_type = 0 # 100% True Positives and 100% True Negatives \n",
        "    elif (num_1_matches/float(num_true_labels) >= 0.5):\n",
        "      case_type = 1\n",
        "    elif (num_1_matches/float(num_true_labels) > 0.0):\n",
        "      case_type = 2\n",
        "    else:\n",
        "      case_type = 3\n",
        "\n",
        "    stats_num_samples[label_bin] += 1\n",
        "    stats_num_cases[label_bin,case_type] += 1\n",
        "    \n",
        "    if example_by_casetype_bin[label_bin,case_type] == -1:\n",
        "      example_by_casetype_bin[label_bin,case_type] = i\n",
        "\n",
        "  stats_num_cases_ratios = stats_num_cases.astype(float)\n",
        "\n",
        "  for i in range(stats_num_cases_ratios.shape[0]):\n",
        "    # stats_num_cases_ratios[i] = stats_num_cases_ratios[i] / stats_num_samples[i].astype(float)\n",
        "    stats_num_cases_ratios[i] = stats_num_cases_ratios[i] / ttl_test_samples\n",
        "\n",
        "  stats_num_cases_ratios = np.around(stats_num_cases_ratios, decimals=3)  \n",
        "  stats_by_casetype = np.sum(stats_num_cases_ratios,0)\n",
        "\n",
        "  return (stats_num_samples, stats_num_cases, stats_num_cases_ratios, stats_by_casetype, example_by_casetype_bin)\n",
        "\n",
        "\n",
        "\n",
        "\n",
        "def get_input_values_at(npdict, idx):\n",
        "  \n",
        "  \"\"\"\n",
        "    Args\n",
        "      npdict: dictionary of numpy arrays representing  train or test datasets.\n",
        "        used in multi-input keras functional models\n",
        "    Returns \n",
        "      result_list_nparrays: list of single-element numpy arrays populated by \n",
        "        values from npdict located at the same 'idx' position. \n",
        "        Can be used for model.predict calls on a single data point\n",
        "      result_dict_nparrays: dictionary of single-element numpy arrays\n",
        "      \n",
        "  \"\"\"\n",
        "  result_list_nparrays = [] # TODO: remove the nparray output, as it can cause errors during predictions if keys are sorted differently\n",
        "  result_dict_nparrays = {} # the dictionary preserves the key\n",
        "  for k,v in npdict.items():\n",
        "    v_at_idx = np.array([v[idx]])\n",
        "    result_list_nparrays.append( v_at_idx )\n",
        "    result_dict_nparrays[k] = v_at_idx\n",
        "  return (result_list_nparrays,result_dict_nparrays)\n",
        "\n",
        "\n",
        "def decode_domain(domain_enc_nparray):\n",
        "  \n",
        "  idx = np.argmax(domain_enc_nparray)\n",
        "  domain = domain_classes[idx]\n",
        "  \n",
        "  return domain\n",
        "\n",
        "def decode_submitter(submitter_enc_nparray):\n",
        "  \n",
        "  idx = np.argmax(submitter_enc_nparray)\n",
        "  submitter = submitter_classes[idx]\n",
        "  \n",
        "  return submitter\n",
        "\n",
        "def decode_tags(tags_enc, show_unknown=False):\n",
        "  \n",
        "  \"\"\"\n",
        "    Args:\n",
        "      tags_enc - numpy array with just 1 row\n",
        "  \"\"\"\n",
        "  if show_unknown:\n",
        "    tags_class = lambda idx: '<unknown>' if idx==0 else tags_inverted_dict[idx]\n",
        "  else:\n",
        "    tags_class = lambda idx: '' if idx==0 else tags_inverted_dict[idx]\n",
        "    \n",
        "  #tags_decoded = np.array([tags_class(tags_enc[0,idx]) for idx in range(tags_enc.shape[1])])\n",
        "  #tags_str = np.array_str(tags_decoded)\n",
        "  \n",
        "  tags_str = ''\n",
        "  \n",
        "  for idx in range(tags_enc.shape[1]):\n",
        "    tag = tags_class(tags_enc[0,idx])\n",
        "    tags_str = ''.join([tags_str, ' ' + tag])\n",
        "  \n",
        "  return tags_str\n",
        "\n",
        "def decode_single_input(single_input_dict):\n",
        "  \n",
        "  single_input_str=''\n",
        "  \n",
        "  for k,v in single_input_dict.items():\n",
        "    single_feature_str=''\n",
        "    \n",
        "    if k=='Tags':\n",
        "      single_feature_str = decode_tags(v)\n",
        "    elif k=='Domain':\n",
        "      single_feature_str = decode_domain(v)\n",
        "    elif k=='RedditSubmitter':\n",
        "      single_feature_str = decode_submitter(v)\n",
        "    else:\n",
        "      single_feature_str = 'Decode function not implemented'\n",
        "    \n",
        "    single_input_str = ''.join([single_input_str, ' %s [%s]' % (k,single_feature_str) ])\n",
        "  \n",
        "  return single_input_str\n",
        "\n",
        "def get_class_indeces(nhot_class_array):\n",
        "  class_indeces = np.nonzero(nhot_class_array)[0]\n",
        "  return class_indeces\n",
        "\n",
        "def get_classes(class_indeces, classes_dict):\n",
        "  \n",
        "  res=[]\n",
        "  for i in range(class_indeces.shape[0]):\n",
        "    cl = classes_dict[class_indeces[i]]\n",
        "    res.append(cl)\n",
        "  return res\n",
        "\n",
        "def decode_classes(nhot_class_array, classes_dict):\n",
        "  class_indeces = get_class_indeces(nhot_class_array)\n",
        "  classes = get_classes(class_indeces, classes_dict)\n",
        "  res = ','.join(classes)\n",
        "  return res\n",
        "\n",
        "def print_singlelabel_prediction_samples(y_true, classes_dict,\n",
        "                                        top_prediction_K = 5,\n",
        "                                        top1_pred_tofind = 1,\n",
        "                                        topK_pred_tofind = 1,\n",
        "                                        notintopK_pred_tofind = 1,\n",
        "                                        start_idx=0):\n",
        "\n",
        "  ttl_test_samples = y_true.shape[0]\n",
        "  \n",
        "  str_top1=''\n",
        "  str_topK=''\n",
        "  str_notintopK=''\n",
        "\n",
        "  i = start_idx\n",
        "  all_examples_found = False\n",
        "  \n",
        "  while (not all_examples_found) and i < ttl_test_samples:\n",
        "\n",
        "    (single_input, single_input_dict) = get_input_values_at(x_test, i) # \n",
        "    prediction = model.predict(single_input_dict) # resulting prediction is 2D array with shape (1,1)\n",
        "    prediction = prediction.flatten() # convert to 1D array\n",
        "    \n",
        "    # take K largest elements (might be unsorted)\n",
        "    topKidx = np.argpartition(prediction, -top_prediction_K)[-top_prediction_K:] \n",
        "    # sort first (will be in asc order), then reverse array\n",
        "    topKidx = topKidx[np.argsort(prediction[topKidx])]\n",
        "    topKidx = topKidx[::-1]\n",
        "\n",
        "    str_testcase=''\n",
        "    str_testcase = ''.join([str_testcase,'Test record index #%d '%i]) \n",
        "\n",
        "    pred_input = decode_single_input(single_input_dict)\n",
        "\n",
        "    str_testcase = ''.join([str_testcase,'Prediction input: %s\\n' % pred_input])\n",
        "    url_str = get_url_and_reddit_post(validation_features,i)\n",
        "    str_testcase = ''.join([str_testcase,url_str])\n",
        "\n",
        "                            \n",
        "    # what is the actual label?\n",
        "    #actual_label_idx = np.argmax(y_true[i])\n",
        "    actual_label_idx = get_class_indeces(y_true[i])\n",
        "    actual_label_idx = actual_label_idx[0]\n",
        "    actual_label = classes_dict[actual_label_idx]\n",
        "\n",
        "    # is it in top K predictions?\n",
        "    found_str = ''\n",
        "    num_prediction=top_prediction_K+1 # set it to a +1 value to represent \"not in top K\"\n",
        "\n",
        "    found_in_topK = np.nonzero(topKidx == actual_label_idx)\n",
        "    if (len(found_in_topK[0]) > 0):\n",
        "      num_prediction = found_in_topK[0][0] + 1\n",
        "      found_str = ('[ #' + str(num_prediction) + ' prediction]')  \n",
        "    else:\n",
        "      found_str = ('[ not found among ' + str(top_prediction_K) + ' top predictions]')\n",
        "\n",
        "    # build the string with top K classes and their probabilities \n",
        "    pred_str = ''\n",
        "    for j in range(top_prediction_K):\n",
        "      proba = prediction[topKidx[j]]\n",
        "      pred_class = classes_dict[topKidx[j]]\n",
        "      pred_str = ''.join([pred_str, pred_class + ' (' + '%.2f'%proba + ') '])\n",
        "\n",
        "    str_testcase = ''.join([str_testcase,'Top %d predicted labels: %s\\n'%(top_prediction_K,pred_str)]) \n",
        "    str_testcase = ''.join([str_testcase,'Actual label: %s %s\\n' % (actual_label,found_str)])\n",
        "\n",
        "    if num_prediction == 1:\n",
        "      if top1_pred_tofind > 0:\n",
        "        top1_pred_tofind-=1\n",
        "        str_top1 = ''.join([str_top1,str_testcase,'\\n'])\n",
        "    elif num_prediction <= 5:\n",
        "      if topK_pred_tofind > 0:\n",
        "        topK_pred_tofind-=1  \n",
        "        str_topK = ''.join([str_topK,str_testcase,'\\n'])\n",
        "    else:\n",
        "      if notintopK_pred_tofind > 0:\n",
        "        notintopK_pred_tofind-=1\n",
        "        str_notintopK = ''.join([str_notintopK,str_testcase,'\\n'])\n",
        "\n",
        "    i += 1\n",
        "    all_examples_found = True if (top1_pred_tofind + topK_pred_tofind + notintopK_pred_tofind) == 0 else False\n",
        "\n",
        "  print('Examples of exact matches (Actual Label = Top 1 Predicted Label):\\n%s'%str_top1)\n",
        "  print('Examples of approx. matches (Actual Label in Top %d Predicted Labels):\\n%s'%(top_prediction_K,str_topK))\n",
        "  print('Examples of bad matches (Actual Label not in Top %d predictions):\\n%s'%(top_prediction_K,str_notintopK))\n",
        "\n",
        "  return\n",
        "\n",
        "def plot_metrics(history):\n",
        "  acc = history.history['acc']\n",
        "  val_acc = history.history['val_acc']\n",
        "  loss = history.history['loss']\n",
        "  val_loss = history.history['val_loss']\n",
        "  \n",
        "  epochs = range(1, len(acc) + 1)\n",
        "  \n",
        "  plt.plot(epochs, acc, 'bo', label='Training acc')\n",
        "  plt.plot(epochs, val_acc, 'b', label='Validation acc')\n",
        "  plt.title('Training and validation accuracy')\n",
        "  plt.legend()\n",
        "  \n",
        "  plt.figure()\n",
        "  \n",
        "  plt.plot(epochs, loss, 'bo', label='Training loss')\n",
        "  plt.plot(epochs, val_loss, 'b', label='Validation loss')\n",
        "  plt.title('Training and validation loss')\n",
        "  plt.legend()\n",
        "  \n",
        "  plt.show()\n",
        "  return\n",
        "\n",
        "\n",
        "def get_url_and_reddit_post(df, idx):\n",
        "  \n",
        "  res_str = ''\n",
        "  \n",
        "  if URL_COL in df.columns:\n",
        "    val = df[URL_COL][idx]\n",
        "    res_str = ''.join([res_str, 'News Urls: %s\\n' % val])  \n",
        "  elif URL_LIST_COL in df.columns:\n",
        "    val = df[URL_LIST_COL][idx]\n",
        "    res_str = ''.join([res_str, 'News Urls: %s\\n' % val])  \n",
        "      \n",
        "  if REDDIT_POSTURL_COL in df.columns:\n",
        "    val = df[REDDIT_POSTURL_COL][idx]\n",
        "    res_str = ''.join([res_str, 'Reddit Post Urls: %s\\n' % val])  \n",
        "  elif REDDIT_POSTURL_LIST_COL in df.columns:\n",
        "    val = df[REDDIT_POSTURL_LIST_COL][idx]\n",
        "    res_str = ''.join([res_str, 'Reddit Post Urls: %s\\n' % val])  \n",
        "  \n",
        "  return res_str\n",
        "  \n",
        "  \n",
        "\n",
        "\n",
        "def print_prediction_and_input(idx, notes, y_true, y_pred, classes_dict):\n",
        "  \n",
        "  print('Test record index #%d %s'%(idx,notes))\n",
        "  print(get_url_and_reddit_post(validation_features,idx))\n",
        "  \n",
        "  (single_input, single_input_dict) = get_input_values_at(x_test, idx)  \n",
        "  pred_input = decode_single_input(single_input_dict)\n",
        "  print('Prediction input: %s' % pred_input)\n",
        "\n",
        "  predicted_classes = decode_classes(y_pred[idx], classes_dict)\n",
        "  print('Predicted classes: %s' % predicted_classes)\n",
        "\n",
        "  true_classes = decode_classes(y_true[idx], classes_dict)\n",
        "  print('True/Actual classes: %s' % true_classes)\n",
        "\n",
        "\n",
        "def calc_multilabel_precision_recall(y_true, y_pred):\n",
        "  summary_df = pd.DataFrame(np.empty(0,  dtype=[('subreddit', 'U'),  \n",
        "                                                ('sum_true', 'u4'), ('sum_pred', 'u4'), \n",
        "                                                ('sum_TP', 'u4'),   ('recall','f4'),\n",
        "                                                ('precision','f4'), ('f1_score','f4')]))\n",
        "  ttl_num_samples = y_true.shape[0]\n",
        "\n",
        "  for i in range(num_subreddit_classes):\n",
        "    subreddit = '<unknown>' if i==0 else subreddit_classes[i]\n",
        "    summary_df.at[i,'subreddit'] = subreddit\n",
        "    summary_df.at[i,'sum_true'] = np.sum(y_true[:, i])\n",
        "    summary_df.at[i,'sum_pred'] = np.sum(y_pred[:, i])\n",
        "    num_1_matches = (np.array([ 1 if y_true[j][i]==y_pred[j][i] and y_true[j][i] ==1 else 0 for j in range(ttl_num_samples) ])).sum() # the 1's match \n",
        "    summary_df.at[i,'sum_TP'] = num_1_matches\n",
        "\n",
        "  summary_df['recall'] = summary_df['sum_TP'] / summary_df['sum_true'] #https://en.wikipedia.org/wiki/Precision_and_recall\n",
        "  summary_df['precision'] = summary_df['sum_TP'] / summary_df['sum_pred'] \n",
        "  summary_df['f1_score'] = 2 * summary_df['recall'] * summary_df['precision'] / (summary_df['recall'] + summary_df['precision'])\n",
        "  \n",
        "  summary_df.set_index('subreddit',inplace=True)\n",
        "\n",
        "  return summary_df\n",
        "\n",
        "\n",
        "def plot_confusion_matrix(y_true, y_pred, class_order,\n",
        "                          normalize=False,\n",
        "                          title='Confusion matrix',\n",
        "                          cmap=plt.cm.Blues):\n",
        "  \"\"\"\n",
        "  This function plots the confusion matrix.\n",
        "  Args:\n",
        "    y_true and y_pred need to be class labels\n",
        "    use class_order to define order in the CM matrix\n",
        "    Normalization can be applied by setting `normalize=True`\n",
        "    \n",
        "  \"\"\"\n",
        "  \n",
        "  found_classes = np.unique(np.concatenate((np.unique(y_true), np.unique(y_pred))))\n",
        "  found_and_ordered = []\n",
        "  for s in class_order: # preserve order\n",
        "    index = np.where(found_classes==s) \n",
        "    numfound = len(index[0])\n",
        "    if numfound > 0:\n",
        "      found_and_ordered.append(s)\n",
        "\n",
        "  cm = metrics.confusion_matrix(y_true, y_pred, labels=found_and_ordered)\n",
        "    \n",
        "  if normalize:\n",
        "    cm = cm.astype('float') / cm.sum(axis=1)[:, np.newaxis]\n",
        "\n",
        "  np.set_printoptions(precision=2)\n",
        "  \n",
        "  num_classes = len(found_and_ordered)\n",
        "  show_text = True if num_classes < 21 else False\n",
        "  \n",
        "  # Plot normalized confusion matrix\n",
        "  plt.figure(1,figsize=(8,8))\n",
        "  \n",
        "  plt.imshow(cm, interpolation='nearest', cmap=cmap)\n",
        "  plt.title(title)\n",
        "  plt.colorbar()\n",
        "  tick_marks = np.arange(num_classes)\n",
        "  plt.xticks(tick_marks, found_and_ordered, rotation=45)\n",
        "  plt.yticks(tick_marks, found_and_ordered)\n",
        "    \n",
        "  #ax.tick_params(axis=u'both', which=u'both',length=0)\n",
        "   \n",
        "  if show_text==True:\n",
        "    fmt = '.2f' if normalize else 'd'\n",
        "    thresh = cm.max() / 2.\n",
        "    for i, j in itertools.product(range(cm.shape[0]), range(cm.shape[1])):\n",
        "        plt.text(j, i, format(cm[i, j], fmt),\n",
        "                 horizontalalignment=\"center\",\n",
        "                 color=\"white\" if cm[i, j] > thresh else \"black\")\n",
        "\n",
        "  plt.tight_layout()\n",
        "  plt.ylabel('True label')\n",
        "  plt.xlabel('Predicted label')\n",
        "  \n",
        "  plt.show()\n",
        "\n",
        "def plot_roc_curves(y_true, y_pred):\n",
        "\n",
        "  # Compute ROC curve and ROC area for each class\n",
        "  fpr = dict()\n",
        "  tpr = dict()\n",
        "  roc_auc = dict()\n",
        "  for i in range(num_subreddit_classes):\n",
        "      fpr[i], tpr[i], _ = roc_curve(y_true[:, i], y_pred[:, i])\n",
        "      roc_auc[i] = auc(fpr[i], tpr[i])\n",
        "\n",
        "  # Compute micro-average ROC curve and ROC area\n",
        "  fpr[\"micro\"], tpr[\"micro\"], _ = roc_curve(y_true.ravel(), y_pred.ravel())\n",
        "  roc_auc[\"micro\"] = auc(fpr[\"micro\"], tpr[\"micro\"])\n",
        "\n",
        "  plt.figure(figsize=(8,8))\n",
        "  plt.plot([0, 1], [0, 1], color='navy', lw=lw, linestyle='--')\n",
        "  plt.xlim([0.0, 1.0])\n",
        "  plt.ylim([0.0, 1.05])\n",
        "  plt.xlabel('False Positive Rate')\n",
        "  plt.ylabel('True Positive Rate')\n",
        "  plt.title('Receiver operating characteristic example')\n",
        "  plt.legend(loc=\"lower right\")\n",
        "  lw = 1\n",
        "\n",
        "  for i in range(num_subreddit_classes):\n",
        "\n",
        "    plt.plot(fpr[i], tpr[i], color='darkorange',\n",
        "             lw=lw, label='ROC curve (area = %0.2f)' % roc_auc[i])\n",
        "\n",
        "  plt.show()\n",
        "\n",
        "\n"
      ],
      "execution_count": 0,
      "outputs": []
    },
    {
      "metadata": {
        "id": "FjDTPSp39hLD",
        "colab_type": "text"
      },
      "cell_type": "markdown",
      "source": [
        "### Tags to Subreddit Classification"
      ]
    },
    {
      "metadata": {
        "id": "ck6u5eWcYg1U",
        "colab_type": "code",
        "colab": {
          "autoexec": {
            "startup": false,
            "wait_interval": 0
          }
        }
      },
      "cell_type": "code",
      "source": [
        "current_learning_goal = 'SubredditClassification'\n",
        "set_columns_for_goal()\n",
        "reddit_df = get_bq_data_for_goal()\n",
        "(training_features, training_labels,validation_features, validation_labels) = create_train_test_features_labels()"
      ],
      "execution_count": 0,
      "outputs": []
    },
    {
      "metadata": {
        "id": "FjLYRPZYaZIq",
        "colab_type": "code",
        "colab": {
          "autoexec": {
            "startup": false,
            "wait_interval": 0
          },
          "output_extras": [
            {},
            {}
          ],
          "height": 709
        },
        "outputId": "62316e7b-e304-4dac-ab4b-2f8150ca35af",
        "executionInfo": {
          "status": "ok",
          "timestamp": 1518588338595,
          "user_tz": 480,
          "elapsed": 60270,
          "user": {
            "displayName": "Sergei Sokolenko",
            "photoUrl": "//lh6.googleusercontent.com/-iyAOAY88u7I/AAAAAAAAAAI/AAAAAAAAABA/9ECequ778Ss/s50-c-k-no/photo.jpg",
            "userId": "106652311097239389877"
          }
        }
      },
      "cell_type": "code",
      "source": [
        "# Tags -> Subreddit \n",
        "# Single-Label Classification\n",
        "\n",
        "(model, history, x_train, x_test, y_train, y_test) = compile_and_fit_model(inputs = ['Tags'], outputs=['Subreddit'])\n",
        "SVG(model_to_dot(model, show_shapes=False).create(prog='dot', format='svg'))\n",
        "\n",
        "\n",
        "\n"
      ],
      "execution_count": 0,
      "outputs": [
        {
          "output_type": "stream",
          "text": [
            "Using 150 unique values for subreddit\n",
            "Using 41309 unique values for Tags\n",
            "Train on 110434 samples, validate on 12271 samples\n",
            "Epoch 1/2\n",
            " - 24s - loss: 3.7336 - acc: 0.1626 - top_k_categorical_accuracy: 0.4307 - val_loss: 3.3839 - val_acc: 0.2056 - val_top_k_categorical_accuracy: 0.5074\n",
            "Epoch 2/2\n",
            " - 24s - loss: 3.0322 - acc: 0.2662 - top_k_categorical_accuracy: 0.5822 - val_loss: 3.2503 - val_acc: 0.2318 - val_top_k_categorical_accuracy: 0.5458\n",
            "Test data loss: 3.239; top 1 accuracy: 0.229; top 5 accuracy: 0.545;\n"
          ],
          "name": "stdout"
        },
        {
          "output_type": "execute_result",
          "data": {
            "image/svg+xml": "<svg height=\"410pt\" viewBox=\"0.00 0.00 169.00 410.00\" width=\"169pt\" xmlns=\"http://www.w3.org/2000/svg\" xmlns:xlink=\"http://www.w3.org/1999/xlink\">\n<g class=\"graph\" id=\"graph0\" transform=\"scale(1 1) rotate(0) translate(4 406)\">\n<title>G</title>\n<polygon fill=\"white\" points=\"-4,4 -4,-406 165,-406 165,4 -4,4\" stroke=\"none\"/>\n<!-- 140566337781840 -->\n<g class=\"node\" id=\"node1\"><title>140566337781840</title>\n<polygon fill=\"none\" points=\"25.5,-365.5 25.5,-401.5 135.5,-401.5 135.5,-365.5 25.5,-365.5\" stroke=\"black\"/>\n<text font-family=\"Times,serif\" font-size=\"14.00\" text-anchor=\"middle\" x=\"80.5\" y=\"-379.8\">Tags: InputLayer</text>\n</g>\n<!-- 140566588553232 -->\n<g class=\"node\" id=\"node2\"><title>140566588553232</title>\n<polygon fill=\"none\" points=\"0,-292.5 0,-328.5 161,-328.5 161,-292.5 0,-292.5\" stroke=\"black\"/>\n<text font-family=\"Times,serif\" font-size=\"14.00\" text-anchor=\"middle\" x=\"80.5\" y=\"-306.8\">embedding_1: Embedding</text>\n</g>\n<!-- 140566337781840&#45;&gt;140566588553232 -->\n<g class=\"edge\" id=\"edge1\"><title>140566337781840-&gt;140566588553232</title>\n<path d=\"M80.5,-365.313C80.5,-357.289 80.5,-347.547 80.5,-338.569\" fill=\"none\" stroke=\"black\"/>\n<polygon fill=\"black\" points=\"84.0001,-338.529 80.5,-328.529 77.0001,-338.529 84.0001,-338.529\" stroke=\"black\"/>\n</g>\n<!-- 140566379221200 -->\n<g class=\"node\" id=\"node3\"><title>140566379221200</title>\n<polygon fill=\"none\" points=\"25.5,-219.5 25.5,-255.5 135.5,-255.5 135.5,-219.5 25.5,-219.5\" stroke=\"black\"/>\n<text font-family=\"Times,serif\" font-size=\"14.00\" text-anchor=\"middle\" x=\"80.5\" y=\"-233.8\">flatten_1: Flatten</text>\n</g>\n<!-- 140566588553232&#45;&gt;140566379221200 -->\n<g class=\"edge\" id=\"edge2\"><title>140566588553232-&gt;140566379221200</title>\n<path d=\"M80.5,-292.313C80.5,-284.289 80.5,-274.547 80.5,-265.569\" fill=\"none\" stroke=\"black\"/>\n<polygon fill=\"black\" points=\"84.0001,-265.529 80.5,-255.529 77.0001,-265.529 84.0001,-265.529\" stroke=\"black\"/>\n</g>\n<!-- 140566116768592 -->\n<g class=\"node\" id=\"node4\"><title>140566116768592</title>\n<polygon fill=\"none\" points=\"29.5,-146.5 29.5,-182.5 131.5,-182.5 131.5,-146.5 29.5,-146.5\" stroke=\"black\"/>\n<text font-family=\"Times,serif\" font-size=\"14.00\" text-anchor=\"middle\" x=\"80.5\" y=\"-160.8\">dense_1: Dense</text>\n</g>\n<!-- 140566379221200&#45;&gt;140566116768592 -->\n<g class=\"edge\" id=\"edge3\"><title>140566379221200-&gt;140566116768592</title>\n<path d=\"M80.5,-219.313C80.5,-211.289 80.5,-201.547 80.5,-192.569\" fill=\"none\" stroke=\"black\"/>\n<polygon fill=\"black\" points=\"84.0001,-192.529 80.5,-182.529 77.0001,-192.529 84.0001,-192.529\" stroke=\"black\"/>\n</g>\n<!-- 140566358571920 -->\n<g class=\"node\" id=\"node5\"><title>140566358571920</title>\n<polygon fill=\"none\" points=\"18,-73.5 18,-109.5 143,-109.5 143,-73.5 18,-73.5\" stroke=\"black\"/>\n<text font-family=\"Times,serif\" font-size=\"14.00\" text-anchor=\"middle\" x=\"80.5\" y=\"-87.8\">dropout_1: Dropout</text>\n</g>\n<!-- 140566116768592&#45;&gt;140566358571920 -->\n<g class=\"edge\" id=\"edge4\"><title>140566116768592-&gt;140566358571920</title>\n<path d=\"M80.5,-146.313C80.5,-138.289 80.5,-128.547 80.5,-119.569\" fill=\"none\" stroke=\"black\"/>\n<polygon fill=\"black\" points=\"84.0001,-119.529 80.5,-109.529 77.0001,-119.529 84.0001,-119.529\" stroke=\"black\"/>\n</g>\n<!-- 140566195231440 -->\n<g class=\"node\" id=\"node6\"><title>140566195231440</title>\n<polygon fill=\"none\" points=\"6,-0.5 6,-36.5 155,-36.5 155,-0.5 6,-0.5\" stroke=\"black\"/>\n<text font-family=\"Times,serif\" font-size=\"14.00\" text-anchor=\"middle\" x=\"80.5\" y=\"-14.8\">subreddit_output: Dense</text>\n</g>\n<!-- 140566358571920&#45;&gt;140566195231440 -->\n<g class=\"edge\" id=\"edge5\"><title>140566358571920-&gt;140566195231440</title>\n<path d=\"M80.5,-73.3129C80.5,-65.2895 80.5,-55.5475 80.5,-46.5691\" fill=\"none\" stroke=\"black\"/>\n<polygon fill=\"black\" points=\"84.0001,-46.5288 80.5,-36.5288 77.0001,-46.5289 84.0001,-46.5288\" stroke=\"black\"/>\n</g>\n</g>\n</svg>",
            "text/plain": [
              "<IPython.core.display.SVG at 0x7fd838f36990>"
            ]
          },
          "metadata": {
            "tags": []
          },
          "execution_count": 7
        }
      ]
    },
    {
      "metadata": {
        "id": "kNIOJZdgUkM3",
        "colab_type": "code",
        "colab": {
          "autoexec": {
            "startup": false,
            "wait_interval": 0
          },
          "output_extras": [
            {}
          ],
          "height": 563
        },
        "outputId": "c64c3e4e-abe4-443f-cb71-4e8e136adf9b",
        "executionInfo": {
          "status": "ok",
          "timestamp": 1517943542996,
          "user_tz": 480,
          "elapsed": 4111,
          "user": {
            "displayName": "Sergei Sokolenko",
            "photoUrl": "//lh6.googleusercontent.com/-iyAOAY88u7I/AAAAAAAAAAI/AAAAAAAAABA/9ECequ778Ss/s50-c-k-no/photo.jpg",
            "userId": "106652311097239389877"
          }
        }
      },
      "cell_type": "code",
      "source": [
        "y_pred_probs = model.predict(x_test)\n",
        "y_pred_probs = np.array(y_pred_probs)\n",
        "\n",
        "y_pred = np.argmax(y_pred_probs,axis=1)\n",
        "y_true = np.argmax(y_test['subreddit_output'],axis=1)\n",
        "\n",
        "plot_confusion_matrix(y_true=y_true, y_pred=y_pred, normalize=True, classes_dict=subreddit_classes)"
      ],
      "execution_count": 0,
      "outputs": [
        {
          "output_type": "display_data",
          "data": {
            "image/png": "[encoded data removed]",
            "text/plain": [
              "<matplotlib.figure.Figure at 0x7f139ca04090>"
            ]
          },
          "metadata": {
            "tags": []
          }
        }
      ]
    },
    {
      "metadata": {
        "id": "7rLH231h92JZ",
        "colab_type": "text"
      },
      "cell_type": "markdown",
      "source": [
        "### Tags to Subreddit Samples"
      ]
    },
    {
      "metadata": {
        "id": "W4ateLd5ztyd",
        "colab_type": "code",
        "colab": {
          "autoexec": {
            "startup": false,
            "wait_interval": 0
          },
          "output_extras": [
            {}
          ],
          "height": 443
        },
        "outputId": "5f06fd95-967d-4d13-bf47-cf99c357b117",
        "executionInfo": {
          "status": "ok",
          "timestamp": 1518588426461,
          "user_tz": 480,
          "elapsed": 442,
          "user": {
            "displayName": "Sergei Sokolenko",
            "photoUrl": "//lh6.googleusercontent.com/-iyAOAY88u7I/AAAAAAAAAAI/AAAAAAAAABA/9ECequ778Ss/s50-c-k-no/photo.jpg",
            "userId": "106652311097239389877"
          }
        }
      },
      "cell_type": "code",
      "source": [
        "print_singlelabel_prediction_samples(y_true=y_test['subreddit_output'], \n",
        "                                     classes_dict=subreddit_classes)\n"
      ],
      "execution_count": 0,
      "outputs": [
        {
          "output_type": "stream",
          "text": [
            "Examples of exact matches (Actual Label = Top 1 Predicted Label):\n",
            "Test record index #2 Prediction input:  Tags [ intelligence_report voting_software_company vr_systems    ]\n",
            "News Urls: http://www.nydailynews.com/news/national/russian-hackers-targeted-vote-software-company-officials-report-article-1.3223517\n",
            "Reddit Post Urls: https://www.reddit.com/r/politics/comments/6fh0uw/\n",
            "Top 5 predicted labels: politics (0.32) The_Donald (0.15) news (0.06) EnoughTrumpSpam (0.04) Conservative (0.03) \n",
            "Actual label: politics [ #1 prediction]\n",
            "\n",
            "\n",
            "Examples of approx. matches (Actual Label in Top 5 Predicted Labels):\n",
            "Test record index #0 Prediction input:  Tags [ digital_currency bitcoin_exchange tokyo_stock_exchange virtual_currency   ]\n",
            "News Urls: https://www.bloomberg.com/news/articles/2017-06-05/bitcoin-mania-infects-japanese-stock-market-s-smaller-listings\n",
            "Reddit Post Urls: https://www.reddit.com/r/Bitcoin/comments/6fk8cc/\n",
            "Top 5 predicted labels: BitcoinAll (0.36) Bitcoin (0.29) ethernews (0.16) CryptoCurrency (0.12) BTCNews (0.05) \n",
            "Actual label: Bitcoin [ #2 prediction]\n",
            "\n",
            "\n",
            "Examples of bad matches (Actual Label not in Top 5 predictions):\n",
            "Test record index #1 Prediction input:  Tags [ minimum_wage higher_minimum_wage working_hour seattle minimum_wage_hike many_people employer]\n",
            "News Urls: https://www.bloomberg.com/view/articles/2017-06-27/a-sign-to-go-slow-on-the-15-minimum-wage\n",
            "Reddit Post Urls: https://www.reddit.com/r/economy/comments/6k3y0y/\n",
            "Top 5 predicted labels: politics (0.20) SandersForPresident (0.12) The_Donald (0.07) news (0.07) WayOfTheBern (0.05) \n",
            "Actual label: economy [ not found among 5 top predictions]\n",
            "\n",
            "\n"
          ],
          "name": "stdout"
        }
      ]
    },
    {
      "metadata": {
        "id": "fj_z6yNK9-sA",
        "colab_type": "text"
      },
      "cell_type": "markdown",
      "source": [
        "### BOWEntitiesEncoded to Subreddit Classification"
      ]
    },
    {
      "metadata": {
        "id": "s7MxXCyw6v5h",
        "colab_type": "code",
        "colab": {
          "autoexec": {
            "startup": false,
            "wait_interval": 0
          },
          "output_extras": [
            {}
          ],
          "height": 585
        },
        "outputId": "bf52d495-4632-4964-ca9e-2ee1acb4dc78",
        "executionInfo": {
          "status": "ok",
          "timestamp": 1518588560021,
          "user_tz": 480,
          "elapsed": 117403,
          "user": {
            "displayName": "Sergei Sokolenko",
            "photoUrl": "//lh6.googleusercontent.com/-iyAOAY88u7I/AAAAAAAAAAI/AAAAAAAAABA/9ECequ778Ss/s50-c-k-no/photo.jpg",
            "userId": "106652311097239389877"
          }
        }
      },
      "cell_type": "code",
      "source": [
        "\n",
        "# BOWEntitiesEncoded -> Subreddit \n",
        "# Single-Label Classification\n",
        "\n",
        "(model, history, x_train, x_test, y_train, y_test) = compile_and_fit_model(inputs = ['BOWEntitiesEncoded'], outputs=['Subreddit'])\n",
        "\n",
        "# SVG(model_to_dot(model, show_shapes=False).create(prog='dot', format='svg'))\n",
        "\n",
        "print_singlelabel_prediction_samples(y_true=y_test['subreddit_output'], classes_dict=subreddit_classes)"
      ],
      "execution_count": 0,
      "outputs": [
        {
          "output_type": "stream",
          "text": [
            "Using 150 unique values for subreddit\n",
            "Using 32376 unique values for BOWEntitiesEncoded\n",
            "Train on 110434 samples, validate on 12271 samples\n",
            "Epoch 1/2\n",
            " - 45s - loss: 3.5663 - acc: 0.1836 - top_k_categorical_accuracy: 0.4605 - val_loss: 3.1908 - val_acc: 0.2349 - val_top_k_categorical_accuracy: 0.5445\n",
            "Epoch 2/2\n",
            " - 46s - loss: 2.8923 - acc: 0.2726 - top_k_categorical_accuracy: 0.6065 - val_loss: 3.0652 - val_acc: 0.2497 - val_top_k_categorical_accuracy: 0.5727\n",
            "Test data loss: 3.078; top 1 accuracy: 0.244; top 5 accuracy: 0.572;\n",
            "Examples of exact matches (Actual Label = Top 1 Predicted Label):\n",
            "Test record index #2 Prediction input:  BOWEntitiesEncoded [Decode function not implemented]\n",
            "News Urls: http://www.nydailynews.com/news/national/russian-hackers-targeted-vote-software-company-officials-report-article-1.3223517\n",
            "Reddit Post Urls: https://www.reddit.com/r/politics/comments/6fh0uw/\n",
            "Top 5 predicted labels: politics (0.20) news (0.10) technology (0.09) The_Donald (0.05) worldnewshub (0.03) \n",
            "Actual label: politics [ #1 prediction]\n",
            "\n",
            "\n",
            "Examples of approx. matches (Actual Label in Top 5 Predicted Labels):\n",
            "Test record index #0 Prediction input:  BOWEntitiesEncoded [Decode function not implemented]\n",
            "News Urls: https://www.bloomberg.com/news/articles/2017-06-05/bitcoin-mania-infects-japanese-stock-market-s-smaller-listings\n",
            "Reddit Post Urls: https://www.reddit.com/r/Bitcoin/comments/6fk8cc/\n",
            "Top 5 predicted labels: BitcoinAll (0.27) ethernews (0.21) Bitcoin (0.16) CryptoCurrency (0.12) MilitaryProcurement (0.05) \n",
            "Actual label: Bitcoin [ #3 prediction]\n",
            "\n",
            "\n",
            "Examples of bad matches (Actual Label not in Top 5 predictions):\n",
            "Test record index #7 Prediction input:  BOWEntitiesEncoded [Decode function not implemented]\n",
            "News Urls: http://www.thejournal.ie/harris-cabinet-leo-varadkar-3429307-Jun2017/\n",
            "Reddit Post Urls: https://www.reddit.com/r/ireland/comments/6fnhky/\n",
            "Top 5 predicted labels: worldnewshub (0.16) worldnews (0.13) news (0.09) TheColorIsBlue (0.08) india (0.07) \n",
            "Actual label: ireland [ not found among 5 top predictions]\n",
            "\n",
            "\n"
          ],
          "name": "stdout"
        }
      ]
    },
    {
      "metadata": {
        "id": "Cgn9JoK3-ICf",
        "colab_type": "text"
      },
      "cell_type": "markdown",
      "source": [
        "### BOWEntitiesEncoded and Domain to Subreddit Classification"
      ]
    },
    {
      "metadata": {
        "id": "RzscRUJd9aSM",
        "colab_type": "code",
        "colab": {
          "autoexec": {
            "startup": false,
            "wait_interval": 0
          },
          "output_extras": [
            {},
            {}
          ],
          "height": 918
        },
        "outputId": "7ac26ea3-0999-402d-be2b-7096f6c274fe",
        "executionInfo": {
          "status": "ok",
          "timestamp": 1518588795800,
          "user_tz": 480,
          "elapsed": 222680,
          "user": {
            "displayName": "Sergei Sokolenko",
            "photoUrl": "//lh6.googleusercontent.com/-iyAOAY88u7I/AAAAAAAAAAI/AAAAAAAAABA/9ECequ778Ss/s50-c-k-no/photo.jpg",
            "userId": "106652311097239389877"
          }
        }
      },
      "cell_type": "code",
      "source": [
        "# BOWEntitiesEncoded, Domain -> Subreddit \n",
        "# Single-Label Classification\n",
        "\n",
        "(model, history, x_train, x_test, y_train, y_test) = compile_and_fit_model(inputs = ['BOWEntitiesEncoded','Domain'], outputs=['Subreddit'])\n",
        "\n",
        "SVG(model_to_dot(model, show_shapes=True).create(prog='dot', format='svg'))\n",
        "\n"
      ],
      "execution_count": 0,
      "outputs": [
        {
          "output_type": "stream",
          "text": [
            "Using 150 unique values for subreddit\n",
            "Using 4232 unique values for domain\n",
            "Using 32376 unique values for BOWEntitiesEncoded\n",
            "Train on 110434 samples, validate on 12271 samples\n",
            "Epoch 1/2\n",
            " - 91s - loss: 2.9042 - acc: 0.3077 - top_k_categorical_accuracy: 0.6233 - val_loss: 2.3575 - val_acc: 0.3844 - val_top_k_categorical_accuracy: 0.7294\n",
            "Epoch 2/2\n",
            " - 92s - loss: 2.0985 - acc: 0.4194 - top_k_categorical_accuracy: 0.7815 - val_loss: 2.3281 - val_acc: 0.3645 - val_top_k_categorical_accuracy: 0.7388\n",
            "Test data loss: 2.350; top 1 accuracy: 0.361; top 5 accuracy: 0.737;\n"
          ],
          "name": "stdout"
        },
        {
          "output_type": "execute_result",
          "data": {
            "image/svg+xml": "<svg height=\"553pt\" viewBox=\"0.00 0.00 604.50 553.00\" width=\"605pt\" xmlns=\"http://www.w3.org/2000/svg\" xmlns:xlink=\"http://www.w3.org/1999/xlink\">\n<g class=\"graph\" id=\"graph0\" transform=\"scale(1 1) rotate(0) translate(4 549)\">\n<title>G</title>\n<polygon fill=\"white\" points=\"-4,4 -4,-549 600.5,-549 600.5,4 -4,4\" stroke=\"none\"/>\n<!-- 140566233907024 -->\n<g class=\"node\" id=\"node1\"><title>140566233907024</title>\n<polygon fill=\"none\" points=\"0,-498.5 0,-544.5 343,-544.5 343,-498.5 0,-498.5\" stroke=\"black\"/>\n<text font-family=\"Times,serif\" font-size=\"14.00\" text-anchor=\"middle\" x=\"102.5\" y=\"-517.8\">BOWEntitiesEncoded: InputLayer</text>\n<polyline fill=\"none\" points=\"205,-498.5 205,-544.5 \" stroke=\"black\"/>\n<text font-family=\"Times,serif\" font-size=\"14.00\" text-anchor=\"middle\" x=\"232.5\" y=\"-529.3\">input:</text>\n<polyline fill=\"none\" points=\"205,-521.5 260,-521.5 \" stroke=\"black\"/>\n<text font-family=\"Times,serif\" font-size=\"14.00\" text-anchor=\"middle\" x=\"232.5\" y=\"-506.3\">output:</text>\n<polyline fill=\"none\" points=\"260,-498.5 260,-544.5 \" stroke=\"black\"/>\n<text font-family=\"Times,serif\" font-size=\"14.00\" text-anchor=\"middle\" x=\"301.5\" y=\"-529.3\">(None, 100)</text>\n<polyline fill=\"none\" points=\"260,-521.5 343,-521.5 \" stroke=\"black\"/>\n<text font-family=\"Times,serif\" font-size=\"14.00\" text-anchor=\"middle\" x=\"301.5\" y=\"-506.3\">(None, 100)</text>\n</g>\n<!-- 140566227169872 -->\n<g class=\"node\" id=\"node2\"><title>140566227169872</title>\n<polygon fill=\"none\" points=\"11.5,-415.5 11.5,-461.5 331.5,-461.5 331.5,-415.5 11.5,-415.5\" stroke=\"black\"/>\n<text font-family=\"Times,serif\" font-size=\"14.00\" text-anchor=\"middle\" x=\"92\" y=\"-434.8\">embedding_3: Embedding</text>\n<polyline fill=\"none\" points=\"172.5,-415.5 172.5,-461.5 \" stroke=\"black\"/>\n<text font-family=\"Times,serif\" font-size=\"14.00\" text-anchor=\"middle\" x=\"200\" y=\"-446.3\">input:</text>\n<polyline fill=\"none\" points=\"172.5,-438.5 227.5,-438.5 \" stroke=\"black\"/>\n<text font-family=\"Times,serif\" font-size=\"14.00\" text-anchor=\"middle\" x=\"200\" y=\"-423.3\">output:</text>\n<polyline fill=\"none\" points=\"227.5,-415.5 227.5,-461.5 \" stroke=\"black\"/>\n<text font-family=\"Times,serif\" font-size=\"14.00\" text-anchor=\"middle\" x=\"279.5\" y=\"-446.3\">(None, 100)</text>\n<polyline fill=\"none\" points=\"227.5,-438.5 331.5,-438.5 \" stroke=\"black\"/>\n<text font-family=\"Times,serif\" font-size=\"14.00\" text-anchor=\"middle\" x=\"279.5\" y=\"-423.3\">(None, 100, 27)</text>\n</g>\n<!-- 140566233907024&#45;&gt;140566227169872 -->\n<g class=\"edge\" id=\"edge1\"><title>140566233907024-&gt;140566227169872</title>\n<path d=\"M171.5,-498.366C171.5,-490.152 171.5,-480.658 171.5,-471.725\" fill=\"none\" stroke=\"black\"/>\n<polygon fill=\"black\" points=\"175,-471.607 171.5,-461.607 168,-471.607 175,-471.607\" stroke=\"black\"/>\n</g>\n<!-- 140566234021968 -->\n<g class=\"node\" id=\"node3\"><title>140566234021968</title>\n<polygon fill=\"none\" points=\"37,-332.5 37,-378.5 306,-378.5 306,-332.5 37,-332.5\" stroke=\"black\"/>\n<text font-family=\"Times,serif\" font-size=\"14.00\" text-anchor=\"middle\" x=\"92\" y=\"-351.8\">flatten_3: Flatten</text>\n<polyline fill=\"none\" points=\"147,-332.5 147,-378.5 \" stroke=\"black\"/>\n<text font-family=\"Times,serif\" font-size=\"14.00\" text-anchor=\"middle\" x=\"174.5\" y=\"-363.3\">input:</text>\n<polyline fill=\"none\" points=\"147,-355.5 202,-355.5 \" stroke=\"black\"/>\n<text font-family=\"Times,serif\" font-size=\"14.00\" text-anchor=\"middle\" x=\"174.5\" y=\"-340.3\">output:</text>\n<polyline fill=\"none\" points=\"202,-332.5 202,-378.5 \" stroke=\"black\"/>\n<text font-family=\"Times,serif\" font-size=\"14.00\" text-anchor=\"middle\" x=\"254\" y=\"-363.3\">(None, 100, 27)</text>\n<polyline fill=\"none\" points=\"202,-355.5 306,-355.5 \" stroke=\"black\"/>\n<text font-family=\"Times,serif\" font-size=\"14.00\" text-anchor=\"middle\" x=\"254\" y=\"-340.3\">(None, 2700)</text>\n</g>\n<!-- 140566227169872&#45;&gt;140566234021968 -->\n<g class=\"edge\" id=\"edge2\"><title>140566227169872-&gt;140566234021968</title>\n<path d=\"M171.5,-415.366C171.5,-407.152 171.5,-397.658 171.5,-388.725\" fill=\"none\" stroke=\"black\"/>\n<polygon fill=\"black\" points=\"175,-388.607 171.5,-378.607 168,-388.607 175,-388.607\" stroke=\"black\"/>\n</g>\n<!-- 140566241865680 -->\n<g class=\"node\" id=\"node5\"><title>140566241865680</title>\n<polygon fill=\"none\" points=\"114.5,-249.5 114.5,-295.5 516.5,-295.5 516.5,-249.5 114.5,-249.5\" stroke=\"black\"/>\n<text font-family=\"Times,serif\" font-size=\"14.00\" text-anchor=\"middle\" x=\"198.5\" y=\"-268.8\">concatenate_1: Concatenate</text>\n<polyline fill=\"none\" points=\"282.5,-249.5 282.5,-295.5 \" stroke=\"black\"/>\n<text font-family=\"Times,serif\" font-size=\"14.00\" text-anchor=\"middle\" x=\"310\" y=\"-280.3\">input:</text>\n<polyline fill=\"none\" points=\"282.5,-272.5 337.5,-272.5 \" stroke=\"black\"/>\n<text font-family=\"Times,serif\" font-size=\"14.00\" text-anchor=\"middle\" x=\"310\" y=\"-257.3\">output:</text>\n<polyline fill=\"none\" points=\"337.5,-249.5 337.5,-295.5 \" stroke=\"black\"/>\n<text font-family=\"Times,serif\" font-size=\"14.00\" text-anchor=\"middle\" x=\"427\" y=\"-280.3\">[(None, 2700), (None, 4232)]</text>\n<polyline fill=\"none\" points=\"337.5,-272.5 516.5,-272.5 \" stroke=\"black\"/>\n<text font-family=\"Times,serif\" font-size=\"14.00\" text-anchor=\"middle\" x=\"427\" y=\"-257.3\">(None, 6932)</text>\n</g>\n<!-- 140566234021968&#45;&gt;140566241865680 -->\n<g class=\"edge\" id=\"edge3\"><title>140566234021968-&gt;140566241865680</title>\n<path d=\"M210.849,-332.366C228.31,-322.544 249.022,-310.894 267.393,-300.56\" fill=\"none\" stroke=\"black\"/>\n<polygon fill=\"black\" points=\"269.199,-303.56 276.199,-295.607 265.767,-297.459 269.199,-303.56\" stroke=\"black\"/>\n</g>\n<!-- 140566626281168 -->\n<g class=\"node\" id=\"node4\"><title>140566626281168</title>\n<polygon fill=\"none\" points=\"324.5,-332.5 324.5,-378.5 596.5,-378.5 596.5,-332.5 324.5,-332.5\" stroke=\"black\"/>\n<text font-family=\"Times,serif\" font-size=\"14.00\" text-anchor=\"middle\" x=\"388.5\" y=\"-351.8\">Domain: InputLayer</text>\n<polyline fill=\"none\" points=\"452.5,-332.5 452.5,-378.5 \" stroke=\"black\"/>\n<text font-family=\"Times,serif\" font-size=\"14.00\" text-anchor=\"middle\" x=\"480\" y=\"-363.3\">input:</text>\n<polyline fill=\"none\" points=\"452.5,-355.5 507.5,-355.5 \" stroke=\"black\"/>\n<text font-family=\"Times,serif\" font-size=\"14.00\" text-anchor=\"middle\" x=\"480\" y=\"-340.3\">output:</text>\n<polyline fill=\"none\" points=\"507.5,-332.5 507.5,-378.5 \" stroke=\"black\"/>\n<text font-family=\"Times,serif\" font-size=\"14.00\" text-anchor=\"middle\" x=\"552\" y=\"-363.3\">(None, 4232)</text>\n<polyline fill=\"none\" points=\"507.5,-355.5 596.5,-355.5 \" stroke=\"black\"/>\n<text font-family=\"Times,serif\" font-size=\"14.00\" text-anchor=\"middle\" x=\"552\" y=\"-340.3\">(None, 4232)</text>\n</g>\n<!-- 140566626281168&#45;&gt;140566241865680 -->\n<g class=\"edge\" id=\"edge4\"><title>140566626281168-&gt;140566241865680</title>\n<path d=\"M420.878,-332.366C403.296,-322.544 382.44,-310.894 363.941,-300.56\" fill=\"none\" stroke=\"black\"/>\n<polygon fill=\"black\" points=\"365.511,-297.428 355.074,-295.607 362.097,-303.539 365.511,-297.428\" stroke=\"black\"/>\n</g>\n<!-- 140566241863888 -->\n<g class=\"node\" id=\"node6\"><title>140566241863888</title>\n<polygon fill=\"none\" points=\"192.5,-166.5 192.5,-212.5 438.5,-212.5 438.5,-166.5 192.5,-166.5\" stroke=\"black\"/>\n<text font-family=\"Times,serif\" font-size=\"14.00\" text-anchor=\"middle\" x=\"243.5\" y=\"-185.8\">dense_3: Dense</text>\n<polyline fill=\"none\" points=\"294.5,-166.5 294.5,-212.5 \" stroke=\"black\"/>\n<text font-family=\"Times,serif\" font-size=\"14.00\" text-anchor=\"middle\" x=\"322\" y=\"-197.3\">input:</text>\n<polyline fill=\"none\" points=\"294.5,-189.5 349.5,-189.5 \" stroke=\"black\"/>\n<text font-family=\"Times,serif\" font-size=\"14.00\" text-anchor=\"middle\" x=\"322\" y=\"-174.3\">output:</text>\n<polyline fill=\"none\" points=\"349.5,-166.5 349.5,-212.5 \" stroke=\"black\"/>\n<text font-family=\"Times,serif\" font-size=\"14.00\" text-anchor=\"middle\" x=\"394\" y=\"-197.3\">(None, 6932)</text>\n<polyline fill=\"none\" points=\"349.5,-189.5 438.5,-189.5 \" stroke=\"black\"/>\n<text font-family=\"Times,serif\" font-size=\"14.00\" text-anchor=\"middle\" x=\"394\" y=\"-174.3\">(None, 500)</text>\n</g>\n<!-- 140566241865680&#45;&gt;140566241863888 -->\n<g class=\"edge\" id=\"edge5\"><title>140566241865680-&gt;140566241863888</title>\n<path d=\"M315.5,-249.366C315.5,-241.152 315.5,-231.658 315.5,-222.725\" fill=\"none\" stroke=\"black\"/>\n<polygon fill=\"black\" points=\"319,-222.607 315.5,-212.607 312,-222.607 319,-222.607\" stroke=\"black\"/>\n</g>\n<!-- 140566240647760 -->\n<g class=\"node\" id=\"node7\"><title>140566240647760</title>\n<polygon fill=\"none\" points=\"184,-83.5 184,-129.5 447,-129.5 447,-83.5 184,-83.5\" stroke=\"black\"/>\n<text font-family=\"Times,serif\" font-size=\"14.00\" text-anchor=\"middle\" x=\"246.5\" y=\"-102.8\">dropout_3: Dropout</text>\n<polyline fill=\"none\" points=\"309,-83.5 309,-129.5 \" stroke=\"black\"/>\n<text font-family=\"Times,serif\" font-size=\"14.00\" text-anchor=\"middle\" x=\"336.5\" y=\"-114.3\">input:</text>\n<polyline fill=\"none\" points=\"309,-106.5 364,-106.5 \" stroke=\"black\"/>\n<text font-family=\"Times,serif\" font-size=\"14.00\" text-anchor=\"middle\" x=\"336.5\" y=\"-91.3\">output:</text>\n<polyline fill=\"none\" points=\"364,-83.5 364,-129.5 \" stroke=\"black\"/>\n<text font-family=\"Times,serif\" font-size=\"14.00\" text-anchor=\"middle\" x=\"405.5\" y=\"-114.3\">(None, 500)</text>\n<polyline fill=\"none\" points=\"364,-106.5 447,-106.5 \" stroke=\"black\"/>\n<text font-family=\"Times,serif\" font-size=\"14.00\" text-anchor=\"middle\" x=\"405.5\" y=\"-91.3\">(None, 500)</text>\n</g>\n<!-- 140566241863888&#45;&gt;140566240647760 -->\n<g class=\"edge\" id=\"edge6\"><title>140566241863888-&gt;140566240647760</title>\n<path d=\"M315.5,-166.366C315.5,-158.152 315.5,-148.658 315.5,-139.725\" fill=\"none\" stroke=\"black\"/>\n<polygon fill=\"black\" points=\"319,-139.607 315.5,-129.607 312,-139.607 319,-139.607\" stroke=\"black\"/>\n</g>\n<!-- 140566240648464 -->\n<g class=\"node\" id=\"node8\"><title>140566240648464</title>\n<polygon fill=\"none\" points=\"172,-0.5 172,-46.5 459,-46.5 459,-0.5 172,-0.5\" stroke=\"black\"/>\n<text font-family=\"Times,serif\" font-size=\"14.00\" text-anchor=\"middle\" x=\"246.5\" y=\"-19.8\">subreddit_output: Dense</text>\n<polyline fill=\"none\" points=\"321,-0.5 321,-46.5 \" stroke=\"black\"/>\n<text font-family=\"Times,serif\" font-size=\"14.00\" text-anchor=\"middle\" x=\"348.5\" y=\"-31.3\">input:</text>\n<polyline fill=\"none\" points=\"321,-23.5 376,-23.5 \" stroke=\"black\"/>\n<text font-family=\"Times,serif\" font-size=\"14.00\" text-anchor=\"middle\" x=\"348.5\" y=\"-8.3\">output:</text>\n<polyline fill=\"none\" points=\"376,-0.5 376,-46.5 \" stroke=\"black\"/>\n<text font-family=\"Times,serif\" font-size=\"14.00\" text-anchor=\"middle\" x=\"417.5\" y=\"-31.3\">(None, 500)</text>\n<polyline fill=\"none\" points=\"376,-23.5 459,-23.5 \" stroke=\"black\"/>\n<text font-family=\"Times,serif\" font-size=\"14.00\" text-anchor=\"middle\" x=\"417.5\" y=\"-8.3\">(None, 150)</text>\n</g>\n<!-- 140566240647760&#45;&gt;140566240648464 -->\n<g class=\"edge\" id=\"edge7\"><title>140566240647760-&gt;140566240648464</title>\n<path d=\"M315.5,-83.3664C315.5,-75.1516 315.5,-65.6579 315.5,-56.7252\" fill=\"none\" stroke=\"black\"/>\n<polygon fill=\"black\" points=\"319,-56.6068 315.5,-46.6068 312,-56.6069 319,-56.6068\" stroke=\"black\"/>\n</g>\n</g>\n</svg>",
            "text/plain": [
              "<IPython.core.display.SVG at 0x7fd81d4621d0>"
            ]
          },
          "metadata": {
            "tags": []
          },
          "execution_count": 10
        }
      ]
    },
    {
      "metadata": {
        "id": "0_psJ6-d-SoQ",
        "colab_type": "text"
      },
      "cell_type": "markdown",
      "source": [
        "### BOWEntitiesEncoded and Domain to Subreddit Classification Samples"
      ]
    },
    {
      "metadata": {
        "id": "bNvBG5Pw9e0W",
        "colab_type": "code",
        "colab": {
          "autoexec": {
            "startup": false,
            "wait_interval": 0
          },
          "output_extras": [
            {}
          ],
          "height": 443
        },
        "outputId": "0a5f302d-8d3e-47c8-ee64-5a01cd45e7e0",
        "executionInfo": {
          "status": "ok",
          "timestamp": 1518588883123,
          "user_tz": 480,
          "elapsed": 716,
          "user": {
            "displayName": "Sergei Sokolenko",
            "photoUrl": "//lh6.googleusercontent.com/-iyAOAY88u7I/AAAAAAAAAAI/AAAAAAAAABA/9ECequ778Ss/s50-c-k-no/photo.jpg",
            "userId": "106652311097239389877"
          }
        }
      },
      "cell_type": "code",
      "source": [
        "print_singlelabel_prediction_samples(y_true=y_test['subreddit_output'], \n",
        "                                     classes_dict=subreddit_classes,\n",
        "                                     start_idx=10)"
      ],
      "execution_count": 0,
      "outputs": [
        {
          "output_type": "stream",
          "text": [
            "Examples of exact matches (Actual Label = Top 1 Predicted Label):\n",
            "Test record index #12 Prediction input:  BOWEntitiesEncoded [Decode function not implemented] Domain [komonews.com]\n",
            "News Urls: http://komonews.com/news/local/man-hit-by-bus-in-downtown-suffers-life-threatening-injuries\n",
            "Reddit Post Urls: https://www.reddit.com/r/SeattleWA/comments/6f200s/\n",
            "Top 5 predicted labels: SeattleWA (0.91) nottheonion (0.02) GunsAreCool (0.01) news (0.01) mobilityreport (0.01) \n",
            "Actual label: SeattleWA [ #1 prediction]\n",
            "\n",
            "\n",
            "Examples of approx. matches (Actual Label in Top 5 Predicted Labels):\n",
            "Test record index #10 Prediction input:  BOWEntitiesEncoded [Decode function not implemented] Domain [bbc.com]\n",
            "News Urls: http://www.bbc.com/news/world-europe-40242531\n",
            "Reddit Post Urls: https://www.reddit.com/r/worldnewshub/comments/6gmxq4/\n",
            "Top 5 predicted labels: worldnews (0.19) worldnewshub (0.12) Raytheon (0.12) news (0.10) europe (0.07) \n",
            "Actual label: worldnewshub [ #2 prediction]\n",
            "\n",
            "\n",
            "Examples of bad matches (Actual Label not in Top 5 predictions):\n",
            "Test record index #13 Prediction input:  BOWEntitiesEncoded [Decode function not implemented] Domain [businessinsider.com]\n",
            "News Urls: http://www.businessinsider.com/evidence-russia-meddled-in-us-election-2017-6\n",
            "Reddit Post Urls: https://www.reddit.com/r/neutralnews/comments/6j97bf/\n",
            "Top 5 predicted labels: politics (0.17) news (0.17) The_Donald (0.10) conspiracy (0.07) Impeach_Trump (0.05) \n",
            "Actual label: neutralnews [ not found among 5 top predictions]\n",
            "\n",
            "\n"
          ],
          "name": "stdout"
        }
      ]
    },
    {
      "metadata": {
        "id": "GYeIGFz1-bvt",
        "colab_type": "text"
      },
      "cell_type": "markdown",
      "source": [
        "### BOWEntitiesEncoded and Domain to Subreddit and RedditSubmitter Classification"
      ]
    },
    {
      "metadata": {
        "id": "CtMq7mNe--6L",
        "colab_type": "code",
        "colab": {
          "autoexec": {
            "startup": false,
            "wait_interval": 0
          },
          "output_extras": [
            {},
            {}
          ],
          "height": 862
        },
        "outputId": "9cab8e73-75a7-4253-8f44-d72840e52d95",
        "executionInfo": {
          "status": "ok",
          "timestamp": 1518589167953,
          "user_tz": 480,
          "elapsed": 276631,
          "user": {
            "displayName": "Sergei Sokolenko",
            "photoUrl": "//lh6.googleusercontent.com/-iyAOAY88u7I/AAAAAAAAAAI/AAAAAAAAABA/9ECequ778Ss/s50-c-k-no/photo.jpg",
            "userId": "106652311097239389877"
          }
        }
      },
      "cell_type": "code",
      "source": [
        "# BOWEntitiesEncoded, Domain -> Subreddit, RedditSubmitter \n",
        "# Single-Label Classification\n",
        "\n",
        "(model, history, x_train, x_test, y_train, y_test) = compile_and_fit_model(inputs = ['BOWEntitiesEncoded','Domain'], outputs=['Subreddit','RedditSubmitter'])\n",
        "\n",
        "SVG(model_to_dot(model, show_shapes=False).create(prog='dot', format='svg'))\n"
      ],
      "execution_count": 0,
      "outputs": [
        {
          "output_type": "stream",
          "text": [
            "Using 150 unique values for subreddit\n",
            "Using 4232 unique values for domain\n",
            "Using 2020 unique values for submitter\n",
            "Using 32376 unique values for BOWEntitiesEncoded\n",
            "Train on 110434 samples, validate on 12271 samples\n",
            "Epoch 1/2\n",
            " - 116s - loss: 7.0773 - subreddit_output_loss: 3.0157 - submitter_output_loss: 4.0617 - subreddit_output_acc: 0.2963 - subreddit_output_top_k_categorical_accuracy: 0.6032 - submitter_output_acc: 0.2745 - submitter_output_top_k_categorical_accuracy: 0.5828 - val_loss: 5.8692 - val_subreddit_output_loss: 2.4344 - val_submitter_output_loss: 3.4348 - val_subreddit_output_acc: 0.3745 - val_subreddit_output_top_k_categorical_accuracy: 0.7168 - val_submitter_output_acc: 0.3253 - val_submitter_output_top_k_categorical_accuracy: 0.6586\n",
            "Epoch 2/2\n",
            " - 116s - loss: 5.2865 - subreddit_output_loss: 2.2068 - submitter_output_loss: 3.0797 - subreddit_output_acc: 0.4076 - subreddit_output_top_k_categorical_accuracy: 0.7597 - submitter_output_acc: 0.3510 - submitter_output_top_k_categorical_accuracy: 0.6828 - val_loss: 5.5459 - val_subreddit_output_loss: 2.3106 - val_submitter_output_loss: 3.2353 - val_subreddit_output_acc: 0.3726 - val_subreddit_output_top_k_categorical_accuracy: 0.7429 - val_submitter_output_acc: 0.3331 - val_submitter_output_top_k_categorical_accuracy: 0.6818\n",
            "Test metrics: total loss: 5.460; output_1 loss: 2.320; output_2 loss: 3.140; output_1 top 1 accuracy: 0.366; output_1 top 5 accuracy: 0.740; output_2 top 1 accuracy: 0.335; output_2 top 5 accuracy: 0.688;\n"
          ],
          "name": "stdout"
        },
        {
          "output_type": "execute_result",
          "data": {
            "image/svg+xml": "<svg height=\"483pt\" viewBox=\"0.00 0.00 338.00 483.00\" width=\"338pt\" xmlns=\"http://www.w3.org/2000/svg\" xmlns:xlink=\"http://www.w3.org/1999/xlink\">\n<g class=\"graph\" id=\"graph0\" transform=\"scale(1 1) rotate(0) translate(4 479)\">\n<title>G</title>\n<polygon fill=\"white\" points=\"-4,4 -4,-479 334,-479 334,4 -4,4\" stroke=\"none\"/>\n<!-- 140566281181200 -->\n<g class=\"node\" id=\"node1\"><title>140566281181200</title>\n<polygon fill=\"none\" points=\"0,-438.5 0,-474.5 205,-474.5 205,-438.5 0,-438.5\" stroke=\"black\"/>\n<text font-family=\"Times,serif\" font-size=\"14.00\" text-anchor=\"middle\" x=\"102.5\" y=\"-452.8\">BOWEntitiesEncoded: InputLayer</text>\n</g>\n<!-- 140566183076304 -->\n<g class=\"node\" id=\"node2\"><title>140566183076304</title>\n<polygon fill=\"none\" points=\"22,-365.5 22,-401.5 183,-401.5 183,-365.5 22,-365.5\" stroke=\"black\"/>\n<text font-family=\"Times,serif\" font-size=\"14.00\" text-anchor=\"middle\" x=\"102.5\" y=\"-379.8\">embedding_4: Embedding</text>\n</g>\n<!-- 140566281181200&#45;&gt;140566183076304 -->\n<g class=\"edge\" id=\"edge1\"><title>140566281181200-&gt;140566183076304</title>\n<path d=\"M102.5,-438.313C102.5,-430.289 102.5,-420.547 102.5,-411.569\" fill=\"none\" stroke=\"black\"/>\n<polygon fill=\"black\" points=\"106,-411.529 102.5,-401.529 99.0001,-411.529 106,-411.529\" stroke=\"black\"/>\n</g>\n<!-- 140566234301072 -->\n<g class=\"node\" id=\"node3\"><title>140566234301072</title>\n<polygon fill=\"none\" points=\"47.5,-292.5 47.5,-328.5 157.5,-328.5 157.5,-292.5 47.5,-292.5\" stroke=\"black\"/>\n<text font-family=\"Times,serif\" font-size=\"14.00\" text-anchor=\"middle\" x=\"102.5\" y=\"-306.8\">flatten_4: Flatten</text>\n</g>\n<!-- 140566183076304&#45;&gt;140566234301072 -->\n<g class=\"edge\" id=\"edge2\"><title>140566183076304-&gt;140566234301072</title>\n<path d=\"M102.5,-365.313C102.5,-357.289 102.5,-347.547 102.5,-338.569\" fill=\"none\" stroke=\"black\"/>\n<polygon fill=\"black\" points=\"106,-338.529 102.5,-328.529 99.0001,-338.529 106,-338.529\" stroke=\"black\"/>\n</g>\n<!-- 140566222000528 -->\n<g class=\"node\" id=\"node5\"><title>140566222000528</title>\n<polygon fill=\"none\" points=\"86.5,-219.5 86.5,-255.5 254.5,-255.5 254.5,-219.5 86.5,-219.5\" stroke=\"black\"/>\n<text font-family=\"Times,serif\" font-size=\"14.00\" text-anchor=\"middle\" x=\"170.5\" y=\"-233.8\">concatenate_2: Concatenate</text>\n</g>\n<!-- 140566234301072&#45;&gt;140566222000528 -->\n<g class=\"edge\" id=\"edge3\"><title>140566234301072-&gt;140566222000528</title>\n<path d=\"M118.961,-292.313C127.397,-283.505 137.817,-272.625 147.075,-262.958\" fill=\"none\" stroke=\"black\"/>\n<polygon fill=\"black\" points=\"149.802,-265.172 154.191,-255.529 144.746,-260.33 149.802,-265.172\" stroke=\"black\"/>\n</g>\n<!-- 140566626282384 -->\n<g class=\"node\" id=\"node4\"><title>140566626282384</title>\n<polygon fill=\"none\" points=\"175.5,-292.5 175.5,-328.5 303.5,-328.5 303.5,-292.5 175.5,-292.5\" stroke=\"black\"/>\n<text font-family=\"Times,serif\" font-size=\"14.00\" text-anchor=\"middle\" x=\"239.5\" y=\"-306.8\">Domain: InputLayer</text>\n</g>\n<!-- 140566626282384&#45;&gt;140566222000528 -->\n<g class=\"edge\" id=\"edge4\"><title>140566626282384-&gt;140566222000528</title>\n<path d=\"M222.797,-292.313C214.237,-283.505 203.664,-272.625 194.269,-262.958\" fill=\"none\" stroke=\"black\"/>\n<polygon fill=\"black\" points=\"196.529,-260.261 187.049,-255.529 191.509,-265.14 196.529,-260.261\" stroke=\"black\"/>\n</g>\n<!-- 140566222003600 -->\n<g class=\"node\" id=\"node6\"><title>140566222003600</title>\n<polygon fill=\"none\" points=\"119.5,-146.5 119.5,-182.5 221.5,-182.5 221.5,-146.5 119.5,-146.5\" stroke=\"black\"/>\n<text font-family=\"Times,serif\" font-size=\"14.00\" text-anchor=\"middle\" x=\"170.5\" y=\"-160.8\">dense_4: Dense</text>\n</g>\n<!-- 140566222000528&#45;&gt;140566222003600 -->\n<g class=\"edge\" id=\"edge5\"><title>140566222000528-&gt;140566222003600</title>\n<path d=\"M170.5,-219.313C170.5,-211.289 170.5,-201.547 170.5,-192.569\" fill=\"none\" stroke=\"black\"/>\n<polygon fill=\"black\" points=\"174,-192.529 170.5,-182.529 167,-192.529 174,-192.529\" stroke=\"black\"/>\n</g>\n<!-- 140566095945872 -->\n<g class=\"node\" id=\"node7\"><title>140566095945872</title>\n<polygon fill=\"none\" points=\"108,-73.5 108,-109.5 233,-109.5 233,-73.5 108,-73.5\" stroke=\"black\"/>\n<text font-family=\"Times,serif\" font-size=\"14.00\" text-anchor=\"middle\" x=\"170.5\" y=\"-87.8\">dropout_4: Dropout</text>\n</g>\n<!-- 140566222003600&#45;&gt;140566095945872 -->\n<g class=\"edge\" id=\"edge6\"><title>140566222003600-&gt;140566095945872</title>\n<path d=\"M170.5,-146.313C170.5,-138.289 170.5,-128.547 170.5,-119.569\" fill=\"none\" stroke=\"black\"/>\n<polygon fill=\"black\" points=\"174,-119.529 170.5,-109.529 167,-119.529 174,-119.529\" stroke=\"black\"/>\n</g>\n<!-- 140566095948240 -->\n<g class=\"node\" id=\"node8\"><title>140566095948240</title>\n<polygon fill=\"none\" points=\"12,-0.5 12,-36.5 161,-36.5 161,-0.5 12,-0.5\" stroke=\"black\"/>\n<text font-family=\"Times,serif\" font-size=\"14.00\" text-anchor=\"middle\" x=\"86.5\" y=\"-14.8\">subreddit_output: Dense</text>\n</g>\n<!-- 140566095945872&#45;&gt;140566095948240 -->\n<g class=\"edge\" id=\"edge7\"><title>140566095945872-&gt;140566095948240</title>\n<path d=\"M150.166,-73.3129C139.435,-64.243 126.106,-52.9769 114.422,-43.1004\" fill=\"none\" stroke=\"black\"/>\n<polygon fill=\"black\" points=\"116.544,-40.3112 106.647,-36.5288 112.025,-45.6573 116.544,-40.3112\" stroke=\"black\"/>\n</g>\n<!-- 140566125580240 -->\n<g class=\"node\" id=\"node9\"><title>140566125580240</title>\n<polygon fill=\"none\" points=\"179,-0.5 179,-36.5 330,-36.5 330,-0.5 179,-0.5\" stroke=\"black\"/>\n<text font-family=\"Times,serif\" font-size=\"14.00\" text-anchor=\"middle\" x=\"254.5\" y=\"-14.8\">submitter_output: Dense</text>\n</g>\n<!-- 140566095945872&#45;&gt;140566125580240 -->\n<g class=\"edge\" id=\"edge8\"><title>140566095945872-&gt;140566125580240</title>\n<path d=\"M190.834,-73.3129C201.565,-64.243 214.894,-52.9769 226.578,-43.1004\" fill=\"none\" stroke=\"black\"/>\n<polygon fill=\"black\" points=\"228.975,-45.6573 234.353,-36.5288 224.456,-40.3112 228.975,-45.6573\" stroke=\"black\"/>\n</g>\n</g>\n</svg>",
            "text/plain": [
              "<IPython.core.display.SVG at 0x7fd81fbad350>"
            ]
          },
          "metadata": {
            "tags": []
          },
          "execution_count": 12
        }
      ]
    },
    {
      "metadata": {
        "id": "I_NVBbt9-h8U",
        "colab_type": "text"
      },
      "cell_type": "markdown",
      "source": [
        "### Subreddit Multi-Label Classification"
      ]
    },
    {
      "metadata": {
        "id": "9Hy0PerZBvZ3",
        "colab_type": "code",
        "colab": {
          "autoexec": {
            "startup": false,
            "wait_interval": 0
          },
          "output_extras": [
            {},
            {},
            {}
          ],
          "height": 895
        },
        "outputId": "80b0842d-f0ed-4359-a0fd-73653852858e",
        "executionInfo": {
          "status": "ok",
          "timestamp": 1518590417590,
          "user_tz": 480,
          "elapsed": 363951,
          "user": {
            "displayName": "Sergei Sokolenko",
            "photoUrl": "//lh6.googleusercontent.com/-iyAOAY88u7I/AAAAAAAAAAI/AAAAAAAAABA/9ECequ778Ss/s50-c-k-no/photo.jpg",
            "userId": "106652311097239389877"
          }
        }
      },
      "cell_type": "code",
      "source": [
        "# BOWEntitiesEncoded, Domain -> Subreddit \n",
        "# Multi-Label Classification\n",
        "\n",
        "current_learning_goal = 'MlbSubredditClassification'\n",
        "set_columns_for_goal()\n",
        "reddit_df = get_bq_data_for_goal()\n",
        "(training_features, training_labels,validation_features, validation_labels) = create_train_test_features_labels()\n",
        "\n",
        "\n",
        "(model, history, x_train, x_test, y_train, y_test) = compile_and_fit_model(inputs = ['BOWEntitiesEncoded','Domain'], outputs=['Subreddit'])\n",
        "\n",
        "SVG(model_to_dot(model, show_shapes=False).create(prog='dot', format='svg'))\n"
      ],
      "execution_count": 0,
      "outputs": [
        {
          "output_type": "stream",
          "text": [
            "Waiting on bqjob_r6cd4702065323f8b_000001619305507b_2 ... (195s) Current status: DONE   "
          ],
          "name": "stderr"
        },
        {
          "output_type": "stream",
          "text": [
            "\n",
            "Size of reddit set: 89313 records\n",
            "Size of train set: 70736 records\n",
            "Size of test set: 17683 records\n",
            "Using 150 unique values for subreddit\n",
            "Using 4131 unique values for domain\n",
            "Using 32208 unique values for BOWEntitiesEncoded\n",
            "Train on 63662 samples, validate on 7074 samples\n",
            "Epoch 1/2\n",
            " - 50s - loss: 0.0480 - acc: 0.9889 - top_k_categorical_accuracy: 0.5804 - val_loss: 0.0330 - val_acc: 0.9909 - val_top_k_categorical_accuracy: 0.7843\n",
            "Epoch 2/2\n",
            " - 55s - loss: 0.0292 - acc: 0.9916 - top_k_categorical_accuracy: 0.8237 - val_loss: 0.0288 - val_acc: 0.9917 - val_top_k_categorical_accuracy: 0.8425\n",
            "Test data loss: 0.029; top 1 accuracy: 0.992; top 5 accuracy: 0.839;\n"
          ],
          "name": "stdout"
        },
        {
          "output_type": "execute_result",
          "data": {
            "image/svg+xml": "<svg height=\"483pt\" viewBox=\"0.00 0.00 311.50 483.00\" width=\"312pt\" xmlns=\"http://www.w3.org/2000/svg\" xmlns:xlink=\"http://www.w3.org/1999/xlink\">\n<g class=\"graph\" id=\"graph0\" transform=\"scale(1 1) rotate(0) translate(4 479)\">\n<title>G</title>\n<polygon fill=\"white\" points=\"-4,4 -4,-479 307.5,-479 307.5,4 -4,4\" stroke=\"none\"/>\n<!-- 140566241865296 -->\n<g class=\"node\" id=\"node1\"><title>140566241865296</title>\n<polygon fill=\"none\" points=\"0,-438.5 0,-474.5 205,-474.5 205,-438.5 0,-438.5\" stroke=\"black\"/>\n<text font-family=\"Times,serif\" font-size=\"14.00\" text-anchor=\"middle\" x=\"102.5\" y=\"-452.8\">BOWEntitiesEncoded: InputLayer</text>\n</g>\n<!-- 140566064428816 -->\n<g class=\"node\" id=\"node2\"><title>140566064428816</title>\n<polygon fill=\"none\" points=\"22,-365.5 22,-401.5 183,-401.5 183,-365.5 22,-365.5\" stroke=\"black\"/>\n<text font-family=\"Times,serif\" font-size=\"14.00\" text-anchor=\"middle\" x=\"102.5\" y=\"-379.8\">embedding_5: Embedding</text>\n</g>\n<!-- 140566241865296&#45;&gt;140566064428816 -->\n<g class=\"edge\" id=\"edge1\"><title>140566241865296-&gt;140566064428816</title>\n<path d=\"M102.5,-438.313C102.5,-430.289 102.5,-420.547 102.5,-411.569\" fill=\"none\" stroke=\"black\"/>\n<polygon fill=\"black\" points=\"106,-411.529 102.5,-401.529 99.0001,-411.529 106,-411.529\" stroke=\"black\"/>\n</g>\n<!-- 140566626279952 -->\n<g class=\"node\" id=\"node3\"><title>140566626279952</title>\n<polygon fill=\"none\" points=\"47.5,-292.5 47.5,-328.5 157.5,-328.5 157.5,-292.5 47.5,-292.5\" stroke=\"black\"/>\n<text font-family=\"Times,serif\" font-size=\"14.00\" text-anchor=\"middle\" x=\"102.5\" y=\"-306.8\">flatten_5: Flatten</text>\n</g>\n<!-- 140566064428816&#45;&gt;140566626279952 -->\n<g class=\"edge\" id=\"edge2\"><title>140566064428816-&gt;140566626279952</title>\n<path d=\"M102.5,-365.313C102.5,-357.289 102.5,-347.547 102.5,-338.569\" fill=\"none\" stroke=\"black\"/>\n<polygon fill=\"black\" points=\"106,-338.529 102.5,-328.529 99.0001,-338.529 106,-338.529\" stroke=\"black\"/>\n</g>\n<!-- 140566626281424 -->\n<g class=\"node\" id=\"node5\"><title>140566626281424</title>\n<polygon fill=\"none\" points=\"86.5,-219.5 86.5,-255.5 254.5,-255.5 254.5,-219.5 86.5,-219.5\" stroke=\"black\"/>\n<text font-family=\"Times,serif\" font-size=\"14.00\" text-anchor=\"middle\" x=\"170.5\" y=\"-233.8\">concatenate_3: Concatenate</text>\n</g>\n<!-- 140566626279952&#45;&gt;140566626281424 -->\n<g class=\"edge\" id=\"edge3\"><title>140566626279952-&gt;140566626281424</title>\n<path d=\"M118.961,-292.313C127.397,-283.505 137.817,-272.625 147.075,-262.958\" fill=\"none\" stroke=\"black\"/>\n<polygon fill=\"black\" points=\"149.802,-265.172 154.191,-255.529 144.746,-260.33 149.802,-265.172\" stroke=\"black\"/>\n</g>\n<!-- 140566626281616 -->\n<g class=\"node\" id=\"node4\"><title>140566626281616</title>\n<polygon fill=\"none\" points=\"175.5,-292.5 175.5,-328.5 303.5,-328.5 303.5,-292.5 175.5,-292.5\" stroke=\"black\"/>\n<text font-family=\"Times,serif\" font-size=\"14.00\" text-anchor=\"middle\" x=\"239.5\" y=\"-306.8\">Domain: InputLayer</text>\n</g>\n<!-- 140566626281616&#45;&gt;140566626281424 -->\n<g class=\"edge\" id=\"edge4\"><title>140566626281616-&gt;140566626281424</title>\n<path d=\"M222.797,-292.313C214.237,-283.505 203.664,-272.625 194.269,-262.958\" fill=\"none\" stroke=\"black\"/>\n<polygon fill=\"black\" points=\"196.529,-260.261 187.049,-255.529 191.509,-265.14 196.529,-260.261\" stroke=\"black\"/>\n</g>\n<!-- 140566695132752 -->\n<g class=\"node\" id=\"node6\"><title>140566695132752</title>\n<polygon fill=\"none\" points=\"119.5,-146.5 119.5,-182.5 221.5,-182.5 221.5,-146.5 119.5,-146.5\" stroke=\"black\"/>\n<text font-family=\"Times,serif\" font-size=\"14.00\" text-anchor=\"middle\" x=\"170.5\" y=\"-160.8\">dense_5: Dense</text>\n</g>\n<!-- 140566626281424&#45;&gt;140566695132752 -->\n<g class=\"edge\" id=\"edge5\"><title>140566626281424-&gt;140566695132752</title>\n<path d=\"M170.5,-219.313C170.5,-211.289 170.5,-201.547 170.5,-192.569\" fill=\"none\" stroke=\"black\"/>\n<polygon fill=\"black\" points=\"174,-192.529 170.5,-182.529 167,-192.529 174,-192.529\" stroke=\"black\"/>\n</g>\n<!-- 140566064427920 -->\n<g class=\"node\" id=\"node7\"><title>140566064427920</title>\n<polygon fill=\"none\" points=\"108,-73.5 108,-109.5 233,-109.5 233,-73.5 108,-73.5\" stroke=\"black\"/>\n<text font-family=\"Times,serif\" font-size=\"14.00\" text-anchor=\"middle\" x=\"170.5\" y=\"-87.8\">dropout_5: Dropout</text>\n</g>\n<!-- 140566695132752&#45;&gt;140566064427920 -->\n<g class=\"edge\" id=\"edge6\"><title>140566695132752-&gt;140566064427920</title>\n<path d=\"M170.5,-146.313C170.5,-138.289 170.5,-128.547 170.5,-119.569\" fill=\"none\" stroke=\"black\"/>\n<polygon fill=\"black\" points=\"174,-119.529 170.5,-109.529 167,-119.529 174,-119.529\" stroke=\"black\"/>\n</g>\n<!-- 140566064427152 -->\n<g class=\"node\" id=\"node8\"><title>140566064427152</title>\n<polygon fill=\"none\" points=\"96,-0.5 96,-36.5 245,-36.5 245,-0.5 96,-0.5\" stroke=\"black\"/>\n<text font-family=\"Times,serif\" font-size=\"14.00\" text-anchor=\"middle\" x=\"170.5\" y=\"-14.8\">subreddit_output: Dense</text>\n</g>\n<!-- 140566064427920&#45;&gt;140566064427152 -->\n<g class=\"edge\" id=\"edge7\"><title>140566064427920-&gt;140566064427152</title>\n<path d=\"M170.5,-73.3129C170.5,-65.2895 170.5,-55.5475 170.5,-46.5691\" fill=\"none\" stroke=\"black\"/>\n<polygon fill=\"black\" points=\"174,-46.5288 170.5,-36.5288 167,-46.5289 174,-46.5288\" stroke=\"black\"/>\n</g>\n</g>\n</svg>",
            "text/plain": [
              "<IPython.core.display.SVG at 0x7fd81f2f1090>"
            ]
          },
          "metadata": {
            "tags": []
          },
          "execution_count": 13
        }
      ]
    },
    {
      "metadata": {
        "id": "wBPVEnYv-sNH",
        "colab_type": "text"
      },
      "cell_type": "markdown",
      "source": [
        "### Multi-label accuracy metrics"
      ]
    },
    {
      "metadata": {
        "id": "GHuGRKKqZ69m",
        "colab_type": "code",
        "colab": {
          "autoexec": {
            "startup": false,
            "wait_interval": 0
          },
          "output_extras": [
            {}
          ],
          "height": 88
        },
        "outputId": "acbb4b02-750e-4e6f-d131-5fea3ffb3c26",
        "executionInfo": {
          "status": "ok",
          "timestamp": 1518592539209,
          "user_tz": 480,
          "elapsed": 127637,
          "user": {
            "displayName": "Sergei Sokolenko",
            "photoUrl": "//lh6.googleusercontent.com/-iyAOAY88u7I/AAAAAAAAAAI/AAAAAAAAABA/9ECequ778Ss/s50-c-k-no/photo.jpg",
            "userId": "106652311097239389877"
          }
        }
      },
      "cell_type": "code",
      "source": [
        "# Multi-label accuracy metrics\n",
        "\n",
        "(y_pred,acc_score,h_loss,r_loss) = eval_multilabel_metrics(model, x_test, y_true = y_test['subreddit_output'])\n",
        "\n"
      ],
      "execution_count": 0,
      "outputs": [
        {
          "output_type": "stream",
          "text": [
            "Total correctly predicted: 4509 out of 17683 (absolute accuracy: 0.255)\n",
            "Multi-label accuracy score: 0.255\n",
            "Hamming loss: 0.014\n",
            "Label ranking loss: 0.030\n"
          ],
          "name": "stdout"
        }
      ]
    },
    {
      "metadata": {
        "id": "wH_ncWFOxGDX",
        "colab_type": "code",
        "colab": {
          "autoexec": {
            "startup": false,
            "wait_interval": 0
          },
          "output_extras": [
            {}
          ],
          "height": 2310
        },
        "outputId": "1c5852da-6543-4995-8e09-a7a01d391740",
        "executionInfo": {
          "status": "ok",
          "timestamp": 1518592557027,
          "user_tz": 480,
          "elapsed": 7498,
          "user": {
            "displayName": "Sergei Sokolenko",
            "photoUrl": "//lh6.googleusercontent.com/-iyAOAY88u7I/AAAAAAAAAAI/AAAAAAAAABA/9ECequ778Ss/s50-c-k-no/photo.jpg",
            "userId": "106652311097239389877"
          }
        }
      },
      "cell_type": "code",
      "source": [
        "# Precision and Recall metrics\n",
        "#plot_roc_curves(y_true = y_test['subreddit_output'], y_pred=y_pred)\n",
        "\n",
        "summary_df = calc_multilabel_precision_recall(y_true = y_test['subreddit_output'], y_pred = y_pred)\n",
        "#pd.set_option('display.max_rows', 1000)\n",
        "print(summary_df)\n"
      ],
      "execution_count": 0,
      "outputs": [
        {
          "output_type": "stream",
          "text": [
            "                       sum_true  sum_pred  sum_TP    recall  precision  \\\n",
            "subreddit                                                                \n",
            "<unknown>                   0.0       0.0     0.0       NaN        NaN   \n",
            "politics                 2366.0    2652.0  1643.0  0.694421   0.619532   \n",
            "worldnewshub             1957.0    3198.0  1108.0  0.566173   0.346467   \n",
            "news                     1727.0    1225.0   653.0  0.378112   0.533061   \n",
            "worldnews                1468.0    2319.0   823.0  0.560627   0.354894   \n",
            "the_donald               1357.0    1501.0   725.0  0.534267   0.483011   \n",
            "ecointernet              1302.0    1306.0   997.0  0.765745   0.763400   \n",
            "thecolorisblue           1244.0    1320.0  1099.0  0.883441   0.832576   \n",
            "willis7737_news           685.0     691.0   685.0  1.000000   0.991317   \n",
            "india                     677.0     819.0   600.0  0.886263   0.732601   \n",
            "ukpolitics                601.0     865.0   479.0  0.797005   0.553757   \n",
            "raytheon                  485.0     898.0   324.0  0.668041   0.360802   \n",
            "donaldtrumpwhitehouse     404.0    1708.0   313.0  0.774752   0.183255   \n",
            "redditsample              388.0     624.0   341.0  0.878866   0.546474   \n",
            "nottheonion               392.0    1038.0   136.0  0.346939   0.131021   \n",
            "enoughtrumpspam           358.0     156.0   103.0  0.287709   0.660256   \n",
            "unitedkingdom             334.0     957.0   231.0  0.691617   0.241379   \n",
            "technology                311.0     236.0    83.0  0.266881   0.351695   \n",
            "conspiracy                308.0     156.0    60.0  0.194805   0.384615   \n",
            "europe                    253.0      99.0    56.0  0.221344   0.565657   \n",
            "canada                    241.0     434.0   190.0  0.788382   0.437788   \n",
            "conservative              285.0     440.0   107.0  0.375439   0.243182   \n",
            "skydtech                  256.0     256.0   256.0  1.000000   1.000000   \n",
            "thecolorisorange          227.0     226.0   226.0  0.995595   1.000000   \n",
            "movies                    233.0     234.0   162.0  0.695279   0.692308   \n",
            "techfeed                  241.0     241.0   241.0  1.000000   1.000000   \n",
            "mobilityreport            223.0     149.0   104.0  0.466368   0.697987   \n",
            "futurology                250.0     321.0   100.0  0.400000   0.311526   \n",
            "nofilternews              213.0    1182.0    62.0  0.291080   0.052453   \n",
            "bbcnewsuk                 205.0     373.0   204.0  0.995122   0.546917   \n",
            "...                         ...       ...     ...       ...        ...   \n",
            "maybetheonion              42.0      25.0     2.0  0.047619   0.080000   \n",
            "sino                       55.0      15.0     8.0  0.145455   0.533333   \n",
            "xboxone                    49.0      57.0    27.0  0.551020   0.473684   \n",
            "todayilearned              47.0       0.0     0.0  0.000000        NaN   \n",
            "medical_news               50.0      41.0    33.0  0.660000   0.804878   \n",
            "enough_sanders_spam        61.0     172.0    15.0  0.245902   0.087209   \n",
            "honolulu                   67.0      68.0    64.0  0.955224   0.941176   \n",
            "potuswatch_noanon          39.0      34.0    20.0  0.512821   0.588235   \n",
            "bubbla                     50.0       0.0     0.0  0.000000        NaN   \n",
            "mensrights                 60.0       0.0     0.0  0.000000        NaN   \n",
            "pakistan                   43.0      40.0    31.0  0.720930   0.775000   \n",
            "progressive                41.0     138.0     8.0  0.195122   0.057971   \n",
            "lacortenews                48.0      43.0     1.0  0.020833   0.023256   \n",
            "joinordietrump             54.0      12.0     8.0  0.148148   0.666667   \n",
            "the_europe                 52.0      54.0    13.0  0.250000   0.240741   \n",
            "california                 39.0      58.0    10.0  0.256410   0.172414   \n",
            "political_revolution       39.0       5.0     2.0  0.051282   0.400000   \n",
            "islamunveiled              46.0      26.0     4.0  0.086957   0.153846   \n",
            "neoliberal                 49.0       0.0     0.0  0.000000        NaN   \n",
            "btcnews                    51.0      41.0    39.0  0.764706   0.951220   \n",
            "listen2this                47.0      51.0    47.0  1.000000   0.921569   \n",
            "soccer                     52.0      25.0    25.0  0.480769   1.000000   \n",
            "twoxchromosomes            50.0       0.0     0.0  0.000000        NaN   \n",
            "portland                   50.0      45.0    36.0  0.720000   0.800000   \n",
            "socialism                  50.0      10.0     2.0  0.040000   0.200000   \n",
            "mma                        56.0      51.0    49.0  0.875000   0.960784   \n",
            "ps4                        43.0      25.0    16.0  0.372093   0.640000   \n",
            "westernterrorism           52.0      38.0    12.0  0.230769   0.315789   \n",
            "badlawyer                  55.0      40.0     2.0  0.036364   0.050000   \n",
            "canadaweedstocks           50.0      26.0    20.0  0.400000   0.769231   \n",
            "\n",
            "                       f1_score  \n",
            "subreddit                        \n",
            "<unknown>                   NaN  \n",
            "politics               0.654843  \n",
            "worldnewshub           0.429874  \n",
            "news                   0.442412  \n",
            "worldnews              0.434645  \n",
            "the_donald             0.507348  \n",
            "ecointernet            0.764571  \n",
            "thecolorisblue         0.857254  \n",
            "willis7737_news        0.995640  \n",
            "india                  0.802139  \n",
            "ukpolitics             0.653479  \n",
            "raytheon               0.468547  \n",
            "donaldtrumpwhitehouse  0.296402  \n",
            "redditsample           0.673913  \n",
            "nottheonion            0.190210  \n",
            "enoughtrumpspam        0.400778  \n",
            "unitedkingdom          0.357862  \n",
            "technology             0.303473  \n",
            "conspiracy             0.258621  \n",
            "europe                 0.318182  \n",
            "canada                 0.562963  \n",
            "conservative           0.295172  \n",
            "skydtech               1.000000  \n",
            "thecolorisorange       0.997792  \n",
            "movies                 0.693790  \n",
            "techfeed               1.000000  \n",
            "mobilityreport         0.559140  \n",
            "futurology             0.350263  \n",
            "nofilternews           0.088889  \n",
            "bbcnewsuk              0.705882  \n",
            "...                         ...  \n",
            "maybetheonion          0.059701  \n",
            "sino                   0.228571  \n",
            "xboxone                0.509434  \n",
            "todayilearned               NaN  \n",
            "medical_news           0.725275  \n",
            "enough_sanders_spam    0.128755  \n",
            "honolulu               0.948148  \n",
            "potuswatch_noanon      0.547945  \n",
            "bubbla                      NaN  \n",
            "mensrights                  NaN  \n",
            "pakistan               0.746988  \n",
            "progressive            0.089385  \n",
            "lacortenews            0.021978  \n",
            "joinordietrump         0.242424  \n",
            "the_europe             0.245283  \n",
            "california             0.206186  \n",
            "political_revolution   0.090909  \n",
            "islamunveiled          0.111111  \n",
            "neoliberal                  NaN  \n",
            "btcnews                0.847826  \n",
            "listen2this            0.959184  \n",
            "soccer                 0.649351  \n",
            "twoxchromosomes             NaN  \n",
            "portland               0.757895  \n",
            "socialism              0.066667  \n",
            "mma                    0.915888  \n",
            "ps4                    0.470588  \n",
            "westernterrorism       0.266667  \n",
            "badlawyer              0.042105  \n",
            "canadaweedstocks       0.526316  \n",
            "\n",
            "[150 rows x 6 columns]\n"
          ],
          "name": "stdout"
        }
      ]
    },
    {
      "metadata": {
        "id": "dOIH3fWs-ya-",
        "colab_type": "text"
      },
      "cell_type": "markdown",
      "source": [
        "### Multi-label accuracy by case type"
      ]
    },
    {
      "metadata": {
        "id": "Stb-Yk1e0KRm",
        "colab_type": "code",
        "colab": {
          "autoexec": {
            "startup": false,
            "wait_interval": 0
          },
          "output_extras": [
            {}
          ],
          "height": 763
        },
        "outputId": "81cece91-68ad-49da-e5a7-b3ebbb458199",
        "executionInfo": {
          "status": "ok",
          "timestamp": 1518592578923,
          "user_tz": 480,
          "elapsed": 3925,
          "user": {
            "displayName": "Sergei Sokolenko",
            "photoUrl": "//lh6.googleusercontent.com/-iyAOAY88u7I/AAAAAAAAAAI/AAAAAAAAABA/9ECequ778Ss/s50-c-k-no/photo.jpg",
            "userId": "106652311097239389877"
          }
        }
      },
      "cell_type": "code",
      "source": [
        "(stats_num_samples, stats_num_cases, stats_num_cases_ratios, stats_by_casetype, example_by_casetype_bin) = calc_multilabel_accuracy_stats (\n",
        "    y_true = y_test['subreddit_output'], y_pred=y_pred)\n",
        "\n",
        "\n",
        "print('Samples by Number of Labels (2^x scale)')\n",
        "prettyprint_nparray(stats_num_samples,\n",
        "                    col_headers=['Num Labels'],\n",
        "                    row_headers=gen_label_bin_headers(stats_num_samples.shape[0]-1))\n",
        "\n",
        "print('\\nSamples by Number of Labels X Case Type')\n",
        "prettyprint_nparray(stats_num_cases,\n",
        "                    col_headers=CASE_TYPE_HEADERS,\n",
        "                    row_headers=gen_label_bin_headers(stats_num_cases.shape[0]-1))\n",
        "                     \n",
        "print('\\nSamples by Number of Labels X Case Type (Ratios add up to 100%)')\n",
        "prettyprint_nparray(stats_num_cases_ratios,\n",
        "                    col_headers=CASE_TYPE_HEADERS,\n",
        "                    row_headers=gen_label_bin_headers(stats_num_cases_ratios.shape[0]-1))\n",
        "\n",
        "print('\\nSamples by Case Type (Ratios add up to 100%)')\n",
        "prettyprint_nparray(stats_by_casetype,\n",
        "                    col_headers=['Ratio'],\n",
        "                    row_headers=CASE_TYPE_HEADERS)\n",
        "\n",
        "print('\\nSample indeces by Number of Labels X Case Type')\n",
        "prettyprint_nparray(example_by_casetype_bin,\n",
        "                    col_headers=CASE_TYPE_HEADERS,\n",
        "                    row_headers=gen_label_bin_headers(example_by_casetype_bin.shape[0]-1))\n",
        "\n",
        "\n"
      ],
      "execution_count": 0,
      "outputs": [
        {
          "output_type": "stream",
          "text": [
            "Samples by Number of Labels (2^x scale)\n",
            "        Num Labels\n",
            "1            11916\n",
            "2             3129\n",
            "3..4          1908\n",
            "5..8           634\n",
            "9..16           89\n",
            "17..32           7\n",
            "\n",
            "Samples by Number of Labels X Case Type\n",
            "        100% TP+TN  50%+ TP  1-49% TP  0% TP\n",
            "1             4066     4100         0   3750\n",
            "2              345     2019         0    765\n",
            "3..4            93      965       530    320\n",
            "5..8             5      282       284     63\n",
            "9..16            0       14        69      6\n",
            "17..32           0        1         6      0\n",
            "\n",
            "Samples by Number of Labels X Case Type (Ratios add up to 100%)\n",
            "        100% TP+TN  50%+ TP  1-49% TP  0% TP\n",
            "1            0.230    0.232     0.000  0.212\n",
            "2            0.020    0.114     0.000  0.043\n",
            "3..4         0.005    0.055     0.030  0.018\n",
            "5..8         0.000    0.016     0.016  0.004\n",
            "9..16        0.000    0.001     0.004  0.000\n",
            "17..32       0.000    0.000     0.000  0.000\n",
            "\n",
            "Samples by Case Type (Ratios add up to 100%)\n",
            "            Ratio\n",
            "100% TP+TN  0.255\n",
            "50%+ TP     0.418\n",
            "1-49% TP    0.050\n",
            "0% TP       0.277\n",
            "\n",
            "Sample indeces by Number of Labels X Case Type\n",
            "        100% TP+TN  50%+ TP  1-49% TP  0% TP\n",
            "1                1        4        -1      0\n",
            "2               41        7        -1      2\n",
            "3..4           142       50        31     49\n",
            "5..8          4666       55       193    295\n",
            "9..16           -1     2256       436   1290\n",
            "17..32          -1    17209       215     -1\n"
          ],
          "name": "stdout"
        }
      ]
    },
    {
      "metadata": {
        "id": "KXeYVumn-82A",
        "colab_type": "text"
      },
      "cell_type": "markdown",
      "source": [
        "### Multi-Label prediction examples"
      ]
    },
    {
      "metadata": {
        "id": "H25yychh6AFn",
        "colab_type": "code",
        "colab": {
          "autoexec": {
            "startup": false,
            "wait_interval": 0
          },
          "output_extras": [
            {}
          ],
          "height": 303
        },
        "outputId": "fc6c1bb9-4689-4b20-e02a-591194f31c63",
        "executionInfo": {
          "status": "ok",
          "timestamp": 1518592634562,
          "user_tz": 480,
          "elapsed": 796,
          "user": {
            "displayName": "Sergei Sokolenko",
            "photoUrl": "//lh6.googleusercontent.com/-iyAOAY88u7I/AAAAAAAAAAI/AAAAAAAAABA/9ECequ778Ss/s50-c-k-no/photo.jpg",
            "userId": "106652311097239389877"
          }
        }
      },
      "cell_type": "code",
      "source": [
        "\n",
        "print_prediction_and_input(4666, notes='example of 100% TP+TN',\n",
        "                           y_true=y_test['subreddit_output'], y_pred=y_pred, classes_dict=subreddit_classes)  \n",
        "\n",
        "print('')\n",
        "\n",
        "print_prediction_and_input(55, notes='example of 50%+ TP',\n",
        "                           y_true=y_test['subreddit_output'], y_pred=y_pred, classes_dict=subreddit_classes)  \n",
        "\n"
      ],
      "execution_count": 0,
      "outputs": [
        {
          "output_type": "stream",
          "text": [
            "Test record index #4666 example of 100% TP+TN\n",
            "News Urls: http://www.bbc.co.uk/news/uk-40453054\n",
            "Reddit Post Urls: https://www.reddit.com/r/unitedkingdom/comments/6kdx84/ https://www.reddit.com/r/ukpolitics/comments/6kdwgn/ https://www.reddit.com/r/worldnewshub/comments/6ke5zi/ https://www.reddit.com/r/worldnews/comments/6kdxo7/ https://www.reddit.com/r/bbcnewsuk/comments/6kd8pk/\n",
            "\n",
            "Prediction input:  BOWEntitiesEncoded [Decode function not implemented] Domain [bbc.co.uk]\n",
            "Predicted classes: worldnewshub,worldnews,ukpolitics,unitedkingdom,bbcnewsuk\n",
            "True/Actual classes: worldnewshub,worldnews,ukpolitics,unitedkingdom,bbcnewsuk\n",
            "\n",
            "Test record index #55 example of 50%+ TP\n",
            "News Urls: https://heatst.com/politics/nj-democratic-strategist-starts-huntrepublicans-and-huntrepublicancongressman/\n",
            "Reddit Post Urls: https://www.reddit.com/r/The_Donald/comments/6i3gcb/ https://www.reddit.com/r/The_Donald/comments/6hp3z7/ https://www.reddit.com/r/Conservative/comments/6hp24w/ https://www.reddit.com/r/Newsdumps/comments/6i4xli/ https://www.reddit.com/r/politics/comments/6hv4ph/ https://www.reddit.com/r/Libertarian/comments/6hv4hu/\n",
            "\n",
            "Prediction input:  BOWEntitiesEncoded [Decode function not implemented] Domain [heatst.com]\n",
            "Predicted classes: politics,the_donald,conservative,nofilternews,campusreform\n",
            "True/Actual classes: politics,the_donald,conservative,newsdumps,libertarian\n"
          ],
          "name": "stdout"
        }
      ]
    },
    {
      "metadata": {
        "id": "-OE5bQo8_NFn",
        "colab_type": "text"
      },
      "cell_type": "markdown",
      "source": [
        "### Adding Submitter as Predictor of Subreddit"
      ]
    },
    {
      "metadata": {
        "id": "9o2ObHjfIZqt",
        "colab_type": "code",
        "colab": {
          "autoexec": {
            "startup": false,
            "wait_interval": 0
          },
          "output_extras": [
            {},
            {},
            {}
          ],
          "height": 913
        },
        "outputId": "c9efcaee-7d53-44d6-ba4a-8a375dd3d5cd",
        "executionInfo": {
          "status": "ok",
          "timestamp": 1518593199688,
          "user_tz": 480,
          "elapsed": 546245,
          "user": {
            "displayName": "Sergei Sokolenko",
            "photoUrl": "//lh6.googleusercontent.com/-iyAOAY88u7I/AAAAAAAAAAI/AAAAAAAAABA/9ECequ778Ss/s50-c-k-no/photo.jpg",
            "userId": "106652311097239389877"
          }
        }
      },
      "cell_type": "code",
      "source": [
        "# BOWEntitiesEncoded, Domain, RedditSubmitter -> Subreddit\n",
        "# Single-label classification\n",
        "\n",
        "current_learning_goal = 'SubredditClassification'\n",
        "set_columns_for_goal()\n",
        "reddit_df = get_bq_data_for_goal()\n",
        "(training_features, training_labels,validation_features, validation_labels) = create_train_test_features_labels()\n",
        "\n",
        "(model, history, x_train, x_test, y_train, y_test) = compile_and_fit_model(inputs = ['BOWEntitiesEncoded','Domain','RedditSubmitter'], outputs=['Subreddit'])\n",
        "\n",
        "SVG(model_to_dot(model, show_shapes=False).create(prog='dot', format='svg'))"
      ],
      "execution_count": 0,
      "outputs": [
        {
          "output_type": "stream",
          "text": [
            "Waiting on bqjob_r4842d4f23f38c65_00000161932cf8b6_3 ... (224s) Current status: DONE   "
          ],
          "name": "stderr"
        },
        {
          "output_type": "stream",
          "text": [
            "\n",
            "Size of reddit set: 154931 records\n",
            "Size of train set: 122705 records\n",
            "Size of test set: 30676 records\n",
            "Using 150 unique values for subreddit\n",
            "Using 4232 unique values for domain\n",
            "Using 2029 unique values for submitter\n",
            "Using 32376 unique values for BOWEntitiesEncoded\n",
            "Train on 110434 samples, validate on 12271 samples\n",
            "Epoch 1/2\n",
            " - 114s - loss: 1.5813 - acc: 0.6281 - top_k_categorical_accuracy: 0.8191 - val_loss: 0.9967 - val_acc: 0.7303 - val_top_k_categorical_accuracy: 0.9113\n",
            "Epoch 2/2\n",
            " - 117s - loss: 0.8020 - acc: 0.7693 - top_k_categorical_accuracy: 0.9416 - val_loss: 0.9802 - val_acc: 0.7279 - val_top_k_categorical_accuracy: 0.9178\n",
            "Test data loss: 0.992; top 1 accuracy: 0.720; top 5 accuracy: 0.916;\n"
          ],
          "name": "stdout"
        },
        {
          "output_type": "execute_result",
          "data": {
            "image/svg+xml": "<svg height=\"483pt\" viewBox=\"0.00 0.00 503.50 483.00\" width=\"504pt\" xmlns=\"http://www.w3.org/2000/svg\" xmlns:xlink=\"http://www.w3.org/1999/xlink\">\n<g class=\"graph\" id=\"graph0\" transform=\"scale(1 1) rotate(0) translate(4 479)\">\n<title>G</title>\n<polygon fill=\"white\" points=\"-4,4 -4,-479 499.5,-479 499.5,4 -4,4\" stroke=\"none\"/>\n<!-- 140565677891536 -->\n<g class=\"node\" id=\"node1\"><title>140565677891536</title>\n<polygon fill=\"none\" points=\"0,-438.5 0,-474.5 205,-474.5 205,-438.5 0,-438.5\" stroke=\"black\"/>\n<text font-family=\"Times,serif\" font-size=\"14.00\" text-anchor=\"middle\" x=\"102.5\" y=\"-452.8\">BOWEntitiesEncoded: InputLayer</text>\n</g>\n<!-- 140566235544016 -->\n<g class=\"node\" id=\"node2\"><title>140566235544016</title>\n<polygon fill=\"none\" points=\"22,-365.5 22,-401.5 183,-401.5 183,-365.5 22,-365.5\" stroke=\"black\"/>\n<text font-family=\"Times,serif\" font-size=\"14.00\" text-anchor=\"middle\" x=\"102.5\" y=\"-379.8\">embedding_6: Embedding</text>\n</g>\n<!-- 140565677891536&#45;&gt;140566235544016 -->\n<g class=\"edge\" id=\"edge1\"><title>140565677891536-&gt;140566235544016</title>\n<path d=\"M102.5,-438.313C102.5,-430.289 102.5,-420.547 102.5,-411.569\" fill=\"none\" stroke=\"black\"/>\n<polygon fill=\"black\" points=\"106,-411.529 102.5,-401.529 99.0001,-411.529 106,-411.529\" stroke=\"black\"/>\n</g>\n<!-- 140566382290256 -->\n<g class=\"node\" id=\"node3\"><title>140566382290256</title>\n<polygon fill=\"none\" points=\"47.5,-292.5 47.5,-328.5 157.5,-328.5 157.5,-292.5 47.5,-292.5\" stroke=\"black\"/>\n<text font-family=\"Times,serif\" font-size=\"14.00\" text-anchor=\"middle\" x=\"102.5\" y=\"-306.8\">flatten_6: Flatten</text>\n</g>\n<!-- 140566235544016&#45;&gt;140566382290256 -->\n<g class=\"edge\" id=\"edge2\"><title>140566235544016-&gt;140566382290256</title>\n<path d=\"M102.5,-365.313C102.5,-357.289 102.5,-347.547 102.5,-338.569\" fill=\"none\" stroke=\"black\"/>\n<polygon fill=\"black\" points=\"106,-338.529 102.5,-328.529 99.0001,-338.529 106,-338.529\" stroke=\"black\"/>\n</g>\n<!-- 140566082426000 -->\n<g class=\"node\" id=\"node6\"><title>140566082426000</title>\n<polygon fill=\"none\" points=\"155.5,-219.5 155.5,-255.5 323.5,-255.5 323.5,-219.5 155.5,-219.5\" stroke=\"black\"/>\n<text font-family=\"Times,serif\" font-size=\"14.00\" text-anchor=\"middle\" x=\"239.5\" y=\"-233.8\">concatenate_4: Concatenate</text>\n</g>\n<!-- 140566382290256&#45;&gt;140566082426000 -->\n<g class=\"edge\" id=\"edge3\"><title>140566382290256-&gt;140566082426000</title>\n<path d=\"M135.315,-292.494C153.987,-282.817 177.567,-270.597 197.57,-260.23\" fill=\"none\" stroke=\"black\"/>\n<polygon fill=\"black\" points=\"199.21,-263.322 206.478,-255.614 195.989,-257.107 199.21,-263.322\" stroke=\"black\"/>\n</g>\n<!-- 140566152812368 -->\n<g class=\"node\" id=\"node4\"><title>140566152812368</title>\n<polygon fill=\"none\" points=\"175.5,-292.5 175.5,-328.5 303.5,-328.5 303.5,-292.5 175.5,-292.5\" stroke=\"black\"/>\n<text font-family=\"Times,serif\" font-size=\"14.00\" text-anchor=\"middle\" x=\"239.5\" y=\"-306.8\">Domain: InputLayer</text>\n</g>\n<!-- 140566152812368&#45;&gt;140566082426000 -->\n<g class=\"edge\" id=\"edge4\"><title>140566152812368-&gt;140566082426000</title>\n<path d=\"M239.5,-292.313C239.5,-284.289 239.5,-274.547 239.5,-265.569\" fill=\"none\" stroke=\"black\"/>\n<polygon fill=\"black\" points=\"243,-265.529 239.5,-255.529 236,-265.529 243,-265.529\" stroke=\"black\"/>\n</g>\n<!-- 140566092504976 -->\n<g class=\"node\" id=\"node5\"><title>140566092504976</title>\n<polygon fill=\"none\" points=\"321.5,-292.5 321.5,-328.5 495.5,-328.5 495.5,-292.5 321.5,-292.5\" stroke=\"black\"/>\n<text font-family=\"Times,serif\" font-size=\"14.00\" text-anchor=\"middle\" x=\"408.5\" y=\"-306.8\">RedditSubmitter: InputLayer</text>\n</g>\n<!-- 140566092504976&#45;&gt;140566082426000 -->\n<g class=\"edge\" id=\"edge5\"><title>140566092504976-&gt;140566082426000</title>\n<path d=\"M368.02,-292.494C344.468,-282.599 314.586,-270.045 289.564,-259.533\" fill=\"none\" stroke=\"black\"/>\n<polygon fill=\"black\" points=\"290.81,-256.26 280.235,-255.614 288.099,-262.714 290.81,-256.26\" stroke=\"black\"/>\n</g>\n<!-- 140565738127312 -->\n<g class=\"node\" id=\"node7\"><title>140565738127312</title>\n<polygon fill=\"none\" points=\"188.5,-146.5 188.5,-182.5 290.5,-182.5 290.5,-146.5 188.5,-146.5\" stroke=\"black\"/>\n<text font-family=\"Times,serif\" font-size=\"14.00\" text-anchor=\"middle\" x=\"239.5\" y=\"-160.8\">dense_6: Dense</text>\n</g>\n<!-- 140566082426000&#45;&gt;140565738127312 -->\n<g class=\"edge\" id=\"edge6\"><title>140566082426000-&gt;140565738127312</title>\n<path d=\"M239.5,-219.313C239.5,-211.289 239.5,-201.547 239.5,-192.569\" fill=\"none\" stroke=\"black\"/>\n<polygon fill=\"black\" points=\"243,-192.529 239.5,-182.529 236,-192.529 243,-192.529\" stroke=\"black\"/>\n</g>\n<!-- 140566382291216 -->\n<g class=\"node\" id=\"node8\"><title>140566382291216</title>\n<polygon fill=\"none\" points=\"177,-73.5 177,-109.5 302,-109.5 302,-73.5 177,-73.5\" stroke=\"black\"/>\n<text font-family=\"Times,serif\" font-size=\"14.00\" text-anchor=\"middle\" x=\"239.5\" y=\"-87.8\">dropout_6: Dropout</text>\n</g>\n<!-- 140565738127312&#45;&gt;140566382291216 -->\n<g class=\"edge\" id=\"edge7\"><title>140565738127312-&gt;140566382291216</title>\n<path d=\"M239.5,-146.313C239.5,-138.289 239.5,-128.547 239.5,-119.569\" fill=\"none\" stroke=\"black\"/>\n<polygon fill=\"black\" points=\"243,-119.529 239.5,-109.529 236,-119.529 243,-119.529\" stroke=\"black\"/>\n</g>\n<!-- 140565896111568 -->\n<g class=\"node\" id=\"node9\"><title>140565896111568</title>\n<polygon fill=\"none\" points=\"165,-0.5 165,-36.5 314,-36.5 314,-0.5 165,-0.5\" stroke=\"black\"/>\n<text font-family=\"Times,serif\" font-size=\"14.00\" text-anchor=\"middle\" x=\"239.5\" y=\"-14.8\">subreddit_output: Dense</text>\n</g>\n<!-- 140566382291216&#45;&gt;140565896111568 -->\n<g class=\"edge\" id=\"edge8\"><title>140566382291216-&gt;140565896111568</title>\n<path d=\"M239.5,-73.3129C239.5,-65.2895 239.5,-55.5475 239.5,-46.5691\" fill=\"none\" stroke=\"black\"/>\n<polygon fill=\"black\" points=\"243,-46.5288 239.5,-36.5288 236,-46.5289 243,-46.5288\" stroke=\"black\"/>\n</g>\n</g>\n</svg>",
            "text/plain": [
              "<IPython.core.display.SVG at 0x7fd81def0750>"
            ]
          },
          "metadata": {
            "tags": []
          },
          "execution_count": 25
        }
      ]
    },
    {
      "metadata": {
        "id": "tKnn4WGILlcA",
        "colab_type": "text"
      },
      "cell_type": "markdown",
      "source": [
        "##Predicting engagement metrics (Score, Number of Commenters, Number of Comments)"
      ]
    },
    {
      "metadata": {
        "id": "QOMG51SwLvgd",
        "colab_type": "text"
      },
      "cell_type": "markdown",
      "source": [
        "###Explore data distributions"
      ]
    },
    {
      "metadata": {
        "id": "bTazJagsMApY",
        "colab_type": "code",
        "colab": {
          "autoexec": {
            "startup": false,
            "wait_interval": 0
          },
          "output_extras": [
            {
              "item_id": 194
            },
            {
              "item_id": 197
            }
          ],
          "height": 125
        },
        "outputId": "50845735-acb7-4977-ec39-c996006c177e",
        "executionInfo": {
          "status": "ok",
          "timestamp": 1519085178857,
          "user_tz": 480,
          "elapsed": 346012,
          "user": {
            "displayName": "Sergei Sokolenko",
            "photoUrl": "//lh6.googleusercontent.com/-iyAOAY88u7I/AAAAAAAAAAI/AAAAAAAAABA/9ECequ778Ss/s50-c-k-no/photo.jpg",
            "userId": "106652311097239389877"
          }
        }
      },
      "cell_type": "code",
      "source": [
        "current_learning_goal = 'CommentsClassification'\n",
        "current_exclude_autosubreddits = False\n",
        "current_sample_frac = 0.5\n",
        "set_columns_for_goal()\n",
        "reddit_df = get_bq_data_for_goal()\n",
        "(training_features, training_labels,validation_features, validation_labels) = create_train_test_features_labels()\n",
        "\n",
        "\n"
      ],
      "execution_count": 7,
      "outputs": [
        {
          "output_type": "stream",
          "text": [
            "Waiting on bqjob_r6d22cca32cd339fb_00000161b08308a8_1 ... (194s) Current status: DONE   "
          ],
          "name": "stderr"
        },
        {
          "output_type": "stream",
          "text": [
            "Building model with learning goal: CommentsClassification, using label column: ScoreBin, using feature columns: ['Url', 'RedditPostUrl', 'Domain', 'Tags', 'BOWEntitiesEncoded', 'RedditSubmitter', 'Subreddit', 'NumCommentersBin', 'ScoreBin', 'ExampleWeight']\n",
            "\n",
            "Size of reddit set: 425548 records\n",
            "Size of train set: 170220 records\n",
            "Size of test set: 42554 records\n"
          ],
          "name": "stdout"
        }
      ]
    },
    {
      "metadata": {
        "id": "IooCgeX7L0TA",
        "colab_type": "code",
        "colab": {
          "autoexec": {
            "startup": false,
            "wait_interval": 0
          },
          "output_extras": [
            {
              "item_id": 1
            },
            {
              "item_id": 2
            },
            {
              "item_id": 3
            }
          ],
          "height": 927
        },
        "outputId": "d582fb16-96d4-4d5a-8dfd-323698f45ff6",
        "executionInfo": {
          "status": "ok",
          "timestamp": 1519060620737,
          "user_tz": 480,
          "elapsed": 4458,
          "user": {
            "displayName": "Sergei Sokolenko",
            "photoUrl": "//lh6.googleusercontent.com/-iyAOAY88u7I/AAAAAAAAAAI/AAAAAAAAABA/9ECequ778Ss/s50-c-k-no/photo.jpg",
            "userId": "106652311097239389877"
          }
        }
      },
      "cell_type": "code",
      "source": [
        "print(\"Reddit dataset summary:\")\n",
        "\n",
        "display.display(reddit_df.describe())\n",
        "\n",
        "if current_learning_goal == \"CommentsRegression\" or current_learning_goal == \"CommentsClassification\":\n",
        "\n",
        "  plt.figure(figsize=(10,10))\n",
        "  plt.subplot(321)\n",
        "  plt.hist(reddit_df[\"NumCommenters\"],bins=20)\n",
        "  plt.yscale('log')\n",
        "  plt.title(\"NumCommenters histogram\")\n",
        "\n",
        "  plt.subplot(322)\n",
        "  plt.hist(pd.to_numeric(reddit_df[\"NumCommentersBin\"], errors='coerce'),bins='auto')\n",
        "  plt.title(\"NumCommentersBin histogram\")\n",
        "\n",
        "  plt.subplot(323)\n",
        "  plt.hist(reddit_df[\"NumComments\"],bins=20)\n",
        "  plt.yscale('log')\n",
        "  plt.title(\"NumComments histogram\")\n",
        "\n",
        "  plt.subplot(324)\n",
        "  plt.hist(pd.to_numeric(reddit_df[\"NumCommentsBin\"], errors='coerce'),bins='auto')\n",
        "  plt.title(\"NumCommentsBin histogram\")\n",
        "\n",
        "  plt.subplot(325)\n",
        "  plt.hist(reddit_df[\"Score\"],bins=20)\n",
        "  plt.yscale('log')\n",
        "  plt.title(\"Score histogram\")\n",
        "\n",
        "  plt.subplot(326)\n",
        "  plt.hist(pd.to_numeric(reddit_df[\"ScoreBin\"], errors='coerce'),bins=5)\n",
        "  plt.title(\"ScoreBin histogram\")\n",
        "\n",
        "\n",
        "  plt.show()"
      ],
      "execution_count": 8,
      "outputs": [
        {
          "output_type": "stream",
          "text": [
            "Reddit dataset summary:\n"
          ],
          "name": "stdout"
        },
        {
          "output_type": "display_data",
          "data": {
            "text/html": [
              "<div style=\"max-width:1500px;overflow:auto;\">\n",
              "<style scoped>\n",
              "    .dataframe tbody tr th:only-of-type {\n",
              "        vertical-align: middle;\n",
              "    }\n",
              "\n",
              "    .dataframe tbody tr th {\n",
              "        vertical-align: top;\n",
              "    }\n",
              "\n",
              "    .dataframe thead th {\n",
              "        text-align: right;\n",
              "    }\n",
              "</style>\n",
              "<table border=\"1\" class=\"dataframe\">\n",
              "  <thead>\n",
              "    <tr style=\"text-align: right;\">\n",
              "      <th></th>\n",
              "      <th>Score</th>\n",
              "      <th>NumCommenters</th>\n",
              "      <th>NumComments</th>\n",
              "      <th>NumCommentersClipped</th>\n",
              "      <th>NumCommentsClipped</th>\n",
              "      <th>ScoreClipped</th>\n",
              "      <th>NumCommentersLogScaled</th>\n",
              "      <th>NumCommentsLogScaled</th>\n",
              "      <th>ScoreLogScaled</th>\n",
              "      <th>ExampleWeight</th>\n",
              "    </tr>\n",
              "  </thead>\n",
              "  <tbody>\n",
              "    <tr>\n",
              "      <th>count</th>\n",
              "      <td>425548.000000</td>\n",
              "      <td>425548.000000</td>\n",
              "      <td>425548.000000</td>\n",
              "      <td>425548.000000</td>\n",
              "      <td>425548.000000</td>\n",
              "      <td>425548.000000</td>\n",
              "      <td>425548.000000</td>\n",
              "      <td>425548.000000</td>\n",
              "      <td>425548.000000</td>\n",
              "      <td>425548.000000</td>\n",
              "    </tr>\n",
              "    <tr>\n",
              "      <th>mean</th>\n",
              "      <td>58.957845</td>\n",
              "      <td>4.343301</td>\n",
              "      <td>7.522677</td>\n",
              "      <td>4.343301</td>\n",
              "      <td>7.522677</td>\n",
              "      <td>41.188446</td>\n",
              "      <td>0.204004</td>\n",
              "      <td>0.224306</td>\n",
              "      <td>0.573182</td>\n",
              "      <td>0.064570</td>\n",
              "    </tr>\n",
              "    <tr>\n",
              "      <th>std</th>\n",
              "      <td>1073.187485</td>\n",
              "      <td>52.371072</td>\n",
              "      <td>106.041110</td>\n",
              "      <td>52.371072</td>\n",
              "      <td>106.041110</td>\n",
              "      <td>424.024024</td>\n",
              "      <td>0.416052</td>\n",
              "      <td>0.468542</td>\n",
              "      <td>0.568500</td>\n",
              "      <td>0.108779</td>\n",
              "    </tr>\n",
              "    <tr>\n",
              "      <th>min</th>\n",
              "      <td>0.000000</td>\n",
              "      <td>0.000000</td>\n",
              "      <td>0.000000</td>\n",
              "      <td>0.000000</td>\n",
              "      <td>0.000000</td>\n",
              "      <td>0.000000</td>\n",
              "      <td>0.000000</td>\n",
              "      <td>0.000000</td>\n",
              "      <td>0.000000</td>\n",
              "      <td>0.028566</td>\n",
              "    </tr>\n",
              "    <tr>\n",
              "      <th>25%</th>\n",
              "      <td>1.000000</td>\n",
              "      <td>0.000000</td>\n",
              "      <td>0.000000</td>\n",
              "      <td>0.000000</td>\n",
              "      <td>0.000000</td>\n",
              "      <td>1.000000</td>\n",
              "      <td>0.000000</td>\n",
              "      <td>0.000000</td>\n",
              "      <td>0.301030</td>\n",
              "      <td>0.028566</td>\n",
              "    </tr>\n",
              "    <tr>\n",
              "      <th>50%</th>\n",
              "      <td>1.000000</td>\n",
              "      <td>0.000000</td>\n",
              "      <td>0.000000</td>\n",
              "      <td>0.000000</td>\n",
              "      <td>0.000000</td>\n",
              "      <td>1.000000</td>\n",
              "      <td>0.000000</td>\n",
              "      <td>0.000000</td>\n",
              "      <td>0.301030</td>\n",
              "      <td>0.028566</td>\n",
              "    </tr>\n",
              "    <tr>\n",
              "      <th>75%</th>\n",
              "      <td>3.000000</td>\n",
              "      <td>1.000000</td>\n",
              "      <td>1.000000</td>\n",
              "      <td>1.000000</td>\n",
              "      <td>1.000000</td>\n",
              "      <td>3.000000</td>\n",
              "      <td>0.301030</td>\n",
              "      <td>0.301030</td>\n",
              "      <td>0.602060</td>\n",
              "      <td>0.028566</td>\n",
              "    </tr>\n",
              "    <tr>\n",
              "      <th>max</th>\n",
              "      <td>100206.000000</td>\n",
              "      <td>8146.000000</td>\n",
              "      <td>23586.000000</td>\n",
              "      <td>8146.000000</td>\n",
              "      <td>23586.000000</td>\n",
              "      <td>9999.000000</td>\n",
              "      <td>3.910998</td>\n",
              "      <td>4.372673</td>\n",
              "      <td>4.000000</td>\n",
              "      <td>1.000000</td>\n",
              "    </tr>\n",
              "  </tbody>\n",
              "</table>\n",
              "</div>"
            ],
            "text/plain": [
              "               Score  NumCommenters    NumComments  NumCommentersClipped  \\\n",
              "count  425548.000000  425548.000000  425548.000000         425548.000000   \n",
              "mean       58.957845       4.343301       7.522677              4.343301   \n",
              "std      1073.187485      52.371072     106.041110             52.371072   \n",
              "min         0.000000       0.000000       0.000000              0.000000   \n",
              "25%         1.000000       0.000000       0.000000              0.000000   \n",
              "50%         1.000000       0.000000       0.000000              0.000000   \n",
              "75%         3.000000       1.000000       1.000000              1.000000   \n",
              "max    100206.000000    8146.000000   23586.000000           8146.000000   \n",
              "\n",
              "       NumCommentsClipped   ScoreClipped  NumCommentersLogScaled  \\\n",
              "count       425548.000000  425548.000000           425548.000000   \n",
              "mean             7.522677      41.188446                0.204004   \n",
              "std            106.041110     424.024024                0.416052   \n",
              "min              0.000000       0.000000                0.000000   \n",
              "25%              0.000000       1.000000                0.000000   \n",
              "50%              0.000000       1.000000                0.000000   \n",
              "75%              1.000000       3.000000                0.301030   \n",
              "max          23586.000000    9999.000000                3.910998   \n",
              "\n",
              "       NumCommentsLogScaled  ScoreLogScaled  ExampleWeight  \n",
              "count         425548.000000   425548.000000  425548.000000  \n",
              "mean               0.224306        0.573182       0.064570  \n",
              "std                0.468542        0.568500       0.108779  \n",
              "min                0.000000        0.000000       0.028566  \n",
              "25%                0.000000        0.301030       0.028566  \n",
              "50%                0.000000        0.301030       0.028566  \n",
              "75%                0.301030        0.602060       0.028566  \n",
              "max                4.372673        4.000000       1.000000  "
            ]
          },
          "metadata": {
            "tags": []
          }
        },
        {
          "output_type": "display_data",
          "data": {
            "image/png": "[encoded data removed]",
            "text/plain": [
              "<matplotlib.figure.Figure at 0x7f9175c9db10>"
            ]
          },
          "metadata": {
            "tags": []
          }
        }
      ]
    },
    {
      "metadata": {
        "id": "1lI15yICW1ei",
        "colab_type": "code",
        "colab": {
          "autoexec": {
            "startup": false,
            "wait_interval": 0
          },
          "output_extras": [
            {
              "item_id": 6
            },
            {
              "item_id": 7
            }
          ],
          "height": 743
        },
        "outputId": "d6127d42-0dde-442c-e0e7-72fb3ac49f72",
        "executionInfo": {
          "status": "ok",
          "timestamp": 1519060812053,
          "user_tz": 480,
          "elapsed": 155563,
          "user": {
            "displayName": "Sergei Sokolenko",
            "photoUrl": "//lh6.googleusercontent.com/-iyAOAY88u7I/AAAAAAAAAAI/AAAAAAAAABA/9ECequ778Ss/s50-c-k-no/photo.jpg",
            "userId": "106652311097239389877"
          }
        }
      },
      "cell_type": "code",
      "source": [
        "current_epochs = 1\n",
        "\n",
        "(model, history, x_train, x_test, y_train, y_test) = compile_and_fit_model(\n",
        "    inputs = ['Domain','Tags'], \n",
        "    outputs=['ScoreBin','NumCommentersBin'],\n",
        "    k_of_top_k_accuracy=2)\n",
        "\n",
        "(y_true, y_pred) = get_true_and_predicted_labels(\n",
        "    model=model,\n",
        "    x_test=x_test, \n",
        "    y_test_selected=y_test['scorebin_output'], \n",
        "    label_classes=scorebin_classes)\n",
        "\n",
        "plot_confusion_matrix(y_true=y_true, y_pred=y_pred, normalize=True, class_order=scorebin_classes)\n",
        "\n"
      ],
      "execution_count": 9,
      "outputs": [
        {
          "output_type": "stream",
          "text": [
            "Using 5291 unique values for domain\n",
            "Using 49586 unique values for Tags\n",
            "Using 6 unique values for ScoreBin\n",
            "Using 6 unique values for NumCommentersBin\n",
            "Train on 153198 samples, validate on 17022 samples\n",
            "Epoch 1/1\n",
            " - 106s - loss: 1.2296 - scorebin_output_loss: 0.5986 - numcommentersbin_output_loss: 0.6310 - scorebin_output_acc: 0.8005 - scorebin_output_top_k_accuracy: 0.9330 - numcommentersbin_output_acc: 0.7357 - numcommentersbin_output_top_k_accuracy: 0.9336 - val_loss: 1.1873 - val_scorebin_output_loss: 0.5758 - val_numcommentersbin_output_loss: 0.6115 - val_scorebin_output_acc: 0.8008 - val_scorebin_output_top_k_accuracy: 0.9335 - val_numcommentersbin_output_acc: 0.7395 - val_numcommentersbin_output_top_k_accuracy: 0.9336\n",
            "Test metrics: total loss: 1.174; output_1 loss: 0.570; output_2 loss: 0.604; output_1 top 1 accuracy: 0.804; output_1 top 2 accuracy: 0.936; output_2 top 1 accuracy: 0.745; output_2 top 2 accuracy: 0.936;\n"
          ],
          "name": "stdout"
        },
        {
          "output_type": "display_data",
          "data": {
            "image/png": "[encoded data removed]",
            "text/plain": [
              "<matplotlib.figure.Figure at 0x7f9154538e50>"
            ]
          },
          "metadata": {
            "tags": []
          }
        }
      ]
    },
    {
      "metadata": {
        "id": "t_wUA8WkqMLt",
        "colab_type": "code",
        "colab": {
          "autoexec": {
            "startup": false,
            "wait_interval": 0
          },
          "output_extras": [
            {
              "item_id": 5
            },
            {
              "item_id": 6
            }
          ],
          "height": 743
        },
        "outputId": "7ea3d8c3-2eda-488e-d0cf-d8f28a0621ec",
        "executionInfo": {
          "status": "ok",
          "timestamp": 1519061154566,
          "user_tz": 480,
          "elapsed": 145563,
          "user": {
            "displayName": "Sergei Sokolenko",
            "photoUrl": "//lh6.googleusercontent.com/-iyAOAY88u7I/AAAAAAAAAAI/AAAAAAAAABA/9ECequ778Ss/s50-c-k-no/photo.jpg",
            "userId": "106652311097239389877"
          }
        }
      },
      "cell_type": "code",
      "source": [
        "(model, history, x_train, x_test, y_train, y_test) = compile_and_fit_model(\n",
        "    inputs = ['Domain','Tags'], \n",
        "    outputs=['ScoreBin','NumCommentersBin'],\n",
        "    use_sample_weights=True,\n",
        "    k_of_top_k_accuracy=2)\n",
        "\n",
        "(y_true, y_pred) = get_true_and_predicted_labels(\n",
        "    model=model,\n",
        "    x_test=x_test, \n",
        "    y_test_selected=y_test['scorebin_output'], \n",
        "    label_classes=scorebin_classes)\n",
        "\n",
        "plot_confusion_matrix(y_true=y_true, y_pred=y_pred, normalize=True, class_order=scorebin_classes)\n"
      ],
      "execution_count": 10,
      "outputs": [
        {
          "output_type": "stream",
          "text": [
            "Using 5291 unique values for domain\n",
            "Using 49586 unique values for Tags\n",
            "Using 6 unique values for ScoreBin\n",
            "Using 6 unique values for NumCommentersBin\n",
            "Train on 153198 samples, validate on 17022 samples\n",
            "Epoch 1/1\n",
            " - 107s - loss: 0.1608 - scorebin_output_loss: 0.0872 - numcommentersbin_output_loss: 0.0736 - scorebin_output_acc: 0.6951 - scorebin_output_top_k_accuracy: 0.8045 - numcommentersbin_output_acc: 0.6871 - numcommentersbin_output_top_k_accuracy: 0.8685 - val_loss: 0.1598 - val_scorebin_output_loss: 0.0860 - val_numcommentersbin_output_loss: 0.0738 - val_scorebin_output_acc: 0.6959 - val_scorebin_output_top_k_accuracy: 0.7906 - val_numcommentersbin_output_acc: 0.7152 - val_numcommentersbin_output_top_k_accuracy: 0.8845\n",
            "Test metrics: total loss: 1.612; output_1 loss: 0.888; output_2 loss: 0.723; output_1 top 1 accuracy: 0.701; output_1 top 2 accuracy: 0.796; output_2 top 1 accuracy: 0.714; output_2 top 2 accuracy: 0.885;\n"
          ],
          "name": "stdout"
        },
        {
          "output_type": "display_data",
          "data": {
            "image/png": "[encoded data removed]",
            "text/plain": [
              "<matplotlib.figure.Figure at 0x7f90f4c309d0>"
            ]
          },
          "metadata": {
            "tags": []
          }
        }
      ]
    },
    {
      "metadata": {
        "id": "53v1oL9OOVGH",
        "colab_type": "code",
        "colab": {
          "autoexec": {
            "startup": false,
            "wait_interval": 0
          },
          "output_extras": [
            {
              "item_id": 6
            },
            {
              "item_id": 7
            }
          ],
          "height": 743
        },
        "outputId": "aebd2816-a8d6-4144-be94-db7e69bc0155",
        "executionInfo": {
          "status": "ok",
          "timestamp": 1519062434713,
          "user_tz": 480,
          "elapsed": 147157,
          "user": {
            "displayName": "Sergei Sokolenko",
            "photoUrl": "//lh6.googleusercontent.com/-iyAOAY88u7I/AAAAAAAAAAI/AAAAAAAAABA/9ECequ778Ss/s50-c-k-no/photo.jpg",
            "userId": "106652311097239389877"
          }
        }
      },
      "cell_type": "code",
      "source": [
        "current_epochs = 1\n",
        "\n",
        "(model, history, x_train, x_test, y_train, y_test) = compile_and_fit_model(\n",
        "    inputs = ['Subreddit','RedditSubmitter'], \n",
        "    outputs=['ScoreBin','NumCommentersBin'],\n",
        "    use_sample_weights=True,\n",
        "    k_of_top_k_accuracy=2)\n",
        "\n",
        "#SVG(model_to_dot(model, show_shapes=False).create(prog='dot', format='svg'))\n",
        "\n",
        "(y_true, y_pred) = get_true_and_predicted_labels(\n",
        "    model=model,\n",
        "    x_test=x_test, \n",
        "    y_test_selected=y_test['scorebin_output'], \n",
        "    label_classes=scorebin_classes)\n",
        "\n",
        "plot_confusion_matrix(y_true=y_true, y_pred=y_pred, normalize=True, class_order=scorebin_classes)\n",
        "\n"
      ],
      "execution_count": 8,
      "outputs": [
        {
          "output_type": "stream",
          "text": [
            "Using 5872 unique values for subreddit\n",
            "Using 2000 unique values for submitter\n",
            "Using 6 unique values for ScoreBin\n",
            "Using 6 unique values for NumCommentersBin\n",
            "Train on 153198 samples, validate on 17022 samples\n",
            "Epoch 1/1\n",
            " - 110s - loss: 0.1222 - scorebin_output_loss: 0.0653 - numcommentersbin_output_loss: 0.0569 - scorebin_output_acc: 0.7614 - scorebin_output_top_k_accuracy: 0.8552 - numcommentersbin_output_acc: 0.7914 - numcommentersbin_output_top_k_accuracy: 0.9314 - val_loss: 0.1166 - val_scorebin_output_loss: 0.0619 - val_numcommentersbin_output_loss: 0.0547 - val_scorebin_output_acc: 0.7588 - val_scorebin_output_top_k_accuracy: 0.8607 - val_numcommentersbin_output_acc: 0.8035 - val_numcommentersbin_output_top_k_accuracy: 0.9383\n",
            "Test metrics: total loss: 1.019; output_1 loss: 0.563; output_2 loss: 0.456; output_1 top 1 accuracy: 0.760; output_1 top 2 accuracy: 0.861; output_2 top 1 accuracy: 0.805; output_2 top 2 accuracy: 0.938;\n"
          ],
          "name": "stdout"
        },
        {
          "output_type": "display_data",
          "data": {
            "image/png": "[encoded data removed]",
            "text/plain": [
              "<matplotlib.figure.Figure at 0x7fec9ba18d90>"
            ]
          },
          "metadata": {
            "tags": []
          }
        }
      ]
    },
    {
      "metadata": {
        "id": "WC6m8DOSK6gc",
        "colab_type": "code",
        "colab": {
          "autoexec": {
            "startup": false,
            "wait_interval": 0
          },
          "output_extras": [
            {
              "item_id": 1
            }
          ],
          "height": 581
        },
        "outputId": "9a26f1bc-02f3-4fa9-f2de-f06a30a8c354",
        "executionInfo": {
          "status": "ok",
          "timestamp": 1519062742263,
          "user_tz": 480,
          "elapsed": 10944,
          "user": {
            "displayName": "Sergei Sokolenko",
            "photoUrl": "//lh6.googleusercontent.com/-iyAOAY88u7I/AAAAAAAAAAI/AAAAAAAAABA/9ECequ778Ss/s50-c-k-no/photo.jpg",
            "userId": "106652311097239389877"
          }
        }
      },
      "cell_type": "code",
      "source": [
        "# How well is CM distributed for NumCommenters, when ScoreBin is used for weights\n",
        "(y_true, y_pred) = get_true_and_predicted_labels(\n",
        "    model=model,\n",
        "    x_test=x_test, \n",
        "    y_test_selected=y_test['numcommentersbin_output'], \n",
        "    label_classes=scorebin_classes,\n",
        "    multi_output=True,\n",
        "    output_idx=1)\n",
        "\n",
        "plot_confusion_matrix(y_true=y_true, y_pred=y_pred, normalize=True, class_order=scorebin_classes)"
      ],
      "execution_count": 9,
      "outputs": [
        {
          "output_type": "display_data",
          "data": {
            "image/png": "[encoded data removed]",
            "text/plain": [
              "<matplotlib.figure.Figure at 0x7fecad3af310>"
            ]
          },
          "metadata": {
            "tags": []
          }
        }
      ]
    },
    {
      "metadata": {
        "id": "YbwnIS3bmf1p",
        "colab_type": "code",
        "colab": {
          "autoexec": {
            "startup": false,
            "wait_interval": 0
          },
          "output_extras": [
            {
              "item_id": 6
            },
            {
              "item_id": 7
            }
          ],
          "height": 779
        },
        "outputId": "ad452614-eacd-4536-c327-2ab6f96b650a",
        "executionInfo": {
          "status": "ok",
          "timestamp": 1519085797625,
          "user_tz": 480,
          "elapsed": 190774,
          "user": {
            "displayName": "Sergei Sokolenko",
            "photoUrl": "//lh6.googleusercontent.com/-iyAOAY88u7I/AAAAAAAAAAI/AAAAAAAAABA/9ECequ778Ss/s50-c-k-no/photo.jpg",
            "userId": "106652311097239389877"
          }
        }
      },
      "cell_type": "code",
      "source": [
        "# Change label to NumCommentersBin and check CM composition now\n",
        "\n",
        "current_epochs = 1\n",
        "current_label_col = 'NumCommentersBin'\n",
        "current_inverse_frequency_pow = 0.85\n",
        "\n",
        "(training_features, training_labels,validation_features, validation_labels) = create_train_test_features_labels()\n",
        "\n",
        "(model, history, x_train, x_test, y_train, y_test) = compile_and_fit_model(\n",
        "    inputs = ['Subreddit','RedditSubmitter'], \n",
        "    outputs=['ScoreBin','NumCommentersBin'],\n",
        "    use_sample_weights=True,\n",
        "    k_of_top_k_accuracy=2)\n",
        "\n",
        "(y_true, y_pred) = get_true_and_predicted_labels(\n",
        "    model=model,\n",
        "    x_test=x_test, \n",
        "    y_test_selected=y_test['numcommentersbin_output'], \n",
        "    label_classes=numcommentersbin_classes,\n",
        "    multi_output=True,\n",
        "    output_idx=1)\n",
        "\n",
        "plot_confusion_matrix(y_true=y_true, y_pred=y_pred, normalize=True, class_order=numcommentersbin_classes)\n"
      ],
      "execution_count": 8,
      "outputs": [
        {
          "output_type": "stream",
          "text": [
            "Size of train set: 170220 records\n",
            "Size of test set: 42554 records\n",
            "Using 5872 unique values for subreddit\n",
            "Using 2039 unique values for submitter\n",
            "Using 6 unique values for ScoreBin\n",
            "Using 6 unique values for NumCommentersBin\n",
            "Train on 153198 samples, validate on 17022 samples\n",
            "Epoch 1/1\n",
            " - 107s - loss: 0.0092 - scorebin_output_loss: 0.0044 - numcommentersbin_output_loss: 0.0048 - scorebin_output_acc: 0.7941 - scorebin_output_top_k_accuracy: 0.8910 - numcommentersbin_output_acc: 0.7517 - numcommentersbin_output_top_k_accuracy: 0.8856 - val_loss: 0.0087 - val_scorebin_output_loss: 0.0043 - val_numcommentersbin_output_loss: 0.0045 - val_scorebin_output_acc: 0.7712 - val_scorebin_output_top_k_accuracy: 0.8777 - val_numcommentersbin_output_acc: 0.7343 - val_numcommentersbin_output_top_k_accuracy: 0.8688\n",
            "Test metrics: total loss: 1.197; output_1 loss: 0.555; output_2 loss: 0.642; output_1 top 1 accuracy: 0.774; output_1 top 2 accuracy: 0.881; output_2 top 1 accuracy: 0.737; output_2 top 2 accuracy: 0.869;\n"
          ],
          "name": "stdout"
        },
        {
          "output_type": "display_data",
          "data": {
            "image/png": "[encoded data removed]",
            "text/plain": [
              "<matplotlib.figure.Figure at 0x7f309562b710>"
            ]
          },
          "metadata": {
            "tags": []
          }
        }
      ]
    }
  ]
}